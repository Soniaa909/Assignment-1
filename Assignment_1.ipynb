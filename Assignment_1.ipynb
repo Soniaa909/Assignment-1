{
  "nbformat": 4,
  "nbformat_minor": 0,
  "metadata": {
    "colab": {
      "provenance": []
    },
    "kernelspec": {
      "name": "python3",
      "display_name": "Python 3"
    },
    "language_info": {
      "name": "python"
    }
  },
  "cells": [
    {
      "cell_type": "markdown",
      "source": [
        "1.What is Python, and why is it popular?\n",
        "  - Python is a programming language.\n",
        "  It is popular because of its ease of learning, versatility, extensive libraries, a large and supportive community, and its suitability for various applications, including data science, AI and web development.\n",
        "\n",
        "2.What is an interpreter in Python?\n",
        " - In python. an interpreter is a program that reads and executes Python code line by line, translating it into machine-readable instructions.\n",
        "\n",
        "3.What are pre-defined keywords in Python?\n",
        " - These are reserved words in Python with special meaning so interpreter can understand them. They perform specific tasks in python programing and are a part of its syntax.\n",
        "\n",
        "4.Can keywords be used as variable names?\n",
        " - No, keywords cannot be used as variable names.\n",
        "\n",
        "5.What is mutability in Python?\n",
        " - In python, mutability refers to an object's ability to be changed after it's created. Mutable objects like lists and dictionaries can be modified.\n",
        "\n",
        "6.Why are lists mutable, but tuples are immutable?\n",
        " - Lists are mutable as lists can be modified, meaning their elements can be changed, added or removed after creation. But tuples are immutable as they cannot be modified after creation. Any attempt to change an element will result in an error.\n",
        "\n",
        "7.What is the difference between “==” and “is” operators in Python?\n",
        " - In python \"==\" checks for value equality i.e whether two objects have the same value, while \"is\" checks for object identity i.e whether two variables point to the same object in memory.\n",
        "\n",
        "8.What are logical operators in Python?\n",
        " - Logical operators are used to combile or modify boolean expressions, ultimately returning a boolean value (true or false) based on the truthiness of the input conditions. Ex- and, or, not\n",
        "\n",
        "\n",
        "\n",
        "\n"
      ],
      "metadata": {
        "id": "EObUvRw8RTho"
      }
    },
    {
      "cell_type": "code",
      "source": [
        "# and operator\n",
        "print(True and True)  #Output: True\n",
        "print(True and False)  #Output: False\n",
        "print(False and True)  #Output: False\n",
        "print(False and False)  #Output: False\n",
        "\n",
        "# or operator\n",
        "print(True or True)  #Output: True\n",
        "print(True or False)  #Output: True\n",
        "print(False or True)  #Output: True\n",
        "print(False or False)  #Output: False\n",
        "\n",
        "# not operator\n",
        "print(not true) #Output: False\n",
        "print(not False) #Output: True"
      ],
      "metadata": {
        "id": "tXt0yMy3MzrM"
      },
      "execution_count": null,
      "outputs": []
    },
    {
      "cell_type": "markdown",
      "source": [
        "9.What is type casting in Python?\n",
        " - Type casting, also referred to as type conversion, is the process of changing one data type to another in Python\n",
        "\n",
        "10.What is the difference between implicit and explicit type casting?\n",
        " - In python, implicit type casting happens automatically by the interpreter while explicit type casting is done by the programmer using built-in functions like int(), float() or str().\n",
        "\n",
        "11.What is the purpose of conditional statements in Python?\n",
        " - Conditional statements in python like if, else, elif allow the code to make decisions and execute different blocks of code based on whether a condition is true or false, enabling dynamic and flexible program execution.\n"
      ],
      "metadata": {
        "id": "L2eYPL-gN12Y"
      }
    },
    {
      "cell_type": "markdown",
      "source": [
        "12.How does the elif statement work?\n",
        " - The elif statement in Python is used to check multiple conditions. It stands for \"else if\" and allow to add multiple conditions after an initial if statement."
      ],
      "metadata": {
        "id": "XvhUMW5_QeYf"
      }
    },
    {
      "cell_type": "code",
      "source": [
        "a = 33\n",
        "b = 38\n",
        "\n",
        "if b > a:\n",
        " print(\"b is greater than a\")\n",
        "elif a == b:\n",
        " print(\"a and b are equal\")\n",
        "else:\n",
        " print(\"a is greater than b\")"
      ],
      "metadata": {
        "id": "F_7Itnw2Q59v"
      },
      "execution_count": null,
      "outputs": []
    },
    {
      "cell_type": "markdown",
      "source": [
        "13.What is the difference between for and while loops?\n",
        " - In python, “for” loops are used for iterating over a sequence of elements, while “while” loops are used for executing code until a specified condition becomes false.\n",
        "\n",
        "14.Describe a scenario where a while loop is more suitable than a for loop.\n",
        " - The loop starts with counter set to 1.\n",
        "The while loop continues to execute as long as the condition counter <= 5 is true.\n",
        "Inside the loop, it prints the current value of counter and then increments counter by 1.\n",
        "Once counter exceeds 5, the loop stops."
      ],
      "metadata": {
        "id": "JXB-FztmRLvO"
      }
    },
    {
      "cell_type": "code",
      "source": [
        "# Initialize the counter variable\n",
        "counter = 1\n",
        "\n",
        "# Start the while loop\n",
        "while counter <= 5:\n",
        "    print(counter)\n",
        "    counter += 1  # Increment the counter by 1"
      ],
      "metadata": {
        "id": "Eh3hox3xXCfO"
      },
      "execution_count": null,
      "outputs": []
    },
    {
      "cell_type": "code",
      "source": [
        "# Write a Python program to print \"Hello, World!\n",
        "\n",
        "print(\"Hello, World!\")\n",
        "\n",
        "#Write a Python program that displays your name and age.\n",
        "\n",
        "name = \"Sonia\"\n",
        "age = \"25\"\n",
        "print(f\"My name is {name} and I am {age} years old.\")\n",
        "\n",
        "# Write code to print all the pre-defined keywords in Python using the keyword library.\n",
        "\n",
        "help('keywords')\n",
        "\n"
      ],
      "metadata": {
        "id": "ljgDRg7xYc5H"
      },
      "execution_count": null,
      "outputs": []
    },
    {
      "cell_type": "code",
      "source": [
        "# Write a program that checks if a given word is a Python keyword.\n",
        "\n",
        "import keyword\n",
        "\n",
        "def is_python_keyword(word):\n",
        "  \"\"\"Checks if a given word is a Python keyword.\"\"\"\n",
        "  return keyword.iskeyword(word)\n",
        "\n",
        "# Get input from the user\n",
        "word = input(\"Enter a word: \")\n",
        "\n",
        "# Check if the word is a keyword\n",
        "if is_python_keyword(word):\n",
        "  print(f\"{word} is a Python keyword.\")\n",
        "else:\n",
        "  print(f\"{word} is not a Python keyword.\")\n"
      ],
      "metadata": {
        "id": "jILVF7xgulIs"
      },
      "execution_count": null,
      "outputs": []
    },
    {
      "cell_type": "code",
      "source": [
        "#Create a list and tuple in Python, and demonstrate how attempting to change an element works differently for each.\n",
        "\n",
        "# Creating a list\n",
        "my_list = [1, 2, 3]\n",
        "print(\"Original List:\", my_list)\n",
        "\n",
        "# Modifying an element in the list\n",
        "my_list[1] = 42\n",
        "print(\"Modified List:\", my_list)\n",
        "\n",
        "# Creating a tuple\n",
        "my_tuple = (1, 2, 3)\n",
        "print(\"Original Tuple:\", my_tuple)\n",
        "\n",
        "# Attempting to modify an element in the tuple\n",
        "try:\n",
        "    my_tuple[1] = 42  # This will raise an error\n",
        "except TypeError as e:\n",
        "    print(\"Error:\", e)\n"
      ],
      "metadata": {
        "id": "kS6EjjKruyL7"
      },
      "execution_count": null,
      "outputs": []
    },
    {
      "cell_type": "code",
      "source": [
        "# Write a function to demonstrate the behavior of mutable and immutable arguments.\n",
        "\n",
        "def demonstrate_mutable_immutable(mutable_list, immutable_var):\n",
        "    # Modify the mutable argument (list)\n",
        "    mutable_list.append(100)\n",
        "    print(\"Inside function (after modifying list):\", mutable_list)\n",
        "\n",
        "    # Modify the immutable argument (integer)\n",
        "    immutable_var += 50\n",
        "    print(\"Inside function (after modifying integer):\", immutable_var)\n",
        "\n",
        "# Define a mutable and an immutable variable\n",
        "my_list = [1, 2, 3]\n",
        "my_number = 10\n",
        "\n",
        "# Print before function call\n",
        "print(\"Before function call:\")\n",
        "print(\"List:\", my_list)\n",
        "print(\"Integer:\", my_number)\n",
        "\n",
        "# Call the function\n",
        "demonstrate_mutable_immutable(my_list, my_number)\n",
        "\n",
        "# Print after function call\n",
        "print(\"\\nAfter function call:\")\n",
        "print(\"List:\", my_list)  # Will be modified\n",
        "print(\"Integer:\", my_number)  # Will remain unchanged\n"
      ],
      "metadata": {
        "id": "CkdyNzXOufom"
      },
      "execution_count": null,
      "outputs": []
    },
    {
      "cell_type": "code",
      "source": [
        "#Write a program to demonstrate the use of logical operators.\n",
        "\n",
        "def logical_operators_demo(a, b):\n",
        "    print(f\"a = {a}, b = {b}\\n\")\n",
        "\n",
        "    # AND Operator (both conditions must be True)\n",
        "    print(\"a > 5 and b < 10:\", a > 5 and b < 10)\n",
        "\n",
        "    # OR Operator (at least one condition must be True)\n",
        "    print(\"a > 5 or b > 10:\", a > 5 or b > 10)\n",
        "\n",
        "    # NOT Operator (negates the condition)\n",
        "    print(\"not(a > 5):\", not (a > 5))\n",
        "\n",
        "# Test values\n",
        "a = 7\n",
        "b = 8\n",
        "\n",
        "# Call the function\n",
        "logical_operators_demo(a, b)"
      ],
      "metadata": {
        "id": "iXuFyrmnuYfo"
      },
      "execution_count": null,
      "outputs": []
    },
    {
      "cell_type": "code",
      "source": [
        " # Write a Python program to convert user input from string to integer, float, and boolean types.\n",
        "\n",
        " # Get user input as a string\n",
        "user_input = input(\"Enter a value: \")\n",
        "\n",
        "# Convert to integer\n",
        "try:\n",
        "    int_value = int(user_input)\n",
        "    print(\"Integer:\", int_value)\n",
        "except ValueError:\n",
        "    print(\"Cannot convert to Integer\")\n",
        "\n",
        "# Convert to float\n",
        "try:\n",
        "    float_value = float(user_input)\n",
        "    print(\"Float:\", float_value)\n",
        "except ValueError:\n",
        "    print(\"Cannot convert to Float\")\n",
        "\n",
        "# Convert to boolean\n",
        "bool_value = bool(user_input)  # Non-empty string evaluates to True\n",
        "print(\"Boolean:\", bool_value)\n"
      ],
      "metadata": {
        "id": "JBVrvRBOu2qj"
      },
      "execution_count": null,
      "outputs": []
    },
    {
      "cell_type": "code",
      "source": [
        "# Write code to demonstrate type casting with list elements.\n",
        "\n",
        "# List with mixed data types\n",
        "mixed_list = ['10', '20', '30', 40, 50.5, True]\n",
        "\n",
        "# Convert all elements to integers\n",
        "int_list = [int(x) for x in mixed_list]\n",
        "print(\"Integer List:\", int_list)\n",
        "\n",
        "# Convert all elements to floats\n",
        "float_list = [float(x) for x in mixed_list]\n",
        "print(\"Float List:\", float_list)\n",
        "\n",
        "# Convert all elements to strings\n",
        "string_list = [str(x) for x in mixed_list]\n",
        "print(\"String List:\", string_list)\n",
        "\n",
        "# Convert all elements to booleans\n",
        "bool_list = [bool(x) for x in mixed_list]\n",
        "print(\"Boolean List:\", bool_list)\n"
      ],
      "metadata": {
        "id": "0rBlpBudvOPo"
      },
      "execution_count": null,
      "outputs": []
    },
    {
      "cell_type": "code",
      "source": [
        "# Write a program that checks if a number is positive, negative, or zero.\n",
        "\n",
        "def check_number(num):\n",
        "    if num > 0:\n",
        "        return \"The number is positive.\"\n",
        "    elif num < 0:\n",
        "        return \"The number is negative.\"\n",
        "    else:\n",
        "        return \"The number is zero.\"\n",
        "\n",
        "# Example usage:\n",
        "number = float(input(\"Enter a number: \"))\n",
        "result = check_number(number)\n",
        "print(result)\n"
      ],
      "metadata": {
        "id": "VA6X7aFEwyfY"
      },
      "execution_count": null,
      "outputs": []
    },
    {
      "cell_type": "code",
      "source": [
        "#  Write a for loop to print numbers from 1 to 100.\n",
        "\n",
        "for i in range(1, 101):\n",
        "    print(i)\n"
      ],
      "metadata": {
        "id": "wgH4XrWmxDLn"
      },
      "execution_count": null,
      "outputs": []
    },
    {
      "cell_type": "code",
      "source": [
        "# Write a Python program to find the sum of all even numbers between 1 and 500\n",
        "\n",
        "# Initialize sum\n",
        "sum_even = 0\n",
        "\n",
        "# Loop through even numbers from 2 to 500\n",
        "for num in range(2, 501, 2):\n",
        "    sum_even += num\n",
        "\n",
        "# Print the result\n",
        "print(\"The sum of all even numbers between 1 and 500 is:\", sum_even)"
      ],
      "metadata": {
        "id": "P_-HtV_ixTvh"
      },
      "execution_count": null,
      "outputs": []
    },
    {
      "cell_type": "code",
      "source": [
        "#  Write a program to reverse a string using a while loop.\n",
        "\n",
        "def reverse_string(s):\n",
        "    reversed_str = \"\"\n",
        "    i = len(s) - 1  # Start from the last index\n",
        "\n",
        "    while i >= 0:\n",
        "        reversed_str += s[i]\n",
        "        i -= 1  # Move to the previous character\n",
        "\n",
        "    return reversed_str\n",
        "\n",
        "# Example usage:\n",
        "string = input(\"Enter a string: \")\n",
        "reversed_string = reverse_string(string)\n",
        "print(\"Reversed string:\", reversed_string)"
      ],
      "metadata": {
        "id": "2WxvOp6Hxuvn"
      },
      "execution_count": null,
      "outputs": []
    },
    {
      "cell_type": "code",
      "source": [
        "# Write a Python program to calculate the factorial of a number provided by the user using a while loop.\n",
        "\n",
        "def factorial(n):\n",
        "    if n < 0:\n",
        "        return \"Factorial is not defined for negative numbers.\"\n",
        "\n",
        "    result = 1\n",
        "    while n > 0:\n",
        "        result *= n\n",
        "        n -= 1  # Decrease n by 1 in each iteration\n",
        "\n",
        "    return result\n",
        "\n",
        "# Example usage:\n",
        "num = int(input(\"Enter a number: \"))\n",
        "print(\"Factorial of\", num, \"is:\", factorial(num))"
      ],
      "metadata": {
        "id": "yyeBUglQyEys"
      },
      "execution_count": null,
      "outputs": []
    }
  ]
}