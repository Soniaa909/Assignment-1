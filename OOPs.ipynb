{
  "nbformat": 4,
  "nbformat_minor": 0,
  "metadata": {
    "colab": {
      "provenance": []
    },
    "kernelspec": {
      "name": "python3",
      "display_name": "Python 3"
    },
    "language_info": {
      "name": "python"
    }
  },
  "cells": [
    {
      "cell_type": "markdown",
      "source": [
        "1.What is Object-Oriented Programming (OOP)?\n",
        " - Object-Oriented Programming (OOP) is a programming paradigm based on the concept of objects. These objects encapsulate data (attributes) and behavior (methods) into reusable structures, making the code more modular, scalable, and easier to maintain.\n",
        "\n",
        "2.What is a class in OOP?\n",
        " - A class in Object-Oriented Programming (OOP) is a blueprint for creating objects. It defines the attributes (variables) and methods (functions) that objects of that class will have.\n",
        "\n",
        "3.What is an object in OOP?\n",
        " - An object in Object-Oriented Programming (OOP) is an instance of a class. It represents a real-world entity with attributes (data) and methods (behavior) defined by its class."
      ],
      "metadata": {
        "id": "NHEtMmsNPYei"
      }
    },
    {
      "cell_type": "code",
      "source": [
        "class Car:\n",
        "    def __init__(self, brand, model, color):\n",
        "        self.brand = brand  # Attribute\n",
        "        self.model = model  # Attribute\n",
        "        self.color = color  # Attribute\n",
        "\n",
        "    def display_info(self):  # Method\n",
        "        return f\"{self.color} {self.brand} {self.model}\"\n",
        "\n",
        "# Creating objects (instances) of the Car class\n",
        "car1 = Car(\"Toyota\", \"Corolla\", \"Red\")\n",
        "car2 = Car(\"Tesla\", \"Model S\", \"Blue\")\n",
        "\n",
        "# Accessing attributes and methods\n",
        "print(car1.display_info())\n",
        "print(car2.display_info())"
      ],
      "metadata": {
        "colab": {
          "base_uri": "https://localhost:8080/"
        },
        "id": "Z84rVU2VQCor",
        "outputId": "2e1e36d3-01cc-4be0-ae2f-b240f9acbde9"
      },
      "execution_count": 1,
      "outputs": [
        {
          "output_type": "stream",
          "name": "stdout",
          "text": [
            "Red Toyota Corolla\n",
            "Blue Tesla Model S\n"
          ]
        }
      ]
    },
    {
      "cell_type": "markdown",
      "source": [
        "4.What is the difference between abstraction and encapsulation?\n",
        " - Abstraction hides the implementation details and shows only the necessary features while encapsulation restricts direct access to data by wrapping it inside a class and providing controlled access.\n",
        " -Abstraction simplify complex systems by exposing only relevant parts while encapsulation protect and control how data is accessed and modified.\n",
        " - Abstraction achieved using abstract classes and interfaces while encapsulation achieved using private/public/protected access modifiers.\n",
        " - Abstraction focuses on what an object does (behavior) while encapsulation focuses on how data is stored and protected.\n",
        "Example of abstraction--"
      ],
      "metadata": {
        "id": "CbYaU3ewQM_o"
      }
    },
    {
      "cell_type": "code",
      "source": [
        "from abc import ABC, abstractmethod\n",
        "\n",
        "# Abstract class\n",
        "class Animal(ABC):\n",
        "    @abstractmethod\n",
        "    def make_sound(self):  # Abstract method\n",
        "        pass\n",
        "\n",
        "# Concrete classes implementing abstraction\n",
        "class Dog(Animal):\n",
        "    def make_sound(self):\n",
        "        return \"Woof!\"\n",
        "\n",
        "class Cat(Animal):\n",
        "    def make_sound(self):\n",
        "        return \"Meow!\"\n",
        "\n",
        "dog = Dog()\n",
        "cat = Cat()\n",
        "print(dog.make_sound())\n",
        "print(cat.make_sound())"
      ],
      "metadata": {
        "colab": {
          "base_uri": "https://localhost:8080/"
        },
        "id": "vj4CmOb6REs5",
        "outputId": "56af792b-6b45-4d2b-a715-563bdd005348"
      },
      "execution_count": null,
      "outputs": [
        {
          "output_type": "stream",
          "name": "stdout",
          "text": [
            "Woof!\n",
            "Meow!\n"
          ]
        }
      ]
    },
    {
      "cell_type": "markdown",
      "source": [
        "Example of encapsulation -"
      ],
      "metadata": {
        "id": "1nGgN0jqRIWi"
      }
    },
    {
      "cell_type": "code",
      "source": [
        "class Person:\n",
        "    def __init__(self, name, age):\n",
        "        self.name = name  # Public attribute\n",
        "        self.__age = age  # Private attribute (Encapsulation)\n",
        "\n",
        "    def get_age(self):  # Getter method\n",
        "        return self.__age\n",
        "\n",
        "    def set_age(self, age):  # Setter method\n",
        "        if age > 0:\n",
        "            self.__age = age\n",
        "        else:\n",
        "            print(\"Age must be positive!\")\n",
        "\n",
        "person = Person(\"Alice\", 25)\n",
        "print(person.get_age())\n",
        "person.set_age(30)\n",
        "print(person.get_age())"
      ],
      "metadata": {
        "colab": {
          "base_uri": "https://localhost:8080/"
        },
        "id": "qqjMFzrcRN9B",
        "outputId": "81a7045d-628f-48ea-e48f-04da3824aaab"
      },
      "execution_count": null,
      "outputs": [
        {
          "output_type": "stream",
          "name": "stdout",
          "text": [
            "25\n",
            "30\n"
          ]
        }
      ]
    },
    {
      "cell_type": "markdown",
      "source": [
        "5.What are dunder methods in Python?\n",
        " - Dunder methods (short for Double UNDERSCORE methods) are special methods in Python that start and end with double underscores (__method__). They are also known as magic methods because they enable built-in behavior for Python objects.\n",
        "\n",
        "6.Explain the concept of inheritance in OOP.\n",
        " - Inheritance is a fundamental concept in OOP that allows a child class to acquire the properties and behaviors of a parent class. It promotes code reuse and helps in building a hierarchy of classes.\n",
        " Inheritance in OOP is used due to\n",
        "> Code Reusability – Avoids redundancy by reusing existing code.\n",
        "> Extensibility – Allows adding new features without modifying existing code.\n",
        "> Hierarchy Representation – Models real-world relationships between entities.\n",
        "\n",
        "Types of Inheritance in Python-\n",
        "\n",
        ">Single Inheritance – One child class inherits from one parent class.\n",
        "\n",
        ">Multiple Inheritance – A child class inherits from multiple parent classes.\n",
        "\n",
        ">Multilevel Inheritance – A child class inherits from another child class.\n",
        "\n",
        ">Hierarchical Inheritance – Multiple child classes inherit from a single parent class.\n",
        "\n",
        ">Hybrid Inheritance – A combination of multiple types of inheritance.\n",
        "\n"
      ],
      "metadata": {
        "id": "TJJcS2bvRTlp"
      }
    },
    {
      "cell_type": "code",
      "source": [
        "#Single Inheritance\n",
        "# Parent class\n",
        "class Animal:\n",
        "    def __init__(self, name):\n",
        "        self.name = name\n",
        "\n",
        "    def speak(self):\n",
        "        return \"Animal makes a sound\"\n",
        "\n",
        "# Child class inheriting from Animal\n",
        "class Dog(Animal):\n",
        "    def speak(self):  # Overriding parent method\n",
        "        return \"Woof!\"\n",
        "\n",
        "dog = Dog(\"Buddy\")\n",
        "print(dog.name)\n",
        "print(dog.speak())"
      ],
      "metadata": {
        "colab": {
          "base_uri": "https://localhost:8080/"
        },
        "id": "kOX0ezzSSdXQ",
        "outputId": "d6afa041-3359-4d57-affd-9bb5a850381d"
      },
      "execution_count": null,
      "outputs": [
        {
          "output_type": "stream",
          "name": "stdout",
          "text": [
            "Buddy\n",
            "Woof!\n"
          ]
        }
      ]
    },
    {
      "cell_type": "code",
      "source": [
        "#Multiple Inheritance\n",
        "class Flyer:\n",
        "    def fly(self):\n",
        "        return \"Can fly\"\n",
        "\n",
        "class Swimmer:\n",
        "    def swim(self):\n",
        "        return \"Can swim\"\n",
        "\n",
        "# Multiple inheritance\n",
        "class Duck(Flyer, Swimmer):\n",
        "    pass\n",
        "\n",
        "duck = Duck()\n",
        "print(duck.fly())\n",
        "print(duck.swim())"
      ],
      "metadata": {
        "colab": {
          "base_uri": "https://localhost:8080/"
        },
        "id": "oKvXvT-fSi3a",
        "outputId": "3a10b832-73a8-4d41-9b50-4a8c0889a79e"
      },
      "execution_count": null,
      "outputs": [
        {
          "output_type": "stream",
          "name": "stdout",
          "text": [
            "Can fly\n",
            "Can swim\n"
          ]
        }
      ]
    },
    {
      "cell_type": "code",
      "source": [
        "#Multilevel Inheritance\n",
        "class Vehicle:\n",
        "    def move(self):\n",
        "        return \"Vehicle is moving\"\n",
        "\n",
        "class Car(Vehicle):\n",
        "    def wheels(self):\n",
        "        return \"Car has 4 wheels\"\n",
        "\n",
        "class ElectricCar(Car):\n",
        "    def battery(self):\n",
        "        return \"Electric car has a battery\"\n",
        "\n",
        "tesla = ElectricCar()\n",
        "print(tesla.move())\n",
        "print(tesla.wheels())\n",
        "print(tesla.battery())"
      ],
      "metadata": {
        "colab": {
          "base_uri": "https://localhost:8080/"
        },
        "id": "odBXAM7DSqk-",
        "outputId": "dbd8cdfd-913e-4e46-9de8-5bd19b9d3fb2"
      },
      "execution_count": null,
      "outputs": [
        {
          "output_type": "stream",
          "name": "stdout",
          "text": [
            "Vehicle is moving\n",
            "Car has 4 wheels\n",
            "Electric car has a battery\n"
          ]
        }
      ]
    },
    {
      "cell_type": "markdown",
      "source": [
        "7.What is polymorphism in OOP?\n",
        " - Polymorphism means \"many forms\" and allows objects of different classes to be treated as objects of a common superclass. It enables a single interface to be used with different underlying types.\n",
        "\n",
        "8.How is encapsulation achieved in Python?\n",
        " - Encapsulation is achieved using access modifiers:\n",
        "\n",
        "Access Modifier\t    Symbol\t            Description\n",
        "Public\t           variable\t      Can be accessed from anywhere.\n",
        "Protected\t         variable\t      Suggests limited access (convention).\n",
        "Private\t           variable\t      Cannot be accessed directly outside the class."
      ],
      "metadata": {
        "id": "vikwsBViS326"
      }
    },
    {
      "cell_type": "code",
      "source": [
        "#Public\n",
        "class Person:\n",
        "    def __init__(self, name, age):\n",
        "        self.name = name  # Public attribute\n",
        "        self.age = age    # Public attribute\n",
        "\n",
        "person = Person(\"Alice\", 25)\n",
        "print(person.name)\n",
        "print(person.age)"
      ],
      "metadata": {
        "colab": {
          "base_uri": "https://localhost:8080/"
        },
        "id": "JvaAKzR_TweI",
        "outputId": "06c610f9-a3ff-41d3-fcf9-e8ec696c3ca7"
      },
      "execution_count": null,
      "outputs": [
        {
          "output_type": "stream",
          "name": "stdout",
          "text": [
            "Alice\n",
            "25\n"
          ]
        }
      ]
    },
    {
      "cell_type": "code",
      "source": [
        "#Protected\n",
        "class Person:\n",
        "    def __init__(self, name, age):\n",
        "        self._name = name  # Protected attribute\n",
        "        self._age = age    # Protected attribute\n",
        "\n",
        "person = Person(\"Alice\", 25)\n",
        "print(person._name)"
      ],
      "metadata": {
        "colab": {
          "base_uri": "https://localhost:8080/"
        },
        "id": "oVF6W8trT1am",
        "outputId": "29ad25a4-a2b4-42d0-8b6e-489bacee512b"
      },
      "execution_count": null,
      "outputs": [
        {
          "output_type": "stream",
          "name": "stdout",
          "text": [
            "Alice\n"
          ]
        }
      ]
    },
    {
      "cell_type": "code",
      "source": [
        "#Private\n",
        "class Person:\n",
        "    def __init__(self, name, age):\n",
        "        self.__name = name  # Private attribute\n",
        "        self.__age = age    # Private attribute\n",
        "\n",
        "person = Person(\"Alice\", 25)\n",
        "print(person.__name)  #AttributeError: 'Person' object has no attribute '__name'."
      ],
      "metadata": {
        "id": "TNxTxAVcT8cc"
      },
      "execution_count": null,
      "outputs": []
    },
    {
      "cell_type": "markdown",
      "source": [
        "9.What is a constructor in Python?\n",
        " - A constructor is a special method in Python used to initialize objects when they are created. It automatically runs when a new instance of a class is created.\n",
        "\n",
        "In Python, the constructor method is named __init__()."
      ],
      "metadata": {
        "id": "RCPLVB_iUKJa"
      }
    },
    {
      "cell_type": "code",
      "source": [
        "class Person:\n",
        "    def __init__(self, name, age):  # Constructor\n",
        "        self.name = name  # Instance variable\n",
        "        self.age = age    # Instance variable\n",
        "\n",
        "# Creating an object\n",
        "person1 = Person(\"Alabama\", 55)\n",
        "print(person1.name)\n",
        "print(person1.age)"
      ],
      "metadata": {
        "colab": {
          "base_uri": "https://localhost:8080/"
        },
        "id": "cCplAD_UUUPO",
        "outputId": "79262fb4-5746-4043-8606-ca422d0a361a"
      },
      "execution_count": null,
      "outputs": [
        {
          "output_type": "stream",
          "name": "stdout",
          "text": [
            "Alabama\n",
            "55\n"
          ]
        }
      ]
    },
    {
      "cell_type": "markdown",
      "source": [
        "10.What are class and static methods in Python?\n",
        " - Class methods are defined using the @classmethod decorator. It takes cls (class itself) as the first parameter instead of self. It is used when we need to modify or work with class-level attributes."
      ],
      "metadata": {
        "id": "xBvZ4MO9Udxa"
      }
    },
    {
      "cell_type": "code",
      "source": [
        "#class method\n",
        "class Car:\n",
        "    wheels = 4  # Class attribute\n",
        "\n",
        "    def __init__(self, brand, model):\n",
        "        self.brand = brand\n",
        "        self.model = model\n",
        "\n",
        "    @classmethod\n",
        "    def change_wheels(cls, new_wheel_count):\n",
        "        cls.wheels = new_wheel_count  # Modifies class attribute\n",
        "\n",
        "# Before modification\n",
        "print(Car.wheels)\n",
        "\n",
        "# Modifying using class method\n",
        "Car.change_wheels(6)\n",
        "print(Car.wheels)"
      ],
      "metadata": {
        "colab": {
          "base_uri": "https://localhost:8080/"
        },
        "id": "qKhrLfbvWN7t",
        "outputId": "ac9c0271-5a02-4c1c-80a6-82b959713389"
      },
      "execution_count": null,
      "outputs": [
        {
          "output_type": "stream",
          "name": "stdout",
          "text": [
            "4\n",
            "6\n"
          ]
        }
      ]
    },
    {
      "cell_type": "markdown",
      "source": [
        "Static methods are defined using the @staticmethod decorator.It does NOT take self or cls as a parameter.It behaves like a regular function but inside a class.It is used when a method does not need access to instance or class attributes."
      ],
      "metadata": {
        "id": "95v7cq07WTq6"
      }
    },
    {
      "cell_type": "code",
      "source": [
        "class MathUtils:\n",
        "    @staticmethod\n",
        "    def add(x, y):\n",
        "        return x + y\n",
        "\n",
        "# Using the static method\n",
        "result = MathUtils.add(5, 10)\n",
        "print(result)"
      ],
      "metadata": {
        "colab": {
          "base_uri": "https://localhost:8080/"
        },
        "id": "qR0cmf1nWihd",
        "outputId": "e77e78f3-21b3-4ff4-c1c4-a94ae222e3b9"
      },
      "execution_count": null,
      "outputs": [
        {
          "output_type": "stream",
          "name": "stdout",
          "text": [
            "15\n"
          ]
        }
      ]
    },
    {
      "cell_type": "markdown",
      "source": [
        "11.What is method overloading in Python?\n",
        " - Method overloading in Python refers to the ability to define multiple methods in the same class with the same name but with different parameters (e.g., different number or types of arguments). However, Python does not support method overloading in the traditional sense like some other languages such as Java or C++."
      ],
      "metadata": {
        "id": "uz2uZzfKWo4w"
      }
    },
    {
      "cell_type": "code",
      "source": [
        "class Greet:\n",
        "    def say_hello(self, name=None):\n",
        "        if name:\n",
        "            print(f\"Hello, {name}!\")\n",
        "        else:\n",
        "            print(\"Hello!\")\n",
        "\n",
        "g = Greet()\n",
        "g.say_hello()\n",
        "g.say_hello(\"Alice\")"
      ],
      "metadata": {
        "colab": {
          "base_uri": "https://localhost:8080/"
        },
        "id": "4ZyqJdNPod-f",
        "outputId": "afc99495-1715-4a2e-9a3d-e6937740611f"
      },
      "execution_count": null,
      "outputs": [
        {
          "output_type": "stream",
          "name": "stdout",
          "text": [
            "Hello!\n",
            "Hello, Alice!\n"
          ]
        }
      ]
    },
    {
      "cell_type": "markdown",
      "source": [
        "13.What is a property decorator in Python?\n",
        " - The @property decorator in Python is used to define a method as a read-only property—meaning you can access it like an attribute, but it's actually implemented as a method behind the scenes. It allows us to Encapsulate instance variables, add logic to getting/setting/deleting attributes, provide a cleaner interface to our class."
      ],
      "metadata": {
        "id": "Gf6OMGd9op3j"
      }
    },
    {
      "cell_type": "code",
      "source": [
        "class Circle:\n",
        "    def __init__(self, radius):\n",
        "        self._radius = radius\n",
        "\n",
        "    @property\n",
        "    def area(self):\n",
        "        return 3.14 * (self._radius ** 2)\n",
        "\n",
        "c = Circle(5)\n",
        "print(c.area)"
      ],
      "metadata": {
        "colab": {
          "base_uri": "https://localhost:8080/"
        },
        "id": "OaMjm614o6VQ",
        "outputId": "adaea65f-91de-4b66-9d23-2ea180bcb7d5"
      },
      "execution_count": null,
      "outputs": [
        {
          "output_type": "stream",
          "name": "stdout",
          "text": [
            "78.5\n"
          ]
        }
      ]
    },
    {
      "cell_type": "markdown",
      "source": [
        "14.Why is polymorphism important in OOP?\n",
        " - Polymorphism is important in Object-Oriented Programming (OOP) because--\n",
        "\n",
        "    1.*Simplifies code*-We can write code that works with many types of objects without knowing their exact class. This keeps your logic clean and avoids repetitive conditionals."
      ],
      "metadata": {
        "id": "lnOuojtgo9QK"
      }
    },
    {
      "cell_type": "code",
      "source": [
        "# Instead of this:\n",
        "if type(animal) == Dog:\n",
        "    animal.bark()\n",
        "elif type(animal) == Cat:\n",
        "    animal.meow()\n",
        "\n",
        "# You can do this:\n",
        "animal.speak()  # Polymorphism in action"
      ],
      "metadata": {
        "id": "bb6YDtKIpWMt"
      },
      "execution_count": null,
      "outputs": []
    },
    {
      "cell_type": "markdown",
      "source": [
        "   2.*Encapsulation of Behavior *- Each class handles its own version of a method, so the behavior is encapsulated in the class, not scattered across if/else logic.\n",
        "\n",
        "   3.*Extensibility* -We can add new types without changing the code that uses the base class or interface. This follows the Open/Closed Principle (open for extension, closed for modification).\n",
        "\n",
        "   4.*Code Reusability*-Generic functions or loops can operate on a variety of objects, reducing code duplication."
      ],
      "metadata": {
        "id": "m66TP2kHpvOn"
      }
    },
    {
      "cell_type": "code",
      "source": [
        "def print_area(shape):\n",
        "    print(shape.area())\n",
        "\n",
        "#This works whether shape is a Circle, Square, or Triangle—as long as they have an area() method."
      ],
      "metadata": {
        "id": "AyffaUwnqTcX"
      },
      "execution_count": null,
      "outputs": []
    },
    {
      "cell_type": "markdown",
      "source": [
        "16.What is an abstract class in Python?\n",
        " - An abstract class in Python is a blueprint for other classes. It cannot be instantiated on its own and is meant to be subclassed. Abstract classes define abstract methods—methods that must be implemented by any subclass. Python provides abstract classes using the abc module (abc = Abstract Base Classes)."
      ],
      "metadata": {
        "id": "N-fHH7t2qfmJ"
      }
    },
    {
      "cell_type": "code",
      "source": [
        "from abc import ABC, abstractmethod\n",
        "\n",
        "class Animal(ABC):  # Inherit from ABC to make it abstract\n",
        "    @abstractmethod\n",
        "    def speak(self):\n",
        "        pass  # No implementation here\n",
        "\n",
        "class Dog(Animal):\n",
        "    def speak(self):\n",
        "        return \"Woof!\"\n",
        "\n",
        "class Cat(Animal):\n",
        "    def speak(self):\n",
        "        return \"Meow!\"\n",
        "\n",
        "# animal = Animal()  # ❌ Error: can't instantiate abstract class\n",
        "dog = Dog()\n",
        "print(dog.speak())"
      ],
      "metadata": {
        "colab": {
          "base_uri": "https://localhost:8080/"
        },
        "id": "pUxjUYo5q4oN",
        "outputId": "2830bf25-3e88-41a6-877f-f80f099fdbf5"
      },
      "execution_count": null,
      "outputs": [
        {
          "output_type": "stream",
          "name": "stdout",
          "text": [
            "Woof!\n"
          ]
        }
      ]
    },
    {
      "cell_type": "markdown",
      "source": [
        "16.What are the advantages of OOP?\n",
        " - Advantages of OOP--\n",
        "  1. Modularity: Code is organized into classes, making it easier to manage and work on pieces independently. Each class is a self-contained module with its own data and behavior.\n",
        "  2. Reusability: Through inheritance, you can reuse existing code and extend it without rewriting. This reduces duplication and speeds up development.\n",
        "  3. Encapsulation: OOP hides internal state and requires all interaction to go through well-defined interfaces.This protects the object’s integrity by preventing unintended interference.\n",
        "  4. Polymorphism: We can use the same interface for different types of objects. Functions and methods can operate on objects of different classes as long as they follow a shared interface.\n",
        "  5. Maintainability: Easier to debug, update, and scale since code is modular and loosely coupled. Changes in one class often have minimal impact on the rest of the system."
      ],
      "metadata": {
        "id": "CsE63JT8q_DK"
      }
    },
    {
      "cell_type": "markdown",
      "source": [
        "17.What is the difference between a class variable and an instance variable?\n",
        " - Instance Variable are defined inside methods (usually __init__) using self.They are unique to each object (instance) of the class.It changes to one instance do not affect others."
      ],
      "metadata": {
        "id": "ltUlygNbsScX"
      }
    },
    {
      "cell_type": "code",
      "source": [
        "class Dog:\n",
        "    def __init__(self, name):\n",
        "        self.name = name  # Instance variable\n",
        "\n",
        "dog1 = Dog(\"Buddy\")\n",
        "dog2 = Dog(\"Max\")\n",
        "\n",
        "print(dog1.name)\n",
        "print(dog2.name)"
      ],
      "metadata": {
        "colab": {
          "base_uri": "https://localhost:8080/"
        },
        "id": "IflUZ6HpsmVr",
        "outputId": "468c89ae-9663-4f1e-c246-7d0bbd42f518"
      },
      "execution_count": null,
      "outputs": [
        {
          "output_type": "stream",
          "name": "stdout",
          "text": [
            "Buddy\n",
            "Max\n"
          ]
        }
      ]
    },
    {
      "cell_type": "markdown",
      "source": [
        " Class Variable is defined directly in the class body, outside of any method.It is shared across all instances of the class.It is changing the class variable affects all instances unless overridden."
      ],
      "metadata": {
        "id": "gVJDh-8ospY-"
      }
    },
    {
      "cell_type": "code",
      "source": [
        "class Dog:\n",
        "    species = \"Canine\"  # Class variable\n",
        "\n",
        "    def __init__(self, name):\n",
        "        self.name = name  # Instance variable\n",
        "\n",
        "dog1 = Dog(\"Buddy\")\n",
        "dog2 = Dog(\"Max\")\n",
        "\n",
        "print(dog1.species)\n",
        "print(dog2.species)\n",
        "\n",
        "Dog.species = \"Doggo\"  # Change at class level\n",
        "\n",
        "print(dog1.species)\n",
        "print(dog2.species)"
      ],
      "metadata": {
        "colab": {
          "base_uri": "https://localhost:8080/"
        },
        "id": "MnjGGYFbs4bG",
        "outputId": "a04d7bf6-3b81-481c-f88a-bb9ec61bd5ce"
      },
      "execution_count": null,
      "outputs": [
        {
          "output_type": "stream",
          "name": "stdout",
          "text": [
            "Canine\n",
            "Canine\n",
            "Doggo\n",
            "Doggo\n"
          ]
        }
      ]
    },
    {
      "cell_type": "markdown",
      "source": [
        "18.What is multiple inheritance in Python?\n",
        " - Multiple inheritance is a feature in Python where a class can inherit from more than one parent class. This means the child class gets access to attributes and methods of all the parent classes.\n"
      ],
      "metadata": {
        "id": "R5B1UQS2tBUo"
      }
    },
    {
      "cell_type": "code",
      "source": [
        "class Father:\n",
        "    def skills(self):\n",
        "        print(\"Gardening, Carpentry\")\n",
        "\n",
        "class Mother:\n",
        "    def skills(self):\n",
        "        print(\"Cooking, Painting\")\n",
        "\n",
        "class Child(Father, Mother):\n",
        "    pass\n",
        "\n",
        "c = Child()\n",
        "c.skills()"
      ],
      "metadata": {
        "colab": {
          "base_uri": "https://localhost:8080/"
        },
        "id": "Q0jNlh8ftTLZ",
        "outputId": "cb54478c-422c-42bc-d180-f91e4fc7b0df"
      },
      "execution_count": null,
      "outputs": [
        {
          "output_type": "stream",
          "name": "stdout",
          "text": [
            "Gardening, Carpentry\n"
          ]
        }
      ]
    },
    {
      "cell_type": "markdown",
      "source": [
        "19.Explain the purpose of ‘’__str__’ and ‘__repr__’ ‘ methods in Python.\n",
        " - __str__ → For readable / user-friendly string representation. It is used by print() and str()It should return a nicely formatted, human-readable string. It think: “What do I want the user to see?”\n"
      ],
      "metadata": {
        "id": "Jwuqx8IitXaH"
      }
    },
    {
      "cell_type": "code",
      "source": [
        "class Book:\n",
        "    def __init__(self, title):\n",
        "        self.title = title\n",
        "\n",
        "    def __str__(self):\n",
        "        return f\"Book: {self.title}\"\n",
        "\n",
        "b = Book(\"1989\")\n",
        "print(b)"
      ],
      "metadata": {
        "colab": {
          "base_uri": "https://localhost:8080/"
        },
        "id": "0k-g4TXBt5md",
        "outputId": "3131f13d-2792-43af-975e-b38eaf4cb1b0"
      },
      "execution_count": null,
      "outputs": [
        {
          "output_type": "stream",
          "name": "stdout",
          "text": [
            "Book: 1989\n"
          ]
        }
      ]
    },
    {
      "cell_type": "markdown",
      "source": [
        " -  __repr__ → For unambiguous / developer-friendly representation\n",
        "Used by repr(), debugger, and interactive shell. It should return a string that could ideally recreate the object. It think: “What do I want a developer to see?”"
      ],
      "metadata": {
        "id": "TGU7NU-et-YB"
      }
    },
    {
      "cell_type": "code",
      "source": [
        "class Book:\n",
        "    def __init__(self, title):\n",
        "        self.title = title\n",
        "\n",
        "    def __repr__(self):\n",
        "        return f\"Book('{self.title}')\"\n",
        "\n",
        "b = Book(\"1982\")\n",
        "print(repr(b))"
      ],
      "metadata": {
        "colab": {
          "base_uri": "https://localhost:8080/"
        },
        "id": "7r_xhm49uEFN",
        "outputId": "b10cb8d4-30f2-4288-f98d-4b7bd47308ff"
      },
      "execution_count": null,
      "outputs": [
        {
          "output_type": "stream",
          "name": "stdout",
          "text": [
            "Book('1982')\n"
          ]
        }
      ]
    },
    {
      "cell_type": "markdown",
      "source": [
        "20.What is the significance of the ‘super()’ function in Python?\n",
        " - Advantages of 'super()'--\n",
        "\n",
        "1. Avoid hardcoding parent class names\n",
        "\n",
        " - Makes your code easier to maintain and refactor\n",
        "\n",
        "2. Support multiple inheritance correctly\n",
        "\n",
        " - Works with Python’s Method Resolution Order (MRO)\n",
        "\n",
        "3. Extend behavior of parent methods, don’t replace them\n",
        "\n",
        " - Useful in overriding methods (e.g., in __init__)\n",
        "\n"
      ],
      "metadata": {
        "id": "yPdsnvZ-uNJJ"
      }
    },
    {
      "cell_type": "code",
      "source": [
        "class Animal:\n",
        "    def __init__(self, name):\n",
        "        self.name = name\n",
        "\n",
        "class Dog(Animal):\n",
        "    def __init__(self, name, breed):\n",
        "        super().__init__(name)  # Call Animal's __init__\n",
        "        self.breed = breed\n",
        "\n",
        "d = Dog(\"Buddy\", \"Labrador\")\n",
        "print(d.name)\n",
        "print(d.breed)\n",
        "\n",
        "# Without super(), we have to call Animal.__init__(self, name), which is less clean and more error-prone."
      ],
      "metadata": {
        "colab": {
          "base_uri": "https://localhost:8080/"
        },
        "id": "sHHwbbxwuv7S",
        "outputId": "afb3758b-5bb4-44ea-ec42-bf8b2877848d"
      },
      "execution_count": null,
      "outputs": [
        {
          "output_type": "stream",
          "name": "stdout",
          "text": [
            "Buddy\n",
            "Labrador\n"
          ]
        }
      ]
    },
    {
      "cell_type": "code",
      "source": [
        "#Method overriding\n",
        "\n",
        "class Parent:\n",
        "    def greet(self):\n",
        "        print(\"Hello from Parent\")\n",
        "\n",
        "class Child(Parent):\n",
        "    def greet(self):\n",
        "        super().greet()\n",
        "        print(\"Hello from Child\")\n",
        "\n",
        "c = Child()\n",
        "c.greet()"
      ],
      "metadata": {
        "colab": {
          "base_uri": "https://localhost:8080/"
        },
        "id": "GL8ICWarvQE8",
        "outputId": "7c083d5e-c1ce-4b38-be90-dbd62bff30cf"
      },
      "execution_count": null,
      "outputs": [
        {
          "output_type": "stream",
          "name": "stdout",
          "text": [
            "Hello from Parent\n",
            "Hello from Child\n"
          ]
        }
      ]
    },
    {
      "cell_type": "code",
      "source": [
        "#With multiple inheritance\n",
        "\n",
        "class A:\n",
        "    def do(self):\n",
        "        print(\"A\")\n",
        "\n",
        "class B(A):\n",
        "    def do(self):\n",
        "        super().do()\n",
        "        print(\"B\")\n",
        "\n",
        "class C(A):\n",
        "    def do(self):\n",
        "        super().do()\n",
        "        print(\"C\")\n",
        "\n",
        "class D(B, C):\n",
        "    def do(self):\n",
        "        super().do()\n",
        "        print(\"D\")\n",
        "\n",
        "d = D()\n",
        "d.do()"
      ],
      "metadata": {
        "colab": {
          "base_uri": "https://localhost:8080/"
        },
        "id": "7HwP3Bj4vWCl",
        "outputId": "8b08605c-5d4a-4aca-9d1a-62f36a869a51"
      },
      "execution_count": null,
      "outputs": [
        {
          "output_type": "stream",
          "name": "stdout",
          "text": [
            "A\n",
            "C\n",
            "B\n",
            "D\n"
          ]
        }
      ]
    },
    {
      "cell_type": "markdown",
      "source": [
        "21.What is the significance of the __del__ method in Python?\n",
        " - Purpose / Significance of __del__ --It is used to clean up resources (like closing files, network connections, releasing memory, etc.).It acts like a destructor in other languages (e.g., C++), but with a few caveats.\n",
        "\n"
      ],
      "metadata": {
        "id": "fGGh1T1yvglm"
      }
    },
    {
      "cell_type": "code",
      "source": [
        "class FileHandler:\n",
        "    def __init__(self, filename):\n",
        "        self.file = open(filename, 'w')\n",
        "\n",
        "    def __del__(self):\n",
        "        print(\"Closing file...\")\n",
        "        self.file.close()\n",
        "\n",
        "handler = FileHandler(\"sample.txt\")\n",
        "del handler"
      ],
      "metadata": {
        "colab": {
          "base_uri": "https://localhost:8080/"
        },
        "id": "YjgqEvLXvxjr",
        "outputId": "3742e3c8-d50d-4e17-c178-c085a6117cab"
      },
      "execution_count": null,
      "outputs": [
        {
          "output_type": "stream",
          "name": "stdout",
          "text": [
            "Closing file...\n"
          ]
        }
      ]
    },
    {
      "cell_type": "markdown",
      "source": [
        "22.What is the difference between @staticmethod and @classmethod in Python?\n",
        " - @staticmethod- It does not take self or cls as the first argument. It cannot access or modify class or instance state. It behaves like a regular function, just logically grouped inside the class."
      ],
      "metadata": {
        "id": "eFoaXGG1v3V5"
      }
    },
    {
      "cell_type": "code",
      "source": [
        "class MathTools:\n",
        "    @staticmethod\n",
        "    def add(x, y):\n",
        "        return x + y\n",
        "\n",
        "print(MathTools.add(5, 3))"
      ],
      "metadata": {
        "colab": {
          "base_uri": "https://localhost:8080/"
        },
        "id": "pJPaeu4pyLcx",
        "outputId": "af515e12-5a25-42fc-af20-b2b414d394a7"
      },
      "execution_count": null,
      "outputs": [
        {
          "output_type": "stream",
          "name": "stdout",
          "text": [
            "8\n"
          ]
        }
      ]
    },
    {
      "cell_type": "markdown",
      "source": [
        " -  @classmethod- It takes cls as the first argument (not self). It can access and modify class state. It is useful for factory methods, or when behavior depends on the class, not a specific object."
      ],
      "metadata": {
        "id": "MJ6shEFOyPOL"
      }
    },
    {
      "cell_type": "code",
      "source": [
        "class Dog:\n",
        "    species = \"Canine\"\n",
        "\n",
        "    def __init__(self, name):\n",
        "        self.name = name\n",
        "\n",
        "    @classmethod\n",
        "    def change_species(cls, new_species):\n",
        "        cls.species = new_species\n",
        "\n",
        "Dog.change_species(\"Wolf\")\n",
        "print(Dog.species)"
      ],
      "metadata": {
        "colab": {
          "base_uri": "https://localhost:8080/"
        },
        "id": "cwsHKZJ3yYoz",
        "outputId": "715f22ec-5e25-425e-fcba-e6580181f3a4"
      },
      "execution_count": null,
      "outputs": [
        {
          "output_type": "stream",
          "name": "stdout",
          "text": [
            "Wolf\n"
          ]
        }
      ]
    },
    {
      "cell_type": "markdown",
      "source": [
        "23.How does polymorphism work in Python with inheritance?\n",
        " - Polymorphism in Python with inheritance means that different classes can define methods with the same name, and Python will automatically call the correct one based on the object’s actual class—even if you're referring to it through a parent class reference."
      ],
      "metadata": {
        "id": "-Ktx4R-byei8"
      }
    },
    {
      "cell_type": "code",
      "source": [
        "class Animal:\n",
        "    def speak(self):\n",
        "        return \"Some sound\"\n",
        "\n",
        "class Dog(Animal):\n",
        "    def speak(self):\n",
        "        return \"Woof!\"\n",
        "\n",
        "class Cat(Animal):\n",
        "    def speak(self):\n",
        "        return \"Meow!\"\n",
        "animals = [Dog(), Cat()]\n",
        "\n",
        "for animal in animals:\n",
        "    print(animal.speak())\n",
        "\n",
        "#Even though animals is a list of Animal references, Python dynamically chooses the correct speak() method at runtime based on the actual object type. That’s runtime polymorphism."
      ],
      "metadata": {
        "colab": {
          "base_uri": "https://localhost:8080/"
        },
        "id": "3xnwUdUuy3eT",
        "outputId": "b56113c6-08fb-49f7-bb2c-bf7c29bde0ec"
      },
      "execution_count": null,
      "outputs": [
        {
          "output_type": "stream",
          "name": "stdout",
          "text": [
            "Woof!\n",
            "Meow!\n"
          ]
        }
      ]
    },
    {
      "cell_type": "markdown",
      "source": [
        "24.What is method chaining in Python OOP?\n",
        " - Method chaining is a technique where you call multiple methods on the same object in a single line, one after another. This works because each method returns self—so the next method continues on the same object."
      ],
      "metadata": {
        "id": "yFGsDaF8zQ2q"
      }
    },
    {
      "cell_type": "code",
      "source": [
        "class Person:\n",
        "    def __init__(self, name):\n",
        "        self.name = name\n",
        "        self.age = None\n",
        "        self.city = None\n",
        "\n",
        "    def set_age(self, age):\n",
        "        self.age = age\n",
        "        return self  # enables chaining\n",
        "\n",
        "    def set_city(self, city):\n",
        "        self.city = city\n",
        "        return self  # enables chaining\n",
        "\n",
        "    def show(self):\n",
        "        print(f\"{self.name}, {self.age} years old, from {self.city}\")\n",
        "        return self\n",
        "\n",
        "# Method chaining:\n",
        "person = Person(\"Alice\").set_age(30).set_city(\"Paris\").show()"
      ],
      "metadata": {
        "colab": {
          "base_uri": "https://localhost:8080/"
        },
        "id": "7IO2qcZ1zaCr",
        "outputId": "5b9c5be3-7e83-46d1-c005-ad26a5cd1ab6"
      },
      "execution_count": null,
      "outputs": [
        {
          "output_type": "stream",
          "name": "stdout",
          "text": [
            "Alice, 30 years old, from Paris\n"
          ]
        }
      ]
    },
    {
      "cell_type": "markdown",
      "source": [
        "25.What is the purpose of the __call__ method in Python?\n",
        " - Purpose of __call__: It lets us:\n",
        "\n",
        " Make objects behave like functions\n",
        "\n",
        " Create function-like interfaces with internal state\n",
        "\n",
        " Add flexibility to how objects are used"
      ],
      "metadata": {
        "id": "EUe6vHoyzfDv"
      }
    },
    {
      "cell_type": "code",
      "source": [
        "class Greeter:\n",
        "    def __init__(self, greeting):\n",
        "        self.greeting = greeting\n",
        "\n",
        "    def __call__(self, name):\n",
        "        return f\"{self.greeting}, {name}!\"\n",
        "\n",
        "say_hello = Greeter(\"Hello\")\n",
        "\n",
        "print(say_hello(\"Bob\"))"
      ],
      "metadata": {
        "id": "ELgCYzM8zx_I",
        "outputId": "2b43b247-61c8-47d6-f867-959db22a0607",
        "colab": {
          "base_uri": "https://localhost:8080/"
        }
      },
      "execution_count": null,
      "outputs": [
        {
          "output_type": "stream",
          "name": "stdout",
          "text": [
            "Hello, Bob!\n"
          ]
        }
      ]
    },
    {
      "cell_type": "code",
      "source": [
        "#1.Create a parent class Animal with a method speak() that prints a generic message. Create a child class Dog that overrides the speak() method to print \"Bark!\".\n",
        "# Parent class\n",
        "class Animal:\n",
        "    def speak(self):\n",
        "        print(\"The animal makes a sound.\")\n",
        "\n",
        "# Child class\n",
        "class Dog(Animal):\n",
        "    def speak(self):\n",
        "        print(\"Bark!\")\n",
        "\n",
        "# Example usage\n",
        "generic_animal = Animal()\n",
        "generic_animal.speak()  # Output: The animal makes a sound.\n",
        "\n",
        "dog = Dog()\n",
        "dog.speak()"
      ],
      "metadata": {
        "colab": {
          "base_uri": "https://localhost:8080/"
        },
        "id": "a3YpYDOmB8OA",
        "outputId": "8c8a7b0b-a1fe-4880-a2c9-759065969a94"
      },
      "execution_count": 2,
      "outputs": [
        {
          "output_type": "stream",
          "name": "stdout",
          "text": [
            "The animal makes a sound.\n",
            "Bark!\n"
          ]
        }
      ]
    },
    {
      "cell_type": "code",
      "source": [
        "#2. Write a program to create an abstract class Shape with a method area(). Derive classes Circle and Rectangle from it and implement the area() method in both.\n",
        "from abc import ABC, abstractmethod\n",
        "import math\n",
        "\n",
        "# Abstract base class\n",
        "class Shape(ABC):\n",
        "    @abstractmethod\n",
        "    def area(self):\n",
        "        pass\n",
        "\n",
        "# Derived class Circle\n",
        "class Circle(Shape):\n",
        "    def __init__(self, radius):\n",
        "        self.radius = radius\n",
        "\n",
        "    def area(self):\n",
        "        return math.pi * self.radius ** 2\n",
        "\n",
        "# Derived class Rectangle\n",
        "class Rectangle(Shape):\n",
        "    def __init__(self, width, height):\n",
        "        self.width = width\n",
        "        self.height = height\n",
        "\n",
        "    def area(self):\n",
        "        return self.width * self.height\n",
        "\n",
        "# Example usage\n",
        "circle = Circle(5)\n",
        "print(f\"Circle area: {circle.area():.2f}\")\n",
        "\n",
        "rectangle = Rectangle(4, 6)\n",
        "print(f\"Rectangle area: {rectangle.area()}\")"
      ],
      "metadata": {
        "colab": {
          "base_uri": "https://localhost:8080/"
        },
        "id": "gAy5mFx9CVXo",
        "outputId": "2b1d0269-cb91-46d3-faa5-dd3f48d8172f"
      },
      "execution_count": 3,
      "outputs": [
        {
          "output_type": "stream",
          "name": "stdout",
          "text": [
            "Circle area: 78.54\n",
            "Rectangle area: 24\n"
          ]
        }
      ]
    },
    {
      "cell_type": "code",
      "source": [
        "#3.Implement a multi-level inheritance scenario where a class Vehicle has an attribute type. Derive a class Car and further derive a class ElectricCar that adds a battery attribute.\n",
        "# Base class\n",
        "class Vehicle:\n",
        "    def __init__(self, type):\n",
        "        self.type = type\n",
        "\n",
        "    def display_info(self):\n",
        "        print(f\"Vehicle type: {self.type}\")\n",
        "\n",
        "# Derived class\n",
        "class Car(Vehicle):\n",
        "    def __init__(self, type, brand):\n",
        "        super().__init__(type)\n",
        "        self.brand = brand\n",
        "\n",
        "    def display_info(self):\n",
        "        super().display_info()\n",
        "        print(f\"Car brand: {self.brand}\")\n",
        "\n",
        "# Further derived class\n",
        "class ElectricCar(Car):\n",
        "    def __init__(self, type, brand, battery):\n",
        "        super().__init__(type, brand)\n",
        "        self.battery = battery\n",
        "\n",
        "    def display_info(self):\n",
        "        super().display_info()\n",
        "        print(f\"Battery capacity: {self.battery} kWh\")\n",
        "\n",
        "# Example usage\n",
        "tesla = ElectricCar(\"Electric\", \"Tesla\", 75)\n",
        "tesla.display_info()\n"
      ],
      "metadata": {
        "colab": {
          "base_uri": "https://localhost:8080/"
        },
        "id": "zt5SI-4WDZOR",
        "outputId": "3c5d4ef9-42e9-470b-e9ed-8ee58b4d4aba"
      },
      "execution_count": 4,
      "outputs": [
        {
          "output_type": "stream",
          "name": "stdout",
          "text": [
            "Vehicle type: Electric\n",
            "Car brand: Tesla\n",
            "Battery capacity: 75 kWh\n"
          ]
        }
      ]
    },
    {
      "cell_type": "code",
      "source": [
        "#4. Demonstrate polymorphism by creating a base class Bird with a method fly(). Create two derived classes Sparrow and Penguin that override the fly() method.\n",
        "# Base class\n",
        "class Bird:\n",
        "    def fly(self):\n",
        "        print(\"Some birds can fly.\")\n",
        "\n",
        "# Derived class\n",
        "class Sparrow(Bird):\n",
        "    def fly(self):\n",
        "        print(\"Sparrow flies high in the sky.\")\n",
        "\n",
        "# Derived class\n",
        "class Penguin(Bird):\n",
        "    def fly(self):\n",
        "        print(\"Penguins can't fly, but they swim really well.\")\n",
        "\n",
        "# Function to demonstrate polymorphism\n",
        "def bird_flight(bird):\n",
        "    bird.fly()\n",
        "\n",
        "# Example usage\n",
        "bird1 = Sparrow()\n",
        "bird2 = Penguin()\n",
        "\n",
        "bird_flight(bird1)\n",
        "bird_flight(bird2)\n"
      ],
      "metadata": {
        "colab": {
          "base_uri": "https://localhost:8080/"
        },
        "id": "5OaaKs1HDson",
        "outputId": "73592df2-e724-4a6b-a17d-e56c168a9308"
      },
      "execution_count": 5,
      "outputs": [
        {
          "output_type": "stream",
          "name": "stdout",
          "text": [
            "Sparrow flies high in the sky.\n",
            "Penguins can't fly, but they swim really well.\n"
          ]
        }
      ]
    },
    {
      "cell_type": "code",
      "source": [
        "#5.  Write a program to demonstrate encapsulation by creating a class BankAccount with private attributes balance and methods to deposit, withdraw, and check balance.\n",
        "class BankAccount:\n",
        "    def __init__(self, initial_balance=0):\n",
        "        self.__balance = initial_balance  # Private attribute\n",
        "\n",
        "    def deposit(self, amount):\n",
        "        if amount > 0:\n",
        "            self.__balance += amount\n",
        "            print(f\"Deposited: ${amount}\")\n",
        "        else:\n",
        "            print(\"Deposit amount must be positive.\")\n",
        "\n",
        "    def withdraw(self, amount):\n",
        "        if 0 < amount <= self.__balance:\n",
        "            self.__balance -= amount\n",
        "            print(f\"Withdrew: ${amount}\")\n",
        "        else:\n",
        "            print(\"Insufficient balance or invalid amount.\")\n",
        "\n",
        "    def check_balance(self):\n",
        "        print(f\"Current balance: ${self.__balance}\")\n",
        "\n",
        "# Example usage\n",
        "account = BankAccount(100)\n",
        "account.check_balance()\n",
        "account.deposit(50)\n",
        "account.withdraw(30)\n",
        "account.check_balance()\n"
      ],
      "metadata": {
        "colab": {
          "base_uri": "https://localhost:8080/"
        },
        "id": "TwJ3DjvbEAXu",
        "outputId": "efdd9c04-86e2-4251-a1e1-cb77fc420084"
      },
      "execution_count": 6,
      "outputs": [
        {
          "output_type": "stream",
          "name": "stdout",
          "text": [
            "Current balance: $100\n",
            "Deposited: $50\n",
            "Withdrew: $30\n",
            "Current balance: $120\n"
          ]
        }
      ]
    },
    {
      "cell_type": "code",
      "source": [
        "#6. Demonstrate runtime polymorphism using a method play() in a base class Instrument. Derive classes Guitar and Piano that implement their own version of play().\n",
        "# Base class\n",
        "class Instrument:\n",
        "    def play(self):\n",
        "        print(\"Playing an instrument.\")\n",
        "\n",
        "# Derived class\n",
        "class Guitar(Instrument):\n",
        "    def play(self):\n",
        "        print(\"Strumming the guitar.\")\n",
        "\n",
        "# Derived class\n",
        "class Piano(Instrument):\n",
        "    def play(self):\n",
        "        print(\"Playing the piano.\")\n",
        "\n",
        "# Function to demonstrate runtime polymorphism\n",
        "def perform(instrument):\n",
        "    instrument.play()\n",
        "\n",
        "# Example usage\n",
        "instrument1 = Guitar()\n",
        "instrument2 = Piano()\n",
        "\n",
        "perform(instrument1)\n",
        "perform(instrument2)\n"
      ],
      "metadata": {
        "colab": {
          "base_uri": "https://localhost:8080/"
        },
        "id": "LvtVusGeEo43",
        "outputId": "e51ae329-e5c1-4919-c500-b5e482101404"
      },
      "execution_count": 7,
      "outputs": [
        {
          "output_type": "stream",
          "name": "stdout",
          "text": [
            "Strumming the guitar.\n",
            "Playing the piano.\n"
          ]
        }
      ]
    },
    {
      "cell_type": "code",
      "source": [
        "#7. Create a class MathOperations with a class method add_numbers() to add two numbers and a static method subtract_numbers() to subtract two numbers.\n",
        "class MathOperations:\n",
        "    @classmethod\n",
        "    def add_numbers(cls, a, b):\n",
        "        return a + b\n",
        "\n",
        "    @staticmethod\n",
        "    def subtract_numbers(a, b):\n",
        "        return a - b\n",
        "\n",
        "# Example usage\n",
        "sum_result = MathOperations.add_numbers(10, 5)\n",
        "print(f\"Sum: {sum_result}\")  # Output: Sum: 15\n",
        "\n",
        "diff_result = MathOperations.subtract_numbers(10, 5)\n",
        "print(f\"Difference: {diff_result}\")"
      ],
      "metadata": {
        "colab": {
          "base_uri": "https://localhost:8080/"
        },
        "id": "JfRsOSybE7I6",
        "outputId": "6c3505d1-8c08-4c93-845e-ee8a459b187e"
      },
      "execution_count": 8,
      "outputs": [
        {
          "output_type": "stream",
          "name": "stdout",
          "text": [
            "Sum: 15\n",
            "Difference: 5\n"
          ]
        }
      ]
    },
    {
      "cell_type": "code",
      "source": [
        "#8. Implement a class Person with a class method to count the total number of persons created.\n",
        "class Person:\n",
        "    count = 0  # Class variable to track the number of persons\n",
        "\n",
        "    def __init__(self, name):\n",
        "        self.name = name\n",
        "        Person.count += 1  # Increment count every time a new object is created\n",
        "\n",
        "    @classmethod\n",
        "    def get_person_count(cls):\n",
        "        return cls.count\n",
        "\n",
        "# Example usage\n",
        "p1 = Person(\"Alice\")\n",
        "p2 = Person(\"Bob\")\n",
        "p3 = Person(\"Charlie\")\n",
        "\n",
        "print(f\"Total persons created: {Person.get_person_count()}\")"
      ],
      "metadata": {
        "colab": {
          "base_uri": "https://localhost:8080/"
        },
        "id": "hqiGo01EFD_X",
        "outputId": "a30b034c-fa84-4375-a558-9d2d4650d1dd"
      },
      "execution_count": 9,
      "outputs": [
        {
          "output_type": "stream",
          "name": "stdout",
          "text": [
            "Total persons created: 3\n"
          ]
        }
      ]
    },
    {
      "cell_type": "code",
      "source": [
        "#9. Write a class Fraction with attributes numerator and denominator. Override the str method to display the fraction as \"numerator/denominator\".\n",
        "class Fraction:\n",
        "    def __init__(self, numerator, denominator):\n",
        "        if denominator == 0:\n",
        "            raise ValueError(\"Denominator cannot be zero.\")\n",
        "        self.numerator = numerator\n",
        "        self.denominator = denominator\n",
        "\n",
        "    def __str__(self):\n",
        "        return f\"{self.numerator}/{self.denominator}\"\n",
        "\n",
        "# Example usage\n",
        "f1 = Fraction(3, 4)\n",
        "f2 = Fraction(7, 2)\n",
        "\n",
        "print(f\"Fraction 1: {f1}\")\n",
        "print(f\"Fraction 2: {f2}\")"
      ],
      "metadata": {
        "colab": {
          "base_uri": "https://localhost:8080/"
        },
        "id": "q8IrZwBtFkA2",
        "outputId": "46dac58e-c689-49cb-fd7a-aa45fe6edaae"
      },
      "execution_count": 10,
      "outputs": [
        {
          "output_type": "stream",
          "name": "stdout",
          "text": [
            "Fraction 1: 3/4\n",
            "Fraction 2: 7/2\n"
          ]
        }
      ]
    },
    {
      "cell_type": "code",
      "source": [
        "#10. Demonstrate operator overloading by creating a class Vector and overriding the add method to add two vectors.\n",
        "class Vector:\n",
        "    def __init__(self, x, y):\n",
        "        self.x = x\n",
        "        self.y = y\n",
        "\n",
        "    # Overload the + operator\n",
        "    def __add__(self, other):\n",
        "        return Vector(self.x + other.x, self.y + other.y)\n",
        "\n",
        "    def __str__(self):\n",
        "        return f\"({self.x}, {self.y})\"\n",
        "\n",
        "# Example usage\n",
        "v1 = Vector(2, 3)\n",
        "v2 = Vector(4, 5)\n",
        "\n",
        "v3 = v1 + v2  # This calls the overloaded __add__ method\n",
        "print(f\"v1 + v2 = {v3}\")"
      ],
      "metadata": {
        "colab": {
          "base_uri": "https://localhost:8080/"
        },
        "id": "Zm4v6ML8GubP",
        "outputId": "276a3bb8-1d1b-4a90-ef64-42a238864ea6"
      },
      "execution_count": 11,
      "outputs": [
        {
          "output_type": "stream",
          "name": "stdout",
          "text": [
            "v1 + v2 = (6, 8)\n"
          ]
        }
      ]
    },
    {
      "cell_type": "code",
      "source": [
        "#11.Create a class Person with attributes name and age. Add a method greet() that prints \"Hello, my name is {name} and I am {age} years old.\"\n",
        "class Person:\n",
        "    def __init__(self, name, age):\n",
        "        self.name = name\n",
        "        self.age = age\n",
        "\n",
        "    def greet(self):\n",
        "        print(f\"Hello, my name is {self.name} and I am {self.age} years old.\")\n",
        "\n",
        "# Example usage\n",
        "person1 = Person(\"Alice\", 30)\n",
        "person1.greet()\n"
      ],
      "metadata": {
        "colab": {
          "base_uri": "https://localhost:8080/"
        },
        "id": "xeaecM8QHBTK",
        "outputId": "f5e348c3-e10f-4e9e-d1c9-bb3bc853eab0"
      },
      "execution_count": 12,
      "outputs": [
        {
          "output_type": "stream",
          "name": "stdout",
          "text": [
            "Hello, my name is Alice and I am 30 years old.\n"
          ]
        }
      ]
    },
    {
      "cell_type": "code",
      "source": [
        "#12. Implement a class Student with attributes name and grades. Create a method average_grade() to compute the average of the grades.\n",
        "class Student:\n",
        "    def __init__(self, name, grades):\n",
        "        self.name = name\n",
        "        self.grades = grades  # Expecting a list of numbers\n",
        "\n",
        "    def average_grade(self):\n",
        "        if not self.grades:\n",
        "            return 0\n",
        "        return sum(self.grades) / len(self.grades)\n",
        "\n",
        "# Example usage\n",
        "student1 = Student(\"Sam\", [85, 90, 78, 92])\n",
        "print(f\"{student1.name}'s average grade: {student1.average_grade():.2f}\")\n",
        "\n"
      ],
      "metadata": {
        "colab": {
          "base_uri": "https://localhost:8080/"
        },
        "id": "SHz7Q0RTHSHm",
        "outputId": "3ca6f029-c4e7-4792-c58b-75e930f50b14"
      },
      "execution_count": 14,
      "outputs": [
        {
          "output_type": "stream",
          "name": "stdout",
          "text": [
            "Sam's average grade: 86.25\n"
          ]
        }
      ]
    },
    {
      "cell_type": "code",
      "source": [
        "#13. Create a class Rectangle with methods set_dimensions() to set the dimensions and area() to calculate the area.\n",
        "class Rectangle:\n",
        "    def __init__(self):\n",
        "        self.length = 0\n",
        "        self.width = 0\n",
        "\n",
        "    def set_dimensions(self, length, width):\n",
        "        self.length = length\n",
        "        self.width = width\n",
        "\n",
        "    def area(self):\n",
        "        return self.length * self.width\n",
        "\n",
        "# Example usage\n",
        "rect = Rectangle()\n",
        "rect.set_dimensions(5, 3)\n",
        "print(f\"Area of the rectangle: {rect.area()}\")"
      ],
      "metadata": {
        "colab": {
          "base_uri": "https://localhost:8080/"
        },
        "id": "OnnSPLCTH-Xo",
        "outputId": "05daa53d-bca0-4cb2-c0db-e71ea9658ab0"
      },
      "execution_count": 15,
      "outputs": [
        {
          "output_type": "stream",
          "name": "stdout",
          "text": [
            "Area of the rectangle: 15\n"
          ]
        }
      ]
    },
    {
      "cell_type": "code",
      "source": [
        "#14.Create a class Employee with a method calculate_salary() that computes the salary based on hours worked and hourly rate. Create a derived class Manager that adds a bonus to the salary\n",
        "# Base class\n",
        "class Employee:\n",
        "    def __init__(self, name, hours_worked, hourly_rate):\n",
        "        self.name = name\n",
        "        self.hours_worked = hours_worked\n",
        "        self.hourly_rate = hourly_rate\n",
        "\n",
        "    def calculate_salary(self):\n",
        "        return self.hours_worked * self.hourly_rate\n",
        "\n",
        "# Derived class\n",
        "class Manager(Employee):\n",
        "    def __init__(self, name, hours_worked, hourly_rate, bonus):\n",
        "        super().__init__(name, hours_worked, hourly_rate)\n",
        "        self.bonus = bonus\n",
        "\n",
        "    def calculate_salary(self):\n",
        "        base_salary = super().calculate_salary()\n",
        "        return base_salary + self.bonus\n",
        "\n",
        "# Example usage\n",
        "emp = Employee(\"Alice\", 40, 20)\n",
        "print(f\"{emp.name}'s salary: ${emp.calculate_salary()}\")\n",
        "\n",
        "mgr = Manager(\"Bob\", 40, 30, 500)\n",
        "print(f\"{mgr.name}'s salary (with bonus): ${mgr.calculate_salary()}\")\n"
      ],
      "metadata": {
        "colab": {
          "base_uri": "https://localhost:8080/"
        },
        "id": "MRuKCmh7IICi",
        "outputId": "4ec3c4e5-955f-40d5-eb34-a5788cbd83a8"
      },
      "execution_count": 16,
      "outputs": [
        {
          "output_type": "stream",
          "name": "stdout",
          "text": [
            "Alice's salary: $800\n",
            "Bob's salary (with bonus): $1700\n"
          ]
        }
      ]
    },
    {
      "cell_type": "code",
      "source": [
        "#15.Create a class Product with attributes name, price, and quantity. Implement a method total_price() that calculates the total price of the product.\n",
        "class Product:\n",
        "    def __init__(self, name, price, quantity):\n",
        "        self.name = name\n",
        "        self.price = price\n",
        "        self.quantity = quantity\n",
        "\n",
        "    def total_price(self):\n",
        "        return self.price * self.quantity\n",
        "\n",
        "# Example usage\n",
        "item = Product(\"Laptop\", 800, 2)\n",
        "print(f\"Total price for {item.name}s: ${item.total_price()}\")"
      ],
      "metadata": {
        "colab": {
          "base_uri": "https://localhost:8080/"
        },
        "id": "Rtt86E3MIaQH",
        "outputId": "0b392d13-a9e1-4ec5-9376-f9939b224502"
      },
      "execution_count": 17,
      "outputs": [
        {
          "output_type": "stream",
          "name": "stdout",
          "text": [
            "Total price for Laptops: $1600\n"
          ]
        }
      ]
    },
    {
      "cell_type": "code",
      "source": [
        "#16.Create a class Animal with an abstract method sound(). Create two derived classes Cow and Sheep that implement the sound() method.\n",
        "from abc import ABC, abstractmethod\n",
        "\n",
        "# Abstract base class\n",
        "class Animal(ABC):\n",
        "    @abstractmethod\n",
        "    def sound(self):\n",
        "        pass\n",
        "\n",
        "# Derived class Cow\n",
        "class Cow(Animal):\n",
        "    def sound(self):\n",
        "        print(\"Cow says: Moo!\")\n",
        "\n",
        "# Derived class Sheep\n",
        "class Sheep(Animal):\n",
        "    def sound(self):\n",
        "        print(\"Sheep says: Baa!\")\n",
        "\n",
        "# Example usage\n",
        "cow = Cow()\n",
        "cow.sound()\n",
        "\n",
        "sheep = Sheep()\n",
        "sheep.sound()\n"
      ],
      "metadata": {
        "colab": {
          "base_uri": "https://localhost:8080/"
        },
        "id": "aXfMZY-1IrJg",
        "outputId": "d1339c4e-2383-4171-8b50-99ff63b3265d"
      },
      "execution_count": 18,
      "outputs": [
        {
          "output_type": "stream",
          "name": "stdout",
          "text": [
            "Cow says: Moo!\n",
            "Sheep says: Baa!\n"
          ]
        }
      ]
    },
    {
      "cell_type": "code",
      "source": [
        "#17. Create a class Book with attributes title, author, and year_published. Add a method get_book_info() that returns a formatted string with the book's details.\n",
        "class Book:\n",
        "    def __init__(self, title, author, year_published):\n",
        "        self.title = title\n",
        "        self.author = author\n",
        "        self.year_published = year_published\n",
        "\n",
        "    def get_book_info(self):\n",
        "        return f\"\\\"{self.title}\\\" by {self.author} (Published: {self.year_published})\"\n",
        "\n",
        "# Example usage\n",
        "book1 = Book(\"To Kill a Mockingbird\", \"Harper Lee\", 1960)\n",
        "print(book1.get_book_info())\n"
      ],
      "metadata": {
        "colab": {
          "base_uri": "https://localhost:8080/"
        },
        "id": "Nj8kzJIHI2bw",
        "outputId": "cdffe722-beb0-4bae-e9c2-580fab5370fd"
      },
      "execution_count": 19,
      "outputs": [
        {
          "output_type": "stream",
          "name": "stdout",
          "text": [
            "\"To Kill a Mockingbird\" by Harper Lee (Published: 1960)\n"
          ]
        }
      ]
    },
    {
      "cell_type": "code",
      "source": [
        "#18. Create a class House with attributes address and price. Create a derived class Mansion that adds an attribute number_of_rooms.\n",
        "# Base class\n",
        "class House:\n",
        "    def __init__(self, address, price):\n",
        "        self.address = address\n",
        "        self.price = price\n",
        "\n",
        "    def display_info(self):\n",
        "        print(f\"Address: {self.address}\")\n",
        "        print(f\"Price: ${self.price}\")\n",
        "\n",
        "# Derived class\n",
        "class Mansion(House):\n",
        "    def __init__(self, address, price, number_of_rooms):\n",
        "        super().__init__(address, price)\n",
        "        self.number_of_rooms = number_of_rooms\n",
        "\n",
        "    def display_info(self):\n",
        "        super().display_info()\n",
        "        print(f\"Number of rooms: {self.number_of_rooms}\")\n",
        "\n",
        "# Example usage\n",
        "mansion1 = Mansion(\"123 Luxury Lane\", 2500000, 12)\n",
        "mansion1.display_info()\n"
      ],
      "metadata": {
        "colab": {
          "base_uri": "https://localhost:8080/"
        },
        "id": "UTrRS1gWJBPN",
        "outputId": "99ed75d7-645b-43ef-d51b-d58f9aa501d7"
      },
      "execution_count": 20,
      "outputs": [
        {
          "output_type": "stream",
          "name": "stdout",
          "text": [
            "Address: 123 Luxury Lane\n",
            "Price: $2500000\n",
            "Number of rooms: 12\n"
          ]
        }
      ]
    }
  ]
}