{
  "nbformat": 4,
  "nbformat_minor": 0,
  "metadata": {
    "colab": {
      "provenance": []
    },
    "kernelspec": {
      "name": "python3",
      "display_name": "Python 3"
    },
    "language_info": {
      "name": "python"
    }
  },
  "cells": [
    {
      "cell_type": "markdown",
      "source": [
        "1.What are data structures, and why are they important?\n",
        "  - Data structures are ways of organizing and storing data in a computer so that it can be accessed and modified efficiently.\n",
        "  They are important due to -\n",
        "  1.Efficiency: They enable efficient algorithms for operations like search, insertion, and deletion. Choosing the right data structure can drastically improve performance.\n",
        "  2.Memory Management: Data structures help manage memory efficiently by organizing data in ways that minimize wasted space.\n",
        "  3.Optimized Algorithms: Many algorithms rely on specific data structures to function optimally (e.g., sorting algorithms like quicksort and mergesort)\n",
        "  4.Problem Solving: The right data structure can make it easier to solve complex problems in fields like artificial intelligence, databases, and computer graphics.\n",
        "  5.Scalability: As the amount of data grows, the choice of data structure can impact how well a program scales.\n",
        "\n",
        "2.Explain the difference between mutable and immutable data types with examples.\n",
        " - Mutable data types are those whose values or contents can be changed after the object is created. You can modify the data in place without creating a new object.\n",
        "\n",
        "Examples:\n",
        "Lists (in Python): You can modify, add, or remove elements from a list after it is created."
      ],
      "metadata": {
        "id": "aodLkWvz76kn"
      }
    },
    {
      "cell_type": "code",
      "source": [
        "my_list = [1, 2, 3]\n",
        "my_list[0] = 10  # Modifying an element\n",
        "my_list.append(4)  # Adding an element\n",
        "print(my_list)  # Output: [10, 2, 3, 4]\n"
      ],
      "metadata": {
        "colab": {
          "base_uri": "https://localhost:8080/"
        },
        "id": "daSDAkpR-txF",
        "outputId": "2abe6e2c-c8dc-4983-80f5-4753df8c103b"
      },
      "execution_count": null,
      "outputs": [
        {
          "output_type": "stream",
          "name": "stdout",
          "text": [
            "[10, 2, 3, 4]\n"
          ]
        }
      ]
    },
    {
      "cell_type": "markdown",
      "source": [
        "Dictionaries (in Python): You can change values associated with a specific key."
      ],
      "metadata": {
        "id": "9jKtP_3M-7ua"
      }
    },
    {
      "cell_type": "code",
      "source": [
        "my_dict = {'a': 1, 'b': 2}\n",
        "my_dict['a'] = 10  # Modifying the value\n",
        "my_dict['c'] = 3   # Adding a new key-value pair\n",
        "print(my_dict)  # Output: {'a': 10, 'b': 2, 'c': 3}"
      ],
      "metadata": {
        "id": "RDGsVcWQ--Hd",
        "colab": {
          "base_uri": "https://localhost:8080/"
        },
        "outputId": "b02be1d3-eb49-4414-b48b-b1d64a76b4d1"
      },
      "execution_count": null,
      "outputs": [
        {
          "output_type": "stream",
          "name": "stdout",
          "text": [
            "{'a': 10, 'b': 2, 'c': 3}\n"
          ]
        }
      ]
    },
    {
      "cell_type": "markdown",
      "source": [
        "Sets (in Python): You can add or remove elements."
      ],
      "metadata": {
        "id": "T8XmR3cW_SSf"
      }
    },
    {
      "cell_type": "code",
      "source": [
        "my_set = {1, 2, 3}\n",
        "my_set.add(4)  # Adding an element\n",
        "my_set.remove(2)  # Removing an element\n",
        "print(my_set)  # Output: {1, 3, 4}"
      ],
      "metadata": {
        "id": "6iTZ6Z3B_R2_",
        "colab": {
          "base_uri": "https://localhost:8080/"
        },
        "outputId": "1d9b1908-220b-4a9d-de42-489e86874c8a"
      },
      "execution_count": null,
      "outputs": [
        {
          "output_type": "stream",
          "name": "stdout",
          "text": [
            "{1, 3, 4}\n"
          ]
        }
      ]
    },
    {
      "cell_type": "markdown",
      "source": [
        "Immutable data types are those whose values cannot be changed once they are created. Any operation that attempts to modify the data will create a new object instead of modifying the existing one.\n",
        "\n",
        "Examples-\n",
        "Tuples (in Python): Once created, the elements of a tuple cannot be changed, added, or removed."
      ],
      "metadata": {
        "id": "oIY8Ex-j_lOI"
      }
    },
    {
      "cell_type": "code",
      "source": [
        "my_tuple = (1, 2, 3)\n",
        "# my_tuple[0] = 10  # This would raise an error\n",
        "# Tuples are immutable: you cannot change elements once they are created."
      ],
      "metadata": {
        "id": "tMZWjLY1A0Cl"
      },
      "execution_count": 4,
      "outputs": []
    },
    {
      "cell_type": "markdown",
      "source": [
        "Strings (in Python): Strings are immutable; any modification creates a new string."
      ],
      "metadata": {
        "id": "X_d1MQ-XBCME"
      }
    },
    {
      "cell_type": "code",
      "source": [
        "my_string = \"hello\"\n",
        "my_string = my_string.replace(\"h\", \"H\")  # Creating a new string\n",
        "print(my_string)  # Output: \"Hello\""
      ],
      "metadata": {
        "colab": {
          "base_uri": "https://localhost:8080/"
        },
        "id": "p5A34nIcBxDD",
        "outputId": "1c8e098b-7e05-4390-dc2b-4561aeb453dd"
      },
      "execution_count": 3,
      "outputs": [
        {
          "output_type": "stream",
          "name": "stdout",
          "text": [
            "Hello\n"
          ]
        }
      ]
    },
    {
      "cell_type": "markdown",
      "source": [
        "Frozensets (in Python): Like sets, but immutable. Once created, you cannot add or remove elements."
      ],
      "metadata": {
        "id": "cPMZbriAB9Oe"
      }
    },
    {
      "cell_type": "code",
      "source": [
        "my_frozenset = frozenset([1, 2, 3])\n",
        "# my_frozenset.add(4)  # This would raise an error"
      ],
      "metadata": {
        "id": "2ODAr99BCXKN"
      },
      "execution_count": null,
      "outputs": []
    },
    {
      "cell_type": "markdown",
      "source": [
        "3.What are the main differences between lists and tuples in Python?\n",
        " - In Python, lists and tuples are both used to store collections of elements, but they have some key differences-\n",
        " 1. Mutability:\n",
        "Lists: Mutable – This means that the contents of a list can be modified after it is created. You can add, remove, or change elements within the list."
      ],
      "metadata": {
        "id": "gLoBy_rrCaOR"
      }
    },
    {
      "cell_type": "code",
      "source": [
        "my_list = [1, 2, 3]\n",
        "my_list[0] = 10\n",
        "my_list.append(4)\n",
        "print(my_list)"
      ],
      "metadata": {
        "colab": {
          "base_uri": "https://localhost:8080/"
        },
        "id": "qd3CdYz3Dah1",
        "outputId": "9b209429-13d4-4e07-93de-2f721f574502"
      },
      "execution_count": null,
      "outputs": [
        {
          "output_type": "stream",
          "name": "stdout",
          "text": [
            "[10, 2, 3, 4]\n"
          ]
        }
      ]
    },
    {
      "cell_type": "markdown",
      "source": [
        ":Tuples: Immutable – Once a tuple is created, its contents cannot be modified. You can't change, add, or remove elements from a tuple."
      ],
      "metadata": {
        "id": "gHmQiNcLDo58"
      }
    },
    {
      "cell_type": "code",
      "source": [
        "my_tuple = (1, 2, 3)\n",
        "# my_tuple[0] = 10  # This will raise a TypeError"
      ],
      "metadata": {
        "id": "qAiCnewcEFap"
      },
      "execution_count": null,
      "outputs": []
    },
    {
      "cell_type": "markdown",
      "source": [
        "2. Syntax:\n",
        "Lists: Defined using square brackets ([])."
      ],
      "metadata": {
        "id": "mXw2tP46EQCL"
      }
    },
    {
      "cell_type": "code",
      "source": [
        "my_list = [1, 2, 3]"
      ],
      "metadata": {
        "id": "QnehvAKfEUkR"
      },
      "execution_count": null,
      "outputs": []
    },
    {
      "cell_type": "markdown",
      "source": [
        "   Tuples: Defined using parentheses (())."
      ],
      "metadata": {
        "id": "KFqMXINAEjln"
      }
    },
    {
      "cell_type": "code",
      "source": [
        "my_tuple = (1, 2, 3)"
      ],
      "metadata": {
        "id": "J7zob5R6Elug"
      },
      "execution_count": null,
      "outputs": []
    },
    {
      "cell_type": "markdown",
      "source": [
        "3. Performance:\n",
        "\n",
        "Lists: Since lists are mutable, they have slightly more overhead in terms of performance when compared to tuples, especially when it comes to operations like resizing (adding/removing elements).\n",
        "\n",
        "Tuples: Because tuples are immutable, they are generally more lightweight and faster for certain operations (like iteration) compared to lists. This makes tuples a better choice for fixed collections of items that should not change.\n",
        "\n",
        "4.Methods:\n",
        "Lists: Lists come with a wide variety of methods for adding, removing, or modifying elements, such as append(), extend(), remove(), pop(), etc."
      ],
      "metadata": {
        "id": "MUzoicvQErjQ"
      }
    },
    {
      "cell_type": "code",
      "source": [
        "my_list = [1, 2, 3]\n",
        "my_list.append(4)  # Adds 4 to the list\n",
        "my_list.remove(2)  # Removes 2 from the list"
      ],
      "metadata": {
        "id": "vogaNS2mE5Xi"
      },
      "execution_count": 5,
      "outputs": []
    },
    {
      "cell_type": "markdown",
      "source": [
        "Tuples: Tuples have fewer built-in methods because they are immutable. The main methods available are count() and index(), which are useful for inspecting the tuple's contents."
      ],
      "metadata": {
        "id": "SerixjN2E-RZ"
      }
    },
    {
      "cell_type": "code",
      "source": [
        "my_tuple = (1, 2, 3)\n",
        "print(my_tuple.count(2))  # Output: 1 (counts occurrences of 2)\n",
        "print(my_tuple.index(3))  # Output: 2 (returns the index of 3)"
      ],
      "metadata": {
        "id": "p-kwMXK2FAqA",
        "colab": {
          "base_uri": "https://localhost:8080/"
        },
        "outputId": "96438955-6703-4376-c566-acd404e78f3e"
      },
      "execution_count": null,
      "outputs": [
        {
          "output_type": "stream",
          "name": "stdout",
          "text": [
            "1\n",
            "2\n"
          ]
        }
      ]
    },
    {
      "cell_type": "markdown",
      "source": [
        "4.Describe how dictionaries store data.\n",
        " - Dictionaries store data using a key-value pair system, where each unique key maps to a specific value. They use hash tables as their underlying data structure to achieve fast lookups, insertions, and deletions. Here’s how it works:\n",
        "\n",
        "1. Hashing and Key Storage\n",
        "When a key-value pair is added to the dictionary, the key is processed by a hash function, which converts it into a unique hash value (an integer).\n",
        "\n",
        "This hash value determines the index (or \"bucket\") where the value is stored in memory.\n",
        "\n",
        "The hash function ensures quick lookups by reducing the need for linear searches.\n",
        "\n",
        "2. Handling Collisions\n",
        "Since multiple keys may generate the same hash value (a phenomenon called a collision), dictionaries use techniques like:\n",
        "\n",
        "Chaining: Each bucket holds a list of entries, so if multiple keys hash to the same bucket, they are stored as a linked list.\n",
        "\n",
        "Open Addressing: If a collision occurs, the dictionary searches for the next available slot.\n",
        "\n",
        "3. Dynamic Resizing\n",
        "When the dictionary grows beyond a certain threshold, it dynamically resizes (usually doubling in size) and rehashes all existing keys to new buckets.\n",
        "\n",
        "This ensures efficient performance, typically O(1) average time complexity for lookups, insertions, and deletions.\n",
        "\n",
        "4. Ordering (Python-Specific)\n",
        "In Python 3.7 and later, dictionaries maintain insertion order, meaning items are retrieved in the order they were added."
      ],
      "metadata": {
        "id": "uZlx96zP-bTe"
      }
    },
    {
      "cell_type": "markdown",
      "source": [
        "5.Why might you use a set instead of a list in Python?\n",
        " - We  might use a set instead of a list in Python 3 when you need:\n",
        "\n",
        "1. Unique Elements\n",
        "A set automatically removes duplicates, whereas a list allows duplicates.\n",
        "\n",
        "Example:"
      ],
      "metadata": {
        "id": "tEnpelTO-52G"
      }
    },
    {
      "cell_type": "code",
      "source": [
        "lst = [1, 2, 2, 3, 4, 4, 5]\n",
        "unique_set = set(lst)  # {1, 2, 3, 4, 5}"
      ],
      "metadata": {
        "id": "x_dhnKZq_Pmx"
      },
      "execution_count": null,
      "outputs": []
    },
    {
      "cell_type": "markdown",
      "source": [
        "2. Fast Lookups (O(1) vs. O(n))\n",
        "Checking membership in a set is O(1) on average because it uses hashing.\n",
        "\n",
        "Checking membership in a list is O(n) since it requires scanning the list.\n",
        "\n",
        "Example:"
      ],
      "metadata": {
        "id": "GLWt2wF7_ZC8"
      }
    },
    {
      "cell_type": "code",
      "source": [
        "my_set = {10, 20, 30}\n",
        "print(10 in my_set)  # Fast O(1)\n",
        "\n",
        "my_list = [10, 20, 30]\n",
        "print(10 in my_list)  # Slower O(n)"
      ],
      "metadata": {
        "colab": {
          "base_uri": "https://localhost:8080/"
        },
        "id": "U7M1Kai3_aOL",
        "outputId": "30839669-37d0-4d00-e6b8-cf8d5269c4a5"
      },
      "execution_count": null,
      "outputs": [
        {
          "output_type": "stream",
          "name": "stdout",
          "text": [
            "True\n",
            "True\n"
          ]
        }
      ]
    },
    {
      "cell_type": "markdown",
      "source": [
        "3. Set Operations (Union, Intersection, Difference)\n",
        "Sets support efficient mathematical operations like union (|), intersection (&), and difference (-).\n",
        "\n",
        "Example:"
      ],
      "metadata": {
        "id": "vx-44YfZ_kD8"
      }
    },
    {
      "cell_type": "code",
      "source": [
        "set1 = {1, 2, 3}\n",
        "set2 = {3, 4, 5}\n",
        "\n",
        "print(set1 & set2)  # {3} (intersection)\n",
        "print(set1 | set2)  # {1, 2, 3, 4, 5} (union)\n",
        "print(set1 - set2)  # {1, 2} (difference)\n"
      ],
      "metadata": {
        "colab": {
          "base_uri": "https://localhost:8080/"
        },
        "id": "Q0ILRKL2_mdf",
        "outputId": "02ebf42a-b9f9-40de-be19-8d744713cc53"
      },
      "execution_count": null,
      "outputs": [
        {
          "output_type": "stream",
          "name": "stdout",
          "text": [
            "{3}\n",
            "{1, 2, 3, 4, 5}\n",
            "{1, 2}\n"
          ]
        }
      ]
    },
    {
      "cell_type": "markdown",
      "source": [
        "6.What is a string in Python, and how is it different from a list?\n",
        " - A string in Python is an immutable sequence of characters used to represent text. It is defined using either single ('), double (\") or triple (''' \"\"\") quotes."
      ],
      "metadata": {
        "id": "5Bq4RWEC_ovX"
      }
    },
    {
      "cell_type": "code",
      "source": [
        "my_string = \"Hello, World!\""
      ],
      "metadata": {
        "id": "0jGT8S1J_8qB"
      },
      "execution_count": null,
      "outputs": []
    },
    {
      "cell_type": "markdown",
      "source": [
        "Key differences between string and list are -\n",
        "\n",
        "String is a sequence of characters while lists is a collection of elements.\n",
        "\n",
        "String is immutable while list is mutable.\n",
        "\n",
        "String always consists of characters while list can contain mixed data type.\n",
        "\n",
        "String uses + to join strings (\"Hello\" + \" World\") while Lists uses + to merge lists ([1, 2] + [3, 4]).\n",
        "\n",
        "String iterates character by character while lists iterates element by element."
      ],
      "metadata": {
        "id": "zhwY8Mx0AF6x"
      }
    },
    {
      "cell_type": "markdown",
      "source": [
        "7.How do tuples ensure data integrity in Python?\n",
        " - Tuples ensure data integrity primarily through their immutability, meaning once a tuple is created, its elements cannot be modified, added, or removed. This makes them ideal for storing fixed or read-only data, preventing accidental changes that could lead to bugs or inconsistent data.\n",
        "\n",
        "8.What is a hash table, and how does it relate to dictionaries in Python?\n",
        " - A hash table (or hash map) is a data structure that stores key-value pairs and allows for fast lookups, insertions, and deletions. It achieves this efficiency by using a hash function to compute an index (or \"hash\") for each key, mapping it to a specific location in memory.\n",
        "\n",
        " In Python, dictionaries (dict) are implemented using hash tables. This means that:\n",
        "\n",
        "-Fast Lookups: Retrieving a value by its key takes O(1) time on average.\n",
        "-Fast Insertions/Deletions: Adding or removing key-value pairs is efficient.\n",
        "-Order Preservation (Python 3.7+): Dictionaries maintain insertion order while still using hashing for efficiency.\n",
        "\n",
        "Example of a Python dictionary using a hash table:"
      ],
      "metadata": {
        "id": "GhJJPDC8bxDA"
      }
    },
    {
      "cell_type": "code",
      "source": [
        "phone_book = {\n",
        "    \"Ann\": \"123-456\",\n",
        "    \"Bob\": \"987-654\",\n",
        "    \"Champ\": \"555-555\"\n",
        "}\n",
        "\n",
        "print(phone_book[\"Champ\"])  # O(1) lookup"
      ],
      "metadata": {
        "colab": {
          "base_uri": "https://localhost:8080/"
        },
        "id": "fJUUV4ePc21V",
        "outputId": "0ecfff04-314e-4b75-e172-1fcb1ef34c58"
      },
      "execution_count": null,
      "outputs": [
        {
          "output_type": "stream",
          "name": "stdout",
          "text": [
            "555-555\n"
          ]
        }
      ]
    },
    {
      "cell_type": "markdown",
      "source": [
        "9.Can lists contain different data types in Python?\n",
        " - Yes! Lists in Python can contain different data types within the same list. Python lists are heterogeneous, meaning they can store elements of various types, including integers, strings, floats, booleans, other lists, and even custom objects.\n",
        "\n",
        " For example-"
      ],
      "metadata": {
        "id": "g0RnKj7LdSV8"
      }
    },
    {
      "cell_type": "code",
      "source": [
        "mixed_list = [42, \"hello\", 3.14, True, [1, 2, 3], {\"key\": \"value\"}]\n",
        "\n",
        "print(mixed_list)"
      ],
      "metadata": {
        "colab": {
          "base_uri": "https://localhost:8080/"
        },
        "id": "XXw4BqrKdf1O",
        "outputId": "a6b90b38-82dc-4c22-ba4a-a1954cb1daad"
      },
      "execution_count": null,
      "outputs": [
        {
          "output_type": "stream",
          "name": "stdout",
          "text": [
            "[42, 'hello', 3.14, True, [1, 2, 3], {'key': 'value'}]\n"
          ]
        }
      ]
    },
    {
      "cell_type": "markdown",
      "source": [
        "10.Explain why strings are immutable in Python.\n",
        " - Reasons why strings are immutable in python -\n",
        "\n",
        " a. Memory Efficiency (String Interning)\n",
        "Python interns some strings (especially short and common ones) to save memory. If strings were mutable, modifying one would affect all references to it.\n",
        "For example-"
      ],
      "metadata": {
        "id": "zFQ_7WI0doUc"
      }
    },
    {
      "cell_type": "code",
      "source": [
        "a = \"hello\"\n",
        "b = \"hello\"  # Python optimizes by pointing to the same memory location\n",
        "print(a is b)  # True (same object in memory)\n",
        "\n",
        "# If strings were mutable, changing 'a' would also change 'b', causing unintended issues."
      ],
      "metadata": {
        "colab": {
          "base_uri": "https://localhost:8080/"
        },
        "id": "T_G5MlCdeK-2",
        "outputId": "5afdb5d3-4bec-484d-d7a3-1ca0fa49e1af"
      },
      "execution_count": null,
      "outputs": [
        {
          "output_type": "stream",
          "name": "stdout",
          "text": [
            "True\n"
          ]
        }
      ]
    },
    {
      "cell_type": "markdown",
      "source": [
        "  b. Hashability (Use in Dictionaries & Sets)-\n",
        "Immutable objects like strings can be hashed, making them safe to use as keys in dictionaries and elements in sets."
      ],
      "metadata": {
        "id": "qjrV-ZyYeWBY"
      }
    },
    {
      "cell_type": "code",
      "source": [
        "my_dict = {\"name\": \"Alice\", \"age\": 25}\n",
        "print(my_dict[\"name\"])  # Strings work as dictionary keys because they are immutable"
      ],
      "metadata": {
        "colab": {
          "base_uri": "https://localhost:8080/"
        },
        "id": "fVjw3hOTeZJW",
        "outputId": "90f9eb0f-fcf1-48ec-fb39-068598aa9fa0"
      },
      "execution_count": null,
      "outputs": [
        {
          "output_type": "stream",
          "name": "stdout",
          "text": [
            "Alice\n"
          ]
        }
      ]
    },
    {
      "cell_type": "markdown",
      "source": [
        "If strings were mutable, changing a key would break dictionary lookups."
      ],
      "metadata": {
        "id": "MLbONy7-e_Ny"
      }
    },
    {
      "cell_type": "markdown",
      "source": [
        "c. Security & Reliability\n",
        "Immutability helps prevent accidental modifications in large applications, ensuring data integrity.\n",
        "\n",
        "Example:"
      ],
      "metadata": {
        "id": "w7u8QNQYfJ3C"
      }
    },
    {
      "cell_type": "code",
      "source": [
        "password = \"secure_pass123\"\n",
        "# password[0] = 'S'  # This would raise an error"
      ],
      "metadata": {
        "id": "0n5Cwjj0fPoi"
      },
      "execution_count": null,
      "outputs": []
    },
    {
      "cell_type": "markdown",
      "source": [
        "This prevents security risks where a password or other critical string could be changed unexpectedly."
      ],
      "metadata": {
        "id": "I2ksdwAQfeHn"
      }
    },
    {
      "cell_type": "markdown",
      "source": [
        "11.What advantages do dictionaries offer over lists for certain tasks?\n",
        " - Dictionaries (dict) and lists (list) are both fundamental data structures in Python, but dictionaries offer key advantages in specific scenarios.\n",
        "\n",
        "a.Faster Lookups (O(1) vs. O(n))\n",
        "\n",
        "Dictionaries: Provide O(1) (constant time) lookup for keys using a hash table.\n",
        "\n",
        "Lists: Require O(n) (linear time) search since elements must be checked one by one."
      ],
      "metadata": {
        "id": "n2QVO96BffOr"
      }
    },
    {
      "cell_type": "code",
      "source": [
        "# Using a list (O(n) lookup)\n",
        "students = [(\"Alice\", 25), (\"Bob\", 30), (\"Charlie\", 22)]\n",
        "for student in students:\n",
        "    if student[0] == \"Bob\":\n",
        "        print(student[1])  # Output: 30\n",
        "\n",
        "# Using a dictionary (O(1) lookup)\n",
        "students_dict = {\"Alice\": 25, \"Bob\": 30, \"Charlie\": 22}\n",
        "print(students_dict[\"Bob\"])  # Output: 30 (direct lookup)"
      ],
      "metadata": {
        "colab": {
          "base_uri": "https://localhost:8080/"
        },
        "id": "2Ar0M2uhk7lc",
        "outputId": "05c957e8-d902-4cb3-a201-5c0b4e4e61be"
      },
      "execution_count": null,
      "outputs": [
        {
          "output_type": "stream",
          "name": "stdout",
          "text": [
            "30\n",
            "30\n"
          ]
        }
      ]
    },
    {
      "cell_type": "markdown",
      "source": [
        "Advantage: Dictionaries are much faster for searching by key."
      ],
      "metadata": {
        "id": "-wiuMgJ3lDMt"
      }
    },
    {
      "cell_type": "markdown",
      "source": [
        "b. Key-Value Pair Storage (Better Organization)\n",
        "\n",
        "Dictionaries: Store data as key-value pairs, making them ideal for structured data.\n",
        "\n",
        "Lists: Store values without explicit keys, making retrieval less intuitive."
      ],
      "metadata": {
        "id": "KXdcGouzlEBD"
      }
    },
    {
      "cell_type": "code",
      "source": [
        "# List (less intuitive)\n",
        "employee = [\"Alice\", 25, \"Engineer\"]\n",
        "print(employee[0])  # Must remember index positions\n",
        "\n",
        "# Dictionary (more readable)\n",
        "employee = {\"name\": \"Alice\", \"age\": 25, \"role\": \"Engineer\"}\n",
        "print(employee[\"age\"])  # More intuitive"
      ],
      "metadata": {
        "colab": {
          "base_uri": "https://localhost:8080/"
        },
        "id": "37K0dmSOlIWH",
        "outputId": "f2b97081-60e4-4805-845d-6ef7ea7eb35d"
      },
      "execution_count": null,
      "outputs": [
        {
          "output_type": "stream",
          "name": "stdout",
          "text": [
            "Alice\n",
            "25\n"
          ]
        }
      ]
    },
    {
      "cell_type": "markdown",
      "source": [
        "Advantage: Dictionaries self-document their data with meaningful keys"
      ],
      "metadata": {
        "id": "9YGjFMkplSOq"
      }
    },
    {
      "cell_type": "markdown",
      "source": [
        "12.Describe a scenario where using a tuple would be preferable over a list.\n",
        " - Scenario: Storing GPS Coordinates (Latitude, Longitude)\n",
        "A tuple is the preferred choice when storing GPS coordinates (e.g., (latitude, longitude)) because:\n",
        "\n",
        "Immutability: GPS coordinates should not change after being assigned.\n",
        "\n",
        "Data Integrity: Prevents accidental modifications, ensuring reliable data.\n",
        "\n",
        "Memory Efficiency: Tuples use less memory than lists, improving performance in large datasets.\n",
        "\n",
        "Hashability: Tuples can be used as dictionary keys, whereas lists cannot.\n",
        "\n"
      ],
      "metadata": {
        "id": "Tdrpy56flS67"
      }
    },
    {
      "cell_type": "code",
      "source": [
        "# Coordinates of New York City (Latitude, Longitude)\n",
        "nyc_coordinates = (40.7128, -74.0060)  # Tuple is immutable\n",
        "\n",
        "# Dictionary mapping city names to coordinates\n",
        "locations = {\n",
        "    \"New York\": (40.7128, -74.0060),\n",
        "    \"Los Angeles\": (34.0522, -118.2437),\n",
        "    \"Chicago\": (41.8781, -87.6298)\n",
        "}\n",
        "\n",
        "print(locations[\"New York\"])"
      ],
      "metadata": {
        "colab": {
          "base_uri": "https://localhost:8080/"
        },
        "id": "pJCTj_Xymj_x",
        "outputId": "dcd870e4-c06c-4b25-fc90-3cc8026365d6"
      },
      "execution_count": null,
      "outputs": [
        {
          "output_type": "stream",
          "name": "stdout",
          "text": [
            "(40.7128, -74.006)\n"
          ]
        }
      ]
    },
    {
      "cell_type": "markdown",
      "source": [
        "Lists are mutable, meaning coordinates could be accidentally modified.\n",
        "Tuples prevent accidental changes, ensuring data integrity."
      ],
      "metadata": {
        "id": "B4X8Ha_tmujj"
      }
    },
    {
      "cell_type": "code",
      "source": [
        "nyc_list = [40.7128, -74.0060]\n",
        "nyc_list[0] = 35.0000  # ❌ Changes the coordinates, which is incorrect"
      ],
      "metadata": {
        "id": "XZpfgHckmy8t"
      },
      "execution_count": null,
      "outputs": []
    },
    {
      "cell_type": "markdown",
      "source": [
        "13.How do sets handle duplicate values in Python?\n",
        " - In Python, sets automatically remove duplicate values when elements are added. This happens because sets are unordered collections of unique elements.\n",
        "\n",
        "How Sets Eliminate Duplicates --\n",
        "\n",
        "When a value is added to a set, Python checks if it already exists.\n",
        "\n",
        "If the value is already present, it is ignored.\n",
        "\n",
        "If the value is not present, it is added.\n",
        "\n"
      ],
      "metadata": {
        "id": "XPNn0gDum6eA"
      }
    },
    {
      "cell_type": "code",
      "source": [
        "numbers = {1, 2, 3, 3, 4, 4, 5}\n",
        "print(numbers)  # Output: {1, 2, 3, 4, 5}\n",
        "# Here, even though 3 and 4 were added twice, they appear only once in the set."
      ],
      "metadata": {
        "colab": {
          "base_uri": "https://localhost:8080/"
        },
        "id": "c5FZM3cAnisd",
        "outputId": "0258a11f-f561-4e72-9bdd-818fced67b2d"
      },
      "execution_count": null,
      "outputs": [
        {
          "output_type": "stream",
          "name": "stdout",
          "text": [
            "{1, 2, 3, 4, 5}\n"
          ]
        }
      ]
    },
    {
      "cell_type": "markdown",
      "source": [
        "Using set() to Remove Duplicates from a List\n",
        "\n",
        "A common use case is converting a list with duplicates into a set to remove duplicate values."
      ],
      "metadata": {
        "id": "ij-tBv47nuPi"
      }
    },
    {
      "cell_type": "code",
      "source": [
        "names = [\"Alice\", \"Bob\", \"Alice\", \"Charlie\", \"Bob\"]\n",
        "unique_names = set(names)  # Removes duplicates\n",
        "print(unique_names)  # Output: {'Alice', 'Bob', 'Charlie'}"
      ],
      "metadata": {
        "colab": {
          "base_uri": "https://localhost:8080/"
        },
        "id": "L6FA7NRinvwY",
        "outputId": "f39feb38-0407-494f-8586-160b447e3704"
      },
      "execution_count": null,
      "outputs": [
        {
          "output_type": "stream",
          "name": "stdout",
          "text": [
            "{'Charlie', 'Bob', 'Alice'}\n"
          ]
        }
      ]
    },
    {
      "cell_type": "markdown",
      "source": [
        "14. How does the “in” keyword work differently for lists and dictionaries?\n",
        "- The in keyword searches for an element sequentially in a list.\n",
        "It takes O(n) time complexity because Python checks each element one by one.\n",
        "\n",
        "Example: Checking if a Value Exists in a List"
      ],
      "metadata": {
        "id": "pmuSXy8An3Ro"
      }
    },
    {
      "cell_type": "code",
      "source": [
        "numbers = [10, 20, 30, 40, 50]\n",
        "\n",
        "print(30 in numbers) #true\n",
        "print(100 in numbers) #false"
      ],
      "metadata": {
        "colab": {
          "base_uri": "https://localhost:8080/"
        },
        "id": "tI-Ot_KvpXOU",
        "outputId": "3c5b28fe-f5ea-4adc-80b6-d982a0d55499"
      },
      "execution_count": null,
      "outputs": [
        {
          "output_type": "stream",
          "name": "stdout",
          "text": [
            "True\n",
            "False\n"
          ]
        }
      ]
    },
    {
      "cell_type": "markdown",
      "source": [
        "It works, but slow for large lists since it scans each element one by one."
      ],
      "metadata": {
        "id": "89Es0ZejpowL"
      }
    },
    {
      "cell_type": "markdown",
      "source": [
        "In dictionaries, in checks for the existence of a key, not a value.\n",
        "\n",
        "Since dictionaries use hash tables, key lookups are much faster (O(1) on average).\n",
        "\n",
        "For example- Checking for a Key in a Dictionary"
      ],
      "metadata": {
        "id": "QxuihcLtpwCm"
      }
    },
    {
      "cell_type": "code",
      "source": [
        "student_ages = {\"Alice\": 25, \"Bob\": 30, \"Charlie\": 22}\n",
        "\n",
        "print(\"Alice\" in student_ages)   #True\n",
        "print(\"David\" in student_ages)   #False"
      ],
      "metadata": {
        "colab": {
          "base_uri": "https://localhost:8080/"
        },
        "id": "_PLdUIDTp25X",
        "outputId": "d39ea522-f995-4207-a1b6-4c259807c9c5"
      },
      "execution_count": null,
      "outputs": [
        {
          "output_type": "stream",
          "name": "stdout",
          "text": [
            "True\n",
            "False\n"
          ]
        }
      ]
    },
    {
      "cell_type": "markdown",
      "source": [
        "Fast because it uses hashing for direct key lookup."
      ],
      "metadata": {
        "id": "qn9jB60lqGGS"
      }
    },
    {
      "cell_type": "markdown",
      "source": [
        "15.Can you modify the elements of a tuple? Explain why or why not?\n",
        " -  No, we cannot modify the elements of a tuple in Python. Tuples are immutable, meaning once they are created, their elements cannot be changed, added, or removed.\n",
        "\n",
        "Tuples are immutable due to-\n",
        "\n",
        "Memory Efficiency: Since tuples don’t change, Python can optimize their storage, making them more efficient than lists.\n",
        "\n",
        "Data Integrity: Prevents accidental modifications in programs where values should remain constant.\n",
        "\n",
        "Hashability: Tuples can be used as keys in dictionaries or elements in sets, unlike lists.\n",
        "\n",
        "Example-"
      ],
      "metadata": {
        "id": "Ce0g0h19qG-C"
      }
    },
    {
      "cell_type": "code",
      "source": [
        "t = (1, 2, 3)\n",
        "t[0] = 100  #TypeError: 'tuple' object does not support item assignment"
      ],
      "metadata": {
        "id": "hDQSCQS3sTG1"
      },
      "execution_count": null,
      "outputs": []
    },
    {
      "cell_type": "markdown",
      "source": [
        "16.What is a nested dictionary, and give an example of its use case?\n",
        " - A nested dictionary is a dictionary that contains one or more dictionaries as values. This allows for hierarchical or structured data storage.\n",
        "\n",
        "Nested dictionaries are useful for storing structured data, like employee records in a company."
      ],
      "metadata": {
        "id": "AWnZBJBXsdlq"
      }
    },
    {
      "cell_type": "code",
      "source": [
        "company = {\n",
        "    \"Engineering\": {\n",
        "        \"John\": {\"position\": \"Software Engineer\", \"salary\": 75000},\n",
        "        \"Jane\": {\"position\": \"DevOps Engineer\", \"salary\": 80000}\n",
        "    },\n",
        "    \"Marketing\": {\n",
        "        \"Alice\": {\"position\": \"SEO Specialist\", \"salary\": 60000},\n",
        "        \"Bob\": {\"position\": \"Content Writer\", \"salary\": 55000}\n",
        "    }\n",
        "}\n",
        "\n",
        "print(company[\"Engineering\"][\"John\"][\"salary\"])"
      ],
      "metadata": {
        "colab": {
          "base_uri": "https://localhost:8080/"
        },
        "id": "gxLRToQy2C2M",
        "outputId": "18758915-2955-400d-8856-ce4c15e4d2c9"
      },
      "execution_count": null,
      "outputs": [
        {
          "output_type": "stream",
          "name": "stdout",
          "text": [
            "75000\n"
          ]
        }
      ]
    },
    {
      "cell_type": "markdown",
      "source": [
        "17.Describe the time complexity of accessing elements in a dictionary.\n",
        " - Python dictionaries use hash tables, making element access very efficient. The time complexity depends on whether you’re accessing a key or searching for a value.\n",
        "\n",
        "a.Accessing a Key (dict[key]) → O(1) (Average Case)\n",
        "Dictionary keys are hashed and stored in a hash table, allowing for constant-time lookup.\n",
        "\n",
        "In the average case, accessing a key is O(1) because Python computes the hash and finds the key directly."
      ],
      "metadata": {
        "id": "Pz8iDzr12Qnq"
      }
    },
    {
      "cell_type": "code",
      "source": [
        "data = {\"Alice\": 25, \"Bob\": 30, \"Charlie\": 22}\n",
        "print(data[\"Bob\"])  # O(1) lookup"
      ],
      "metadata": {
        "colab": {
          "base_uri": "https://localhost:8080/"
        },
        "id": "Z4R8IQ8Z7SH4",
        "outputId": "8be526e0-09d6-4648-a5e6-c0489ea90326"
      },
      "execution_count": null,
      "outputs": [
        {
          "output_type": "stream",
          "name": "stdout",
          "text": [
            "30\n"
          ]
        }
      ]
    },
    {
      "cell_type": "markdown",
      "source": [
        "b.Accessing a Key (dict[key]) → O(n) (Worst Case)\n",
        "In rare cases, multiple keys can have the same hash (hash collisions).\n",
        "\n",
        "Python resolves these using linked lists or other techniques, making lookup degrade to O(n) in the worst case.\n",
        "\n",
        "However, Python optimizes hash table resizing to minimize collisions, so O(n) is uncommon."
      ],
      "metadata": {
        "id": "a7vKJz_E7ZCU"
      }
    },
    {
      "cell_type": "markdown",
      "source": [
        "c.Checking for a Key (key in dict) → O(1) (Average Case)\n",
        "Since dictionaries use hashing, checking if a key exists is also O(1) on average."
      ],
      "metadata": {
        "id": "U3zPRAki7fdT"
      }
    },
    {
      "cell_type": "code",
      "source": [
        "if \"Alice\" in data:  # O(1)\n",
        "    print(\"Found Alice!\")"
      ],
      "metadata": {
        "colab": {
          "base_uri": "https://localhost:8080/"
        },
        "id": "RL_Q0ZXd7YfL",
        "outputId": "2b429ce7-c939-467b-aa12-00edef9c0ca6"
      },
      "execution_count": null,
      "outputs": [
        {
          "output_type": "stream",
          "name": "stdout",
          "text": [
            "Found Alice!\n"
          ]
        }
      ]
    },
    {
      "cell_type": "markdown",
      "source": [
        "d.Searching for a Value (value in dict.values()) → O(n)\n",
        "Unlike keys, values are not indexed and require a linear search.\n",
        "\n",
        "Python has to scan all values, making the time complexity O(n)."
      ],
      "metadata": {
        "id": "MrYT4UKh7lsu"
      }
    },
    {
      "cell_type": "code",
      "source": [
        "print(30 in data.values())  # O(n)"
      ],
      "metadata": {
        "colab": {
          "base_uri": "https://localhost:8080/"
        },
        "id": "76knJUur7ncs",
        "outputId": "eab5a7aa-e07a-40e6-c245-19ff4c050ce8"
      },
      "execution_count": null,
      "outputs": [
        {
          "output_type": "stream",
          "name": "stdout",
          "text": [
            "True\n"
          ]
        }
      ]
    },
    {
      "cell_type": "markdown",
      "source": [
        "e.Iterating Over a Dictionary → O(n)\n",
        "Iterating over keys, values, or items requires O(n) time, as all elements must be visited."
      ],
      "metadata": {
        "id": "Kskas8XE7rYi"
      }
    },
    {
      "cell_type": "code",
      "source": [
        "for key in data:  # O(n)\n",
        "    print(key, data[key])"
      ],
      "metadata": {
        "colab": {
          "base_uri": "https://localhost:8080/"
        },
        "id": "we48mbgI7uNg",
        "outputId": "72e542b3-7da9-4e4a-9895-56dba618fb16"
      },
      "execution_count": null,
      "outputs": [
        {
          "output_type": "stream",
          "name": "stdout",
          "text": [
            "Alice 25\n",
            "Bob 30\n",
            "Charlie 22\n"
          ]
        }
      ]
    },
    {
      "cell_type": "markdown",
      "source": [
        "18.In what situations are lists preferred over dictionaries?\n",
        " - While dictionaries (dict) are great for fast lookups, lists (list) are more suitable in several scenarios:\n",
        "\n",
        "a.Maintaining Order (Before Python 3.7)\n",
        "Lists maintain order of elements naturally.\n",
        "Dictionaries (before Python 3.7) did not guarantee order, so if order matters, lists were preferred.\n",
        "From Python 3.7+, dictionaries preserve insertion order, but lists are still simpler for ordered sequences."
      ],
      "metadata": {
        "id": "98Cxm7KU70C8"
      }
    },
    {
      "cell_type": "code",
      "source": [
        "names = [\"Alice\", \"Bob\", \"Charlie\"]  # Order is preserved naturally"
      ],
      "metadata": {
        "id": "HMQ9cTiT8gZc"
      },
      "execution_count": null,
      "outputs": []
    },
    {
      "cell_type": "markdown",
      "source": [
        "b.When Only Values Matter (No Key-Value Pairs Needed)\n",
        "Lists are better for simple collections of items, where no unique keys are required.\n",
        "\n",
        "Dictionaries require keys, making them overkill for simple data storage."
      ],
      "metadata": {
        "id": "7Heo2smw8vZn"
      }
    },
    {
      "cell_type": "code",
      "source": [
        "scores = [85, 90, 78, 92]  # Just a collection of numbers"
      ],
      "metadata": {
        "id": "rSf3rSXT81sb"
      },
      "execution_count": null,
      "outputs": []
    },
    {
      "cell_type": "markdown",
      "source": [
        "c.When Sequential Access is Needed\n",
        "Lists are optimized for iteration and support indexing, making them ideal for looping through items.\n",
        "\n",
        "Dictionaries are not designed for indexed access and require key lookups."
      ],
      "metadata": {
        "id": "A8NPji1s85MY"
      }
    },
    {
      "cell_type": "code",
      "source": [
        "for score in scores:  # Easy sequential access\n",
        "    print(score)"
      ],
      "metadata": {
        "colab": {
          "base_uri": "https://localhost:8080/"
        },
        "id": "fKzN0MZk8-wW",
        "outputId": "cfc7a6fb-c988-413e-bcd3-89f0ff3fe922"
      },
      "execution_count": null,
      "outputs": [
        {
          "output_type": "stream",
          "name": "stdout",
          "text": [
            "85\n",
            "90\n",
            "78\n",
            "92\n"
          ]
        }
      ]
    },
    {
      "cell_type": "markdown",
      "source": [
        "d.When You Need Duplicate Elements\n",
        "Lists allow duplicates, whereas dictionaries do not allow duplicate keys.\n",
        "\n",
        "Useful when dealing with non-unique data like a list of student scores."
      ],
      "metadata": {
        "id": "LPd3yBzu9DWH"
      }
    },
    {
      "cell_type": "code",
      "source": [
        "colors = [\"red\", \"blue\", \"red\", \"green\"]  # Duplicates are allowed"
      ],
      "metadata": {
        "id": "ar7niGw19GPh"
      },
      "execution_count": null,
      "outputs": []
    },
    {
      "cell_type": "markdown",
      "source": [
        "e.When Memory Efficiency is Important for Small Datasets\n",
        "Lists use less memory than dictionaries because dictionaries store both keys and values.\n",
        "\n",
        "If memory usage is a concern, lists are more lightweight for small collections."
      ],
      "metadata": {
        "id": "pDtbHdIX9Jy3"
      }
    },
    {
      "cell_type": "code",
      "source": [
        "small_list = [1, 2, 3, 4]  # Uses less memory than {\"a\": 1, \"b\": 2}"
      ],
      "metadata": {
        "id": "-56hPYvI9L__"
      },
      "execution_count": null,
      "outputs": []
    },
    {
      "cell_type": "markdown",
      "source": [
        "f.When Sorting is Required\n",
        "Lists support direct sorting (sort()), whereas dictionaries require extra steps to sort by keys or values."
      ],
      "metadata": {
        "id": "PrFi4l-V9Qah"
      }
    },
    {
      "cell_type": "code",
      "source": [
        "numbers = [5, 3, 8, 1]\n",
        "numbers.sort()  # Output: [1, 3, 5, 8]"
      ],
      "metadata": {
        "id": "1V3sEg709S8d"
      },
      "execution_count": null,
      "outputs": []
    },
    {
      "cell_type": "markdown",
      "source": [
        "19.Why are dictionaries considered unordered, and how does that affect data retrieval?\n",
        " - In Python, dictionaries were historically considered unordered because they were implemented using hash tables, where:\n",
        "Keys are not stored sequentially, but rather placed in memory based on their hash values.\n",
        "The order of elements was not guaranteed, meaning insertion order was not preserved.\n",
        "\n",
        "This affect data retrieval in many ways--\n",
        "1.Faster Lookups, But No Indexed Access\n",
        "\n",
        "Unlike lists, which allow index-based retrieval (list[0]), dictionaries require key lookups (dict[\"key\"]).\n",
        "\n",
        "You cannot access elements by position (e.g., dict[0] does not work)."
      ],
      "metadata": {
        "id": "fmPokkv4-T3T"
      }
    },
    {
      "cell_type": "code",
      "source": [
        "data = {\"Alice\": 25, \"Bob\": 30}\n",
        "print(data[\"Alice\"])  # ✅ Works\n",
        "print(data[0])  # ❌ KeyError (no index-based access)"
      ],
      "metadata": {
        "id": "qM0dBT38Af13"
      },
      "execution_count": null,
      "outputs": []
    },
    {
      "cell_type": "markdown",
      "source": [
        "20.Explain the difference between a list and a dictionary in terms of data retrieval.\n",
        " - 1. Data Retrieval in Lists (Index-Based, O(1))\n",
        "Lists store ordered elements and allow index-based access.\n",
        "\n",
        "Retrieving an element by index is fast (O(1)) since Python can directly access the memory location.\n",
        "\n",
        "Example: Accessing Elements in a List"
      ],
      "metadata": {
        "id": "iTw56lnrBVhy"
      }
    },
    {
      "cell_type": "code",
      "source": [
        "fruits = [\"apple\", \"banana\", \"cherry\"]\n",
        "print(fruits[1])"
      ],
      "metadata": {
        "colab": {
          "base_uri": "https://localhost:8080/"
        },
        "id": "u1gd_S2_BsRG",
        "outputId": "46903119-31d7-46d4-b2d1-d2bbb7ca3384"
      },
      "execution_count": null,
      "outputs": [
        {
          "output_type": "stream",
          "name": "stdout",
          "text": [
            "banana\n"
          ]
        }
      ]
    },
    {
      "cell_type": "markdown",
      "source": [
        "2.Data Retrieval in Dictionaries (Key-Based, O(1))\n",
        "Dictionaries store key-value pairs and allow direct lookup by key.\n",
        "\n",
        "They use hash tables, making key retrieval very fast (O(1)) on average.\n",
        "\n",
        "Example: Accessing Elements in a Dictionary"
      ],
      "metadata": {
        "id": "VvBnkUW8B3zH"
      }
    },
    {
      "cell_type": "code",
      "source": [
        "student_ages = {\"Alice\": 25, \"Bob\": 30, \"Charlie\": 22}\n",
        "print(student_ages[\"Bob\"])"
      ],
      "metadata": {
        "colab": {
          "base_uri": "https://localhost:8080/"
        },
        "id": "-BWsDohFCA4b",
        "outputId": "f9808d42-a2f1-4bb2-df27-c4f1ceba68e5"
      },
      "execution_count": null,
      "outputs": [
        {
          "output_type": "stream",
          "name": "stdout",
          "text": [
            "30\n"
          ]
        }
      ]
    },
    {
      "cell_type": "code",
      "source": [
        "#1.Write a code to create a string with your name and print it.\n",
        "name = \"Sonia\"  # Replace with your name\n",
        "print(name)"
      ],
      "metadata": {
        "colab": {
          "base_uri": "https://localhost:8080/"
        },
        "id": "ADeiX8Z0CHh9",
        "outputId": "f471e49c-a304-481f-8151-fa883d4fbc32"
      },
      "execution_count": null,
      "outputs": [
        {
          "output_type": "stream",
          "name": "stdout",
          "text": [
            "Sonia\n"
          ]
        }
      ]
    },
    {
      "cell_type": "code",
      "source": [
        "#2.Write a code to find the length of the string \"Hello World\".\n",
        "message = \"Hello World\"\n",
        "length = len(message)\n",
        "print(\"Length of the string:\", length)"
      ],
      "metadata": {
        "colab": {
          "base_uri": "https://localhost:8080/"
        },
        "id": "R6s9ekpSCWGL",
        "outputId": "e83bcb8b-9b84-4451-83b0-3379d0fc911d"
      },
      "execution_count": null,
      "outputs": [
        {
          "output_type": "stream",
          "name": "stdout",
          "text": [
            "Length of the string: 11\n"
          ]
        }
      ]
    },
    {
      "cell_type": "code",
      "source": [
        "#3.Write a code to slice the first 3 characters from the string \"Python Programming\".\n",
        "text = \"Python Programming\"\n",
        "first_three = text[:3]\n",
        "print(first_three)"
      ],
      "metadata": {
        "colab": {
          "base_uri": "https://localhost:8080/"
        },
        "id": "IHQC41rrCiKo",
        "outputId": "1cf5821b-6022-4cbd-c76d-e3067898740f"
      },
      "execution_count": null,
      "outputs": [
        {
          "output_type": "stream",
          "name": "stdout",
          "text": [
            "Pyt\n"
          ]
        }
      ]
    },
    {
      "cell_type": "code",
      "source": [
        "#4. Write a code to convert the string \"hello\" to uppercase.\n",
        "text = \"hello\"\n",
        "uppercase_text = text.upper()\n",
        "print(uppercase_text)"
      ],
      "metadata": {
        "colab": {
          "base_uri": "https://localhost:8080/"
        },
        "id": "xG4YsJMXC1HY",
        "outputId": "009a2247-604c-4d5a-a14b-5b6a67116653"
      },
      "execution_count": null,
      "outputs": [
        {
          "output_type": "stream",
          "name": "stdout",
          "text": [
            "HELLO\n"
          ]
        }
      ]
    },
    {
      "cell_type": "code",
      "source": [
        "#5.Write a code to replace the word \"apple\" with \"orange\" in the string \"I like apple\".\n",
        "text = \"I like apple\"\n",
        "new_text = text.replace(\"apple\", \"orange\")\n",
        "print(new_text)"
      ],
      "metadata": {
        "colab": {
          "base_uri": "https://localhost:8080/"
        },
        "id": "agXW4D0VC-l0",
        "outputId": "ce38fddc-0b8c-415f-9be0-1f64749b4c58"
      },
      "execution_count": null,
      "outputs": [
        {
          "output_type": "stream",
          "name": "stdout",
          "text": [
            "I like orange\n"
          ]
        }
      ]
    },
    {
      "cell_type": "code",
      "source": [
        "#6.Write a code to create a list with numbers 1 to 5 and print it.\n",
        "numbers = [1, 2, 3, 4, 5]\n",
        "print(numbers)"
      ],
      "metadata": {
        "colab": {
          "base_uri": "https://localhost:8080/"
        },
        "id": "y_4q-r0sDSjp",
        "outputId": "5b396cba-c07d-4332-8619-5104513c62a2"
      },
      "execution_count": null,
      "outputs": [
        {
          "output_type": "stream",
          "name": "stdout",
          "text": [
            "[1, 2, 3, 4, 5]\n"
          ]
        }
      ]
    },
    {
      "cell_type": "code",
      "source": [
        "#7.Write a code to append the number 10 to the list [1, 2, 3, 4].\n",
        "numbers = [1, 2, 3, 4, 5]\n",
        "numbers.append(10)\n",
        "print(numbers)"
      ],
      "metadata": {
        "colab": {
          "base_uri": "https://localhost:8080/"
        },
        "id": "R82WBjAVDiWY",
        "outputId": "e155bc70-7916-41e6-8de7-8e6694e159eb"
      },
      "execution_count": null,
      "outputs": [
        {
          "output_type": "stream",
          "name": "stdout",
          "text": [
            "[1, 2, 3, 4, 5, 10]\n"
          ]
        }
      ]
    },
    {
      "cell_type": "code",
      "source": [
        "#8.Write a code to remove the number 3 from the list [1, 2, 3, 4, 5].\n",
        "numbers = [1, 2, 3, 4, 5]\n",
        "numbers.remove(3)\n",
        "print(numbers)"
      ],
      "metadata": {
        "colab": {
          "base_uri": "https://localhost:8080/"
        },
        "id": "YvhOsH0XEB9u",
        "outputId": "4540f33c-a1dd-4cec-a9f7-1fe46f8a95dc"
      },
      "execution_count": null,
      "outputs": [
        {
          "output_type": "stream",
          "name": "stdout",
          "text": [
            "[1, 2, 4, 5]\n"
          ]
        }
      ]
    },
    {
      "cell_type": "code",
      "source": [
        "#9.Write a code to access the second element in the list ['a', 'b', 'c', 'd'].\n",
        "letters = ['a', 'b', 'c', 'd']\n",
        "second_element = letters[1]\n",
        "print(second_element)"
      ],
      "metadata": {
        "colab": {
          "base_uri": "https://localhost:8080/"
        },
        "id": "uHfaEA0PEWYe",
        "outputId": "d615f5e1-ce4e-4c4c-e060-c4aa8e625589"
      },
      "execution_count": null,
      "outputs": [
        {
          "output_type": "stream",
          "name": "stdout",
          "text": [
            "b\n"
          ]
        }
      ]
    },
    {
      "cell_type": "code",
      "source": [
        "#10.Write a code to reverse the list [10, 20, 30, 40, 50].\n",
        "numbers = [10, 20, 30, 40, 50]\n",
        "numbers.reverse()\n",
        "print(numbers)"
      ],
      "metadata": {
        "colab": {
          "base_uri": "https://localhost:8080/"
        },
        "id": "sD7tjroCFZ6g",
        "outputId": "a570e60d-e5ab-48a7-fb53-2879194c46b4"
      },
      "execution_count": null,
      "outputs": [
        {
          "output_type": "stream",
          "name": "stdout",
          "text": [
            "[50, 40, 30, 20, 10]\n"
          ]
        }
      ]
    },
    {
      "cell_type": "code",
      "source": [
        "#11.Write a code to create a tuple with the elements 100, 200, 300 and print it.\n",
        "numbers = [100, 200, 300]\n",
        "print(numbers)"
      ],
      "metadata": {
        "colab": {
          "base_uri": "https://localhost:8080/"
        },
        "id": "v7nPl13AGJxR",
        "outputId": "d49119a0-5d2b-4c15-ce55-72854f302a78"
      },
      "execution_count": null,
      "outputs": [
        {
          "output_type": "stream",
          "name": "stdout",
          "text": [
            "[100, 200, 300]\n"
          ]
        }
      ]
    },
    {
      "cell_type": "code",
      "source": [
        "#12.Write a code to access the second-to-last element of the tuple ('red', 'green', 'blue', 'yellow').\n",
        "colours = ['red', 'green', 'blue', 'yellow']\n",
        "second_last_element = colours[-2]\n",
        "print(second_last_element)"
      ],
      "metadata": {
        "colab": {
          "base_uri": "https://localhost:8080/"
        },
        "id": "XuGcIOv3GZkb",
        "outputId": "8b8ddffd-4dd6-4cd0-c3bc-8af1eaca568c"
      },
      "execution_count": null,
      "outputs": [
        {
          "output_type": "stream",
          "name": "stdout",
          "text": [
            "blue\n"
          ]
        }
      ]
    },
    {
      "cell_type": "code",
      "source": [
        "#13.Write a code to find the minimum number in the tuple (10, 20, 5, 15).\n",
        "numbers = [10, 20, 5, 15]\n",
        "min_number = min(numbers)\n",
        "print(\"Minimum number:\", min_number)"
      ],
      "metadata": {
        "colab": {
          "base_uri": "https://localhost:8080/"
        },
        "id": "6I4yvedRHR8r",
        "outputId": "f0a1b3e9-5332-4b8d-d893-cd3d16cbb3d2"
      },
      "execution_count": null,
      "outputs": [
        {
          "output_type": "stream",
          "name": "stdout",
          "text": [
            "Minimum number: 5\n"
          ]
        }
      ]
    },
    {
      "cell_type": "code",
      "source": [
        "#14.Write a code to find the index of the element \"cat\" in the tuple ('dog', 'cat', 'rabbit').\n",
        "animals = ('dog', 'cat', 'rabbit')\n",
        "index_of_cat = animals.index('cat')\n",
        "print(index_of_cat)"
      ],
      "metadata": {
        "colab": {
          "base_uri": "https://localhost:8080/"
        },
        "id": "izm80_MWHluh",
        "outputId": "cbc8546b-a946-4499-d203-6db964451824"
      },
      "execution_count": null,
      "outputs": [
        {
          "output_type": "stream",
          "name": "stdout",
          "text": [
            "1\n"
          ]
        }
      ]
    },
    {
      "cell_type": "code",
      "source": [
        "# 15.Write a code to create a tuple containing three different fruits and check if \"kiwi\" is in it.\n",
        "fruits = ('apple', 'banana', 'mango')\n",
        "is_kiwi_present = 'kiwi' in fruits\n",
        "print(\"Is 'kiwi' in the tuple?\", is_kiwi_present)"
      ],
      "metadata": {
        "colab": {
          "base_uri": "https://localhost:8080/"
        },
        "id": "uB8UHLhnIKiy",
        "outputId": "40493a98-b54c-4705-a6ab-08ae88a6c0cf"
      },
      "execution_count": null,
      "outputs": [
        {
          "output_type": "stream",
          "name": "stdout",
          "text": [
            "Is 'kiwi' in the tuple? False\n"
          ]
        }
      ]
    },
    {
      "cell_type": "code",
      "source": [
        "#16.Write a code to create a set with the elements 'a', 'b', 'c' and print it.\n",
        "set = ['a', 'b', 'c']\n",
        "print(set)"
      ],
      "metadata": {
        "colab": {
          "base_uri": "https://localhost:8080/"
        },
        "id": "2rx8qjeIJAMj",
        "outputId": "d5964f6a-f303-49ab-a03c-38d936676033"
      },
      "execution_count": null,
      "outputs": [
        {
          "output_type": "stream",
          "name": "stdout",
          "text": [
            "['a', 'b', 'c']\n"
          ]
        }
      ]
    },
    {
      "cell_type": "code",
      "source": [
        "#17.Write a code to clear all elements from the set {1, 2, 3, 4, 5}.\n",
        "numbers = {1, 2, 3, 4,5}\n",
        "numbers.clear()\n",
        "print(numbers)"
      ],
      "metadata": {
        "colab": {
          "base_uri": "https://localhost:8080/"
        },
        "id": "9xATw9r-JUzf",
        "outputId": "4af15fa1-9f4a-4cfd-9716-8d8c3c80163b"
      },
      "execution_count": null,
      "outputs": [
        {
          "output_type": "stream",
          "name": "stdout",
          "text": [
            "set()\n"
          ]
        }
      ]
    },
    {
      "cell_type": "code",
      "source": [
        "#18.Write a code to remove the element 4 from the set {1, 2, 3, 4}.\n",
        "numbers = {1, 2, 3, 4}\n",
        "numbers.remove(4)\n",
        "print(numbers)"
      ],
      "metadata": {
        "colab": {
          "base_uri": "https://localhost:8080/"
        },
        "id": "oxd0O7sgJoms",
        "outputId": "69eccd1c-1aee-40da-8cbd-ad7dfcf16d8b"
      },
      "execution_count": null,
      "outputs": [
        {
          "output_type": "stream",
          "name": "stdout",
          "text": [
            "{1, 2, 3}\n"
          ]
        }
      ]
    },
    {
      "cell_type": "code",
      "source": [
        "#19.Write a code to find the union of two sets {1, 2, 3} and {3, 4, 5}.\n",
        "set1 = {1, 2, 3}\n",
        "set2 = {3, 4, 5}\n",
        "union_set = set1.union(set2)\n",
        "print(union_set)"
      ],
      "metadata": {
        "colab": {
          "base_uri": "https://localhost:8080/"
        },
        "id": "9KMVgqGoKDsP",
        "outputId": "1faf6b06-daad-46ae-bd4d-86fcbe45b823"
      },
      "execution_count": null,
      "outputs": [
        {
          "output_type": "stream",
          "name": "stdout",
          "text": [
            "{1, 2, 3, 4, 5}\n"
          ]
        }
      ]
    },
    {
      "cell_type": "code",
      "source": [
        "#20.Write a code to find the intersection of two sets {1, 2, 3} and {2, 3, 4}.\n",
        "set1 = {1, 2, 3}\n",
        "set2 = {2, 3, 4}\n",
        "intersection_set = set1.intersection(set2)\n",
        "print(intersection_set)"
      ],
      "metadata": {
        "colab": {
          "base_uri": "https://localhost:8080/"
        },
        "id": "EF3I9cjBKgbQ",
        "outputId": "797fe59e-0471-41c2-e44d-0b2909c34a12"
      },
      "execution_count": null,
      "outputs": [
        {
          "output_type": "stream",
          "name": "stdout",
          "text": [
            "{2, 3}\n"
          ]
        }
      ]
    },
    {
      "cell_type": "code",
      "source": [
        "#21.Write a code to create a dictionary with the keys \"name\", \"age\", and \"city\", and print it.\n",
        "person = {\n",
        "    \"name\": \"Alice\",\n",
        "    \"age\": 25,\n",
        "    \"city\": \"New York\"\n",
        "}\n",
        "\n",
        "print(person)"
      ],
      "metadata": {
        "colab": {
          "base_uri": "https://localhost:8080/"
        },
        "id": "SWuWxZ8bK5Hv",
        "outputId": "398b428f-49c6-4830-d812-8c152b7a0aac"
      },
      "execution_count": null,
      "outputs": [
        {
          "output_type": "stream",
          "name": "stdout",
          "text": [
            "{'name': 'Alice', 'age': 25, 'city': 'New York'}\n"
          ]
        }
      ]
    },
    {
      "cell_type": "code",
      "source": [
        "#22 Write a code to add a new key-value pair \"country\": \"USA\" to the dictionary {'name': 'John', 'age': 25}.\n",
        "person = {\"name\": \"John\", \"age\" : 25,}\n",
        "person[\"country\"] = \"USA\"\n",
        "print(person)"
      ],
      "metadata": {
        "colab": {
          "base_uri": "https://localhost:8080/"
        },
        "id": "ulAaOGTpQSnu",
        "outputId": "43b8b894-69a6-4b66-a018-543f34b84a12"
      },
      "execution_count": null,
      "outputs": [
        {
          "output_type": "stream",
          "name": "stdout",
          "text": [
            "{'name': 'John', 'age': 25, 'country': 'USA'}\n"
          ]
        }
      ]
    },
    {
      "cell_type": "code",
      "source": [
        "#23.Write a code to access the value associated with the key \"name\" in the dictionary {'name': 'Alice', 'age': 30}.\n",
        "person = {'name': 'Alice', 'age': 30}\n",
        "name_value = person['name']\n",
        "print(\"Name:\", name_value)"
      ],
      "metadata": {
        "colab": {
          "base_uri": "https://localhost:8080/"
        },
        "id": "B6pE1HpkQ-Tl",
        "outputId": "c78af0d7-0259-4785-9f3e-969e041ec0ac"
      },
      "execution_count": null,
      "outputs": [
        {
          "output_type": "stream",
          "name": "stdout",
          "text": [
            "Name: Alice\n"
          ]
        }
      ]
    },
    {
      "cell_type": "code",
      "source": [
        "#24.Write a code to remove the key \"age\" from the dictionary {'name': 'Bob', 'age': 22, 'city': 'New York'}.\n",
        "person = {'name': 'Bob', 'age': 22, 'city': 'New York'}\n",
        "del person['age']\n",
        "print(person)"
      ],
      "metadata": {
        "colab": {
          "base_uri": "https://localhost:8080/"
        },
        "id": "o8NNifscRPuX",
        "outputId": "4e2d27d4-03f6-436e-909f-a21074ddca27"
      },
      "execution_count": null,
      "outputs": [
        {
          "output_type": "stream",
          "name": "stdout",
          "text": [
            "{'name': 'Bob', 'city': 'New York'}\n"
          ]
        }
      ]
    },
    {
      "cell_type": "code",
      "source": [
        "#25. Write a code to check if the key \"city\" exists in the dictionary {'name': 'Alice', 'city': 'Paris'}.\n",
        "person = {'name': 'Alice', 'city': 'Paris'}\n",
        "if \"city\" in person:\n",
        "    print(\"Key 'city' exists in the dictionary.\")\n",
        "else:\n",
        "    print(\"Key 'city' does not exist in the dictionary.\")\n"
      ],
      "metadata": {
        "colab": {
          "base_uri": "https://localhost:8080/"
        },
        "id": "5LVFb-eHR4sa",
        "outputId": "de65f66f-6e91-4ac8-81ab-a4213c82cb41"
      },
      "execution_count": null,
      "outputs": [
        {
          "output_type": "stream",
          "name": "stdout",
          "text": [
            "Key 'city' exists in the dictionary.\n"
          ]
        }
      ]
    },
    {
      "cell_type": "code",
      "source": [
        "#26.Write a code to create a list, a tuple, and a dictionary, and print them all.\n",
        "\n",
        "my_list = [1, 2, 3, 4, 5]\n",
        "\n",
        "my_tuple = ('apple', 'banana', 'cherry')\n",
        "\n",
        "my_dict = {'name': 'Alice', 'age': 25, 'city': 'New York'}\n",
        "\n",
        "# Printing all data structures\n",
        "print(\"List:\", my_list)\n",
        "print(\"Tuple:\", my_tuple)\n",
        "print(\"Dictionary:\", my_dict)"
      ],
      "metadata": {
        "colab": {
          "base_uri": "https://localhost:8080/"
        },
        "id": "ZdZObHWuSH_1",
        "outputId": "8d38a707-def0-4a36-f3fb-c057e9814f09"
      },
      "execution_count": null,
      "outputs": [
        {
          "output_type": "stream",
          "name": "stdout",
          "text": [
            "List: [1, 2, 3, 4, 5]\n",
            "Tuple: ('apple', 'banana', 'cherry')\n",
            "Dictionary: {'name': 'Alice', 'age': 25, 'city': 'New York'}\n"
          ]
        }
      ]
    },
    {
      "cell_type": "code",
      "source": [
        "#27. Write a code to create a list of 5 random numbers between 1 and 100, sort it in ascending order, and print the result (replaced).\n",
        "\n",
        "import random\n",
        "\n",
        "random_numbers = random.sample(range(1, 101), 5)\n",
        "\n",
        "random_numbers.sort()\n",
        "\n",
        "print(\"Sorted list:\", random_numbers)\n"
      ],
      "metadata": {
        "colab": {
          "base_uri": "https://localhost:8080/"
        },
        "id": "1sfrRdhKSVej",
        "outputId": "ff647b3f-efc1-451a-919f-1e789a2a7fad"
      },
      "execution_count": null,
      "outputs": [
        {
          "output_type": "stream",
          "name": "stdout",
          "text": [
            "Sorted list: [16, 35, 63, 64, 94]\n"
          ]
        }
      ]
    },
    {
      "cell_type": "code",
      "source": [
        "#28. Write a code to create a list with strings and print the element at the third index.\n",
        "my_list = [\"apple\", \"banana\", \"cherry\", \"date\", \"elderberry\"]\n",
        "print(\"Element at index 3:\", my_list[3])\n"
      ],
      "metadata": {
        "colab": {
          "base_uri": "https://localhost:8080/"
        },
        "id": "4FYrsrLVS6XO",
        "outputId": "fc2c9109-a4d7-41ef-f1b1-3275a0a2a704"
      },
      "execution_count": 2,
      "outputs": [
        {
          "output_type": "stream",
          "name": "stdout",
          "text": [
            "Element at index 3: date\n"
          ]
        }
      ]
    },
    {
      "cell_type": "code",
      "source": [
        "#29. Write a code to combine two dictionaries into one and print the result.\n",
        "\n",
        "dict1 = {'name': 'Alice', 'age': 25}\n",
        "dict2 = {'city': 'New York', 'country': 'USA'}\n",
        "\n",
        "combined_dict = {**dict1, **dict2}\n",
        "\n",
        "print(\"combined_dict\")\n"
      ],
      "metadata": {
        "colab": {
          "base_uri": "https://localhost:8080/"
        },
        "id": "a2kybA0vTHSk",
        "outputId": "b4ad9d90-db55-4612-eb81-62b5b970be64"
      },
      "execution_count": null,
      "outputs": [
        {
          "output_type": "stream",
          "name": "stdout",
          "text": [
            "combined_dict\n"
          ]
        }
      ]
    },
    {
      "cell_type": "code",
      "source": [
        "#30.Write a code to convert a list of strings into a set.\n",
        "# Creating a list of strings\n",
        "words = [\"apple\", \"banana\", \"cherry\", \"apple\", \"banana\"]\n",
        "\n",
        "# Converting the list into a set\n",
        "unique_words = set(words)\n",
        "\n",
        "# Printing the set\n",
        "print(\"Converted Set:\", unique_words)\n"
      ],
      "metadata": {
        "colab": {
          "base_uri": "https://localhost:8080/"
        },
        "id": "prIz3HxMUoHS",
        "outputId": "a1b6cd11-6ce1-4cd0-b9d1-8dda9c51f9b4",
        "collapsed": true
      },
      "execution_count": 1,
      "outputs": [
        {
          "output_type": "stream",
          "name": "stdout",
          "text": [
            "Converted Set: {'banana', 'cherry', 'apple'}\n"
          ]
        }
      ]
    }
  ]
}