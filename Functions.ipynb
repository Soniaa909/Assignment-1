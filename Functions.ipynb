{
  "nbformat": 4,
  "nbformat_minor": 0,
  "metadata": {
    "colab": {
      "provenance": []
    },
    "kernelspec": {
      "name": "python3",
      "display_name": "Python 3"
    },
    "language_info": {
      "name": "python"
    }
  },
  "cells": [
    {
      "cell_type": "markdown",
      "source": [
        "1.  What is the difference between a function and a method in Python?\n",
        " -  Function-\n",
        "A function is an independent block of reusable code that is not tied to any specific object.It is defined using the def keyword and can be called on its own.Functions can take arguments and return values.\n",
        "\n",
        "Example of a function:"
      ],
      "metadata": {
        "id": "d-nlaMX32OA_"
      }
    },
    {
      "cell_type": "code",
      "source": [
        "def greet(name):\n",
        "    return f\"Hello, {name}!\"\n",
        "\n",
        "print(greet(\"Alice\"))"
      ],
      "metadata": {
        "colab": {
          "base_uri": "https://localhost:8080/"
        },
        "id": "FeDKvCM52fkc",
        "outputId": "a2bd1c97-a071-47ab-89de-af89b9144f88"
      },
      "execution_count": null,
      "outputs": [
        {
          "output_type": "stream",
          "name": "stdout",
          "text": [
            "Hello, Alice!\n"
          ]
        }
      ]
    },
    {
      "cell_type": "markdown",
      "source": [
        "Method-\n",
        "A method is a function that is associated with an object and is typically defined inside a class.It operates on the data within an object (instance of a class) and usually modifies or interacts with that data.Methods require self as the first parameter (for instance methods) to access instance attributes.\n",
        "\n",
        "Example of a method in a class:"
      ],
      "metadata": {
        "id": "T5J0d56g2mDy"
      }
    },
    {
      "cell_type": "code",
      "source": [
        "class Person:\n",
        "    def __init__(self, name):\n",
        "        self.name = name\n",
        "\n",
        "    def greet(self):\n",
        "        return f\"Hello, {self.name}!\"\n",
        "\n",
        "p = Person(\"Alice\")\n",
        "print(p.greet())"
      ],
      "metadata": {
        "colab": {
          "base_uri": "https://localhost:8080/"
        },
        "id": "tMJIHw5y2so0",
        "outputId": "4df18a56-0d5f-4637-f5ce-cff01bbcca63"
      },
      "execution_count": null,
      "outputs": [
        {
          "output_type": "stream",
          "name": "stdout",
          "text": [
            "Hello, Alice!\n"
          ]
        }
      ]
    },
    {
      "cell_type": "markdown",
      "source": [
        "2.Explain the concept of function arguments and parameters in Python.\n",
        " - Arguments are the actual values passed to a function when it is called.They replace parameters when the function executes."
      ],
      "metadata": {
        "id": "gjOavqAT2wKj"
      }
    },
    {
      "cell_type": "code",
      "source": [
        "print(greet(\"Alice\"))  # 'Alice' is an argument"
      ],
      "metadata": {
        "colab": {
          "base_uri": "https://localhost:8080/"
        },
        "id": "JSgoPTzh2_9d",
        "outputId": "80004834-50de-48f3-d904-1145694f6cd9"
      },
      "execution_count": null,
      "outputs": [
        {
          "output_type": "stream",
          "name": "stdout",
          "text": [
            "Hello, Alice!\n"
          ]
        }
      ]
    },
    {
      "cell_type": "markdown",
      "source": [
        "Parameters are placeholders defined in the function signature.They specify what kind of input values the function expects.Parameters are used inside the function body to perform operations."
      ],
      "metadata": {
        "id": "54qG2Ht83DRA"
      }
    },
    {
      "cell_type": "code",
      "source": [
        "def greet(name):  # 'name' is a parameter\n",
        "    return f\"Hello, {name}!\""
      ],
      "metadata": {
        "id": "oeZROZTV3JqV"
      },
      "execution_count": null,
      "outputs": []
    },
    {
      "cell_type": "markdown",
      "source": [
        "3.What are the different ways to define and call a function in Python?\n",
        " - In Python, there are multiple ways to define and call functions. Below is a breakdown of different approaches:\n",
        "\n",
        "a.Regular Function Definition-\n",
        "\n",
        "*  Defined using the def keyword.\n",
        "*  Called using the function name followed by parentheses."
      ],
      "metadata": {
        "id": "xaGkT0f_3Myi"
      }
    },
    {
      "cell_type": "code",
      "source": [
        "def greet(name):\n",
        "    return f\"Hello, {name}!\"\n",
        "\n",
        "print(greet(\"Alice\"))"
      ],
      "metadata": {
        "colab": {
          "base_uri": "https://localhost:8080/"
        },
        "id": "j9rfyL0C3z7g",
        "outputId": "769e659a-5023-40d8-f626-55affb4f5918"
      },
      "execution_count": null,
      "outputs": [
        {
          "output_type": "stream",
          "name": "stdout",
          "text": [
            "Hello, Alice!\n"
          ]
        }
      ]
    },
    {
      "cell_type": "markdown",
      "source": [
        "b.Function with Default Parameters\n",
        "\n",
        "* Provides default values for parameters.\n",
        "* Can be called with or without arguments."
      ],
      "metadata": {
        "id": "cjhjsb1234Hv"
      }
    },
    {
      "cell_type": "code",
      "source": [
        "def greet(name=\"Guest\"):\n",
        "    return f\"Hello, {name}!\"\n",
        "\n",
        "print(greet())\n",
        "print(greet(\"Bob\"))"
      ],
      "metadata": {
        "colab": {
          "base_uri": "https://localhost:8080/"
        },
        "id": "sFOvHetd4F83",
        "outputId": "2bfaf36c-4a3c-463a-a67c-dfd6a811be9c"
      },
      "execution_count": null,
      "outputs": [
        {
          "output_type": "stream",
          "name": "stdout",
          "text": [
            "Hello, Guest!\n",
            "Hello, Bob!\n"
          ]
        }
      ]
    },
    {
      "cell_type": "markdown",
      "source": [
        "c.Anonymous Function (lambda)\n",
        "\n",
        "* A one-line function with no name, using the lambda keyword.\n",
        "* Used for simple operations."
      ],
      "metadata": {
        "id": "1H-lzyll4Ldw"
      }
    },
    {
      "cell_type": "code",
      "source": [
        "square = lambda x: x ** 2\n",
        "print(square(5))"
      ],
      "metadata": {
        "colab": {
          "base_uri": "https://localhost:8080/"
        },
        "id": "6NP1qTFE5y_4",
        "outputId": "f81378da-f81a-4b27-edb0-464996818985"
      },
      "execution_count": null,
      "outputs": [
        {
          "output_type": "stream",
          "name": "stdout",
          "text": [
            "25\n"
          ]
        }
      ]
    },
    {
      "cell_type": "markdown",
      "source": [
        "d.Function as an Argument\n",
        "\n",
        "* A function can be passed as an argument to another function"
      ],
      "metadata": {
        "id": "MOQDvN9U53m4"
      }
    },
    {
      "cell_type": "code",
      "source": [
        "def apply_function(func, value):\n",
        "    return func(value)\n",
        "\n",
        "print(apply_function(lambda x: x * 2, 5))"
      ],
      "metadata": {
        "colab": {
          "base_uri": "https://localhost:8080/"
        },
        "id": "owQfdDnt59b1",
        "outputId": "0439b763-92be-4b35-9e75-134fd711bedf"
      },
      "execution_count": null,
      "outputs": [
        {
          "output_type": "stream",
          "name": "stdout",
          "text": [
            "10\n"
          ]
        }
      ]
    },
    {
      "cell_type": "markdown",
      "source": [
        "4. What is the purpose of the `return` statement in a Python function?\n",
        " - The return statement in a Python function is used to send a value back to the caller. It marks the end of the function's execution and specifies what value (if any) should be returned."
      ],
      "metadata": {
        "id": "3jDADlO_6KCC"
      }
    },
    {
      "cell_type": "code",
      "source": [
        "def add(a, b):\n",
        "    return a + b\n",
        "result = add(5, 3)\n",
        "print(result)"
      ],
      "metadata": {
        "colab": {
          "base_uri": "https://localhost:8080/"
        },
        "id": "JN9BSE3cU7f3",
        "outputId": "f71965f0-c4bd-4d87-e167-7c37d9f971ba"
      },
      "execution_count": null,
      "outputs": [
        {
          "output_type": "stream",
          "name": "stdout",
          "text": [
            "8\n"
          ]
        }
      ]
    },
    {
      "cell_type": "markdown",
      "source": [
        "5. What are iterators in Python and how do they differ from iterables?\n",
        " - An iterator is an object that produces the next value in a sequence when you call next() on it.\n",
        "\n",
        "✔ Has both __iter__() and __next__() methods\n",
        "✔ Remembers its state (it doesn’t restart like an iterables.\n"
      ],
      "metadata": {
        "id": "XXrSF7FuVEfH"
      }
    },
    {
      "cell_type": "code",
      "source": [
        "my_iter = iter(my_list)  # Get an iterator from the list\n",
        "print(next(my_iter))  # Output: 1\n",
        "print(next(my_iter))  # Output: 2\n",
        "print(next(my_iter))  # Output: 3\n",
        "# print(next(my_iter)) #This could raise an error"
      ],
      "metadata": {
        "id": "Sq-scaQphGw9"
      },
      "execution_count": null,
      "outputs": []
    },
    {
      "cell_type": "markdown",
      "source": [
        "An iterable is any Python object that can return an iterator. It contains a collection of elements that can be looped over. Examples include lists, tuples, dictionaries, strings, and sets.\n",
        "\n",
        "✔ Has an __iter__() method that returns an iterator.\n",
        "✔ Can be used in a for loop.\n",
        "\n",
        "🔹 Example of an Iterable:"
      ],
      "metadata": {
        "id": "RxizgMFGhQ8P"
      }
    },
    {
      "cell_type": "code",
      "source": [
        "my_list = [1, 2, 3]  # A list is iterable\n",
        "for item in my_list:\n",
        "    print(item)"
      ],
      "metadata": {
        "colab": {
          "base_uri": "https://localhost:8080/"
        },
        "id": "9p1Mr-oehR1D",
        "outputId": "9179ea45-91e4-4464-96ab-bace058359e9"
      },
      "execution_count": null,
      "outputs": [
        {
          "output_type": "stream",
          "name": "stdout",
          "text": [
            "1\n",
            "2\n",
            "3\n"
          ]
        }
      ]
    },
    {
      "cell_type": "markdown",
      "source": [
        "6. Explain the concept of generators in Python and how they are defined.\n",
        " - Generators are a special type of iterator that allow you to generate values lazily (on demand) instead of storing them all in memory. They are defined using functions with the yield keyword instead of return.\n",
        "\n",
        " Defining a generator-"
      ],
      "metadata": {
        "id": "fMkJriRChZgG"
      }
    },
    {
      "cell_type": "code",
      "source": [
        "def my_generator():\n",
        "    yield 1\n",
        "    yield 2\n",
        "    yield 3\n",
        "\n",
        "gen = my_generator()\n",
        "print(next(gen))\n",
        "print(next(gen))\n",
        "print(next(gen))\n",
        "# print(next(gen))"
      ],
      "metadata": {
        "colab": {
          "base_uri": "https://localhost:8080/"
        },
        "id": "5BJLecj0ho62",
        "outputId": "cf0c4ab4-8b14-42c5-9b21-2ef3f8d6a58c"
      },
      "execution_count": null,
      "outputs": [
        {
          "output_type": "stream",
          "name": "stdout",
          "text": [
            "1\n",
            "2\n",
            "3\n"
          ]
        }
      ]
    },
    {
      "cell_type": "markdown",
      "source": [
        "7.What are the advantages of using generators over regular functions?\n",
        " - Generators have several advantages over regular functions, especially when dealing with large datasets or streaming data. Here are the key benefits:\n",
        "\n",
        "1. Memory Efficiency (Lazy Evaluation)\n",
        "Generators produce values one at a time instead of storing them all in memory.\n",
        "\n",
        "Useful for working with large datasets (e.g., reading large files).\n",
        "\n",
        "🔹 Example:"
      ],
      "metadata": {
        "id": "G9_iSe_RiZcy"
      }
    },
    {
      "cell_type": "code",
      "source": [
        "def count_up_to(n):\n",
        "    count = 1\n",
        "    while count <= n:\n",
        "        yield count  # Generates values one by one\n",
        "        count += 1\n",
        "\n",
        "gen = count_up_to(1000000)  # Doesn't store all numbers in memory\n",
        "print(next(gen))\n",
        "print(next(gen))"
      ],
      "metadata": {
        "colab": {
          "base_uri": "https://localhost:8080/"
        },
        "id": "Frzb8iRnifkv",
        "outputId": "462456cf-baf8-47a2-9787-77b5948f8b5d"
      },
      "execution_count": null,
      "outputs": [
        {
          "output_type": "stream",
          "name": "stdout",
          "text": [
            "1\n",
            "2\n"
          ]
        }
      ]
    },
    {
      "cell_type": "markdown",
      "source": [
        "2. Faster Execution (On-Demand Computation)\n",
        "Since values are generated only when needed, performance is often better than functions that return lists.\n",
        "\n",
        "Example: Processing logs line by line instead of loading the entire file."
      ],
      "metadata": {
        "id": "kxOmDzB3imxq"
      }
    },
    {
      "cell_type": "code",
      "source": [
        "def read_large_file(filename):\n",
        "    with open(filename, \"r\") as file:\n",
        "        for line in file:\n",
        "            yield line  # Reads one line at a time"
      ],
      "metadata": {
        "id": "X3ZT4WoMinTz"
      },
      "execution_count": null,
      "outputs": []
    },
    {
      "cell_type": "markdown",
      "source": [
        "3. State Retention Between Calls\n",
        "Generators pause execution at yield, resuming from the last state when next() is called.\n",
        "\n",
        "Example: Keeping track of previous values without needing extra variables."
      ],
      "metadata": {
        "id": "mNOS_-qIitEg"
      }
    },
    {
      "cell_type": "code",
      "source": [
        "def fibonacci():\n",
        "    a, b = 0, 1\n",
        "    while True:\n",
        "        yield a\n",
        "        a, b = b, a + b  # Update values\n",
        "\n",
        "fib = fibonacci()\n",
        "print(next(fib))\n",
        "print(next(fib))\n",
        "print(next(fib))\n",
        "print(next(fib))"
      ],
      "metadata": {
        "colab": {
          "base_uri": "https://localhost:8080/"
        },
        "id": "8clMZtDfit4E",
        "outputId": "b734aad6-1bb5-40ea-803e-899f37405eaf"
      },
      "execution_count": null,
      "outputs": [
        {
          "output_type": "stream",
          "name": "stdout",
          "text": [
            "0\n",
            "1\n",
            "1\n",
            "2\n"
          ]
        }
      ]
    },
    {
      "cell_type": "markdown",
      "source": [
        "8. What is a lambda function in Python and when is it typically used?\n",
        " - A lambda function in Python is a small, anonymous function that can have any number of arguments but only one expression. It is often used for short, simple operations where defining a full function is unnecessary."
      ],
      "metadata": {
        "id": "pkUXOWsDi3wF"
      }
    },
    {
      "cell_type": "code",
      "source": [
        "add = lambda x, y: x + y\n",
        "print(add(3, 5))"
      ],
      "metadata": {
        "colab": {
          "base_uri": "https://localhost:8080/"
        },
        "id": "l6SA5K9CjEOR",
        "outputId": "f58997c9-2540-40e9-834d-400762e637c4"
      },
      "execution_count": null,
      "outputs": [
        {
          "output_type": "stream",
          "name": "stdout",
          "text": [
            "8\n"
          ]
        }
      ]
    },
    {
      "cell_type": "markdown",
      "source": [
        "Lambda functions are used in -\n",
        " - Used in Short, Simple Functions (Avoids creating full def functions)\n",
        "\n",
        "\n"
      ],
      "metadata": {
        "id": "ZVmQrTtpjINw"
      }
    },
    {
      "cell_type": "code",
      "source": [
        "square = lambda x: x * x\n",
        "print(square(4))"
      ],
      "metadata": {
        "colab": {
          "base_uri": "https://localhost:8080/"
        },
        "id": "s34oCDQljWy9",
        "outputId": "dd938653-ed2b-4e4b-c2ca-87e3ec2fddd6"
      },
      "execution_count": null,
      "outputs": [
        {
          "output_type": "stream",
          "name": "stdout",
          "text": [
            "16\n"
          ]
        }
      ]
    },
    {
      "cell_type": "markdown",
      "source": [
        " - Used with map(), filter(), and reduce()\n",
        "\n",
        "map() → Applies a function to every item in a list.\n",
        "filter() → Filters elements based on a condition.\n",
        "reduce() → Performs a cumulative operation (requires functools.reduce)."
      ],
      "metadata": {
        "id": "kcIixnTejY7w"
      }
    },
    {
      "cell_type": "code",
      "source": [
        "# map\n",
        "nums = [1, 2, 3, 4]\n",
        "squared = list(map(lambda x: x ** 2, nums))\n",
        "print(squared)"
      ],
      "metadata": {
        "colab": {
          "base_uri": "https://localhost:8080/"
        },
        "id": "VrgCt_qNjc_G",
        "outputId": "848d2044-e63f-45ab-c070-2e1e869c9741"
      },
      "execution_count": null,
      "outputs": [
        {
          "output_type": "stream",
          "name": "stdout",
          "text": [
            "[1, 4, 9, 16]\n"
          ]
        }
      ]
    },
    {
      "cell_type": "code",
      "source": [
        "#filter\n",
        "nums = [1, 2, 3, 4, 5, 6]\n",
        "evens = list(filter(lambda x: x % 2 == 0, nums))\n",
        "print(evens)"
      ],
      "metadata": {
        "colab": {
          "base_uri": "https://localhost:8080/"
        },
        "id": "STpfqGo4jwaD",
        "outputId": "dd1bbc2e-2eee-4461-f989-03fab40657dc"
      },
      "execution_count": null,
      "outputs": [
        {
          "output_type": "stream",
          "name": "stdout",
          "text": [
            "[2, 4, 6]\n"
          ]
        }
      ]
    },
    {
      "cell_type": "code",
      "source": [
        "#reduce\n",
        "from functools import reduce\n",
        "nums = [1, 2, 3, 4]\n",
        "product = reduce(lambda x, y: x * y, nums)\n",
        "print(product)"
      ],
      "metadata": {
        "colab": {
          "base_uri": "https://localhost:8080/"
        },
        "id": "E8AmwMcxj1VX",
        "outputId": "e98af3e2-4865-474c-efa2-90322a2dc199"
      },
      "execution_count": null,
      "outputs": [
        {
          "output_type": "stream",
          "name": "stdout",
          "text": [
            "24\n"
          ]
        }
      ]
    },
    {
      "cell_type": "markdown",
      "source": [
        " - Used for Sorting with sorted()"
      ],
      "metadata": {
        "id": "QjIl7ivFj9Rx"
      }
    },
    {
      "cell_type": "code",
      "source": [
        "students = [(\"Alice\", 25), (\"Bob\", 22), (\"Charlie\", 23)]\n",
        "sorted_students = sorted(students, key=lambda x: x[1])  # Sort by age\n",
        "print(sorted_students)"
      ],
      "metadata": {
        "colab": {
          "base_uri": "https://localhost:8080/"
        },
        "id": "rEHgobOrj-4T",
        "outputId": "b10a4886-fbf9-4d70-ed38-025ac074afa6"
      },
      "execution_count": null,
      "outputs": [
        {
          "output_type": "stream",
          "name": "stdout",
          "text": [
            "[('Bob', 22), ('Charlie', 23), ('Alice', 25)]\n"
          ]
        }
      ]
    },
    {
      "cell_type": "markdown",
      "source": [
        " - Used in key Arguments (max() / min())\n"
      ],
      "metadata": {
        "id": "567ZIn_AkFeq"
      }
    },
    {
      "cell_type": "code",
      "source": [
        "words = [\"apple\", \"banana\", \"cherry\"]\n",
        "longest = max(words, key=lambda x: len(x))\n",
        "print(longest)"
      ],
      "metadata": {
        "colab": {
          "base_uri": "https://localhost:8080/"
        },
        "id": "LeBiKkw7kONI",
        "outputId": "6327f57d-624d-44df-e558-29529c7071af"
      },
      "execution_count": null,
      "outputs": [
        {
          "output_type": "stream",
          "name": "stdout",
          "text": [
            "banana\n"
          ]
        }
      ]
    },
    {
      "cell_type": "markdown",
      "source": [
        "9. Explain the purpose and usage of the `map()` function in Python.\n",
        " - The map() function applies a given function to each item in an iterable (like a list or tuple) and returns a new iterable (a map object). It helps perform transformations efficiently without needing explicit loops.\n",
        "\n",
        "Using map() with Built-in Functions\n",
        "Instead of using lambda, we can also use predefined functions."
      ],
      "metadata": {
        "id": "0LZXJar0kTxj"
      }
    },
    {
      "cell_type": "code",
      "source": [
        "def double(n):\n",
        "    return n * 2\n",
        "\n",
        "nums = [1, 2, 3, 4]\n",
        "result = map(double, nums)\n",
        "\n",
        "print(list(result))"
      ],
      "metadata": {
        "colab": {
          "base_uri": "https://localhost:8080/"
        },
        "id": "8yIlFCN4kixK",
        "outputId": "16abe0cb-7196-44c8-d97e-6ca08fefe386"
      },
      "execution_count": null,
      "outputs": [
        {
          "output_type": "stream",
          "name": "stdout",
          "text": [
            "[2, 4, 6, 8]\n"
          ]
        }
      ]
    },
    {
      "cell_type": "markdown",
      "source": [
        "Using map() with Multiple Iterables\n",
        "If we pass multiple iterables, map() will apply the function to corresponding elements from each iterable."
      ],
      "metadata": {
        "id": "BEpik7ankn75"
      }
    },
    {
      "cell_type": "code",
      "source": [
        "a = [1, 2, 3]\n",
        "b = [4, 5, 6]\n",
        "\n",
        "sum_result = map(lambda x, y: x + y, a, b)\n",
        "print(list(sum_result))"
      ],
      "metadata": {
        "colab": {
          "base_uri": "https://localhost:8080/"
        },
        "id": "daQyQkR9krBj",
        "outputId": "534e6f32-0b3c-4e7f-a382-6a3af0024656"
      },
      "execution_count": null,
      "outputs": [
        {
          "output_type": "stream",
          "name": "stdout",
          "text": [
            "[5, 7, 9]\n"
          ]
        }
      ]
    },
    {
      "cell_type": "markdown",
      "source": [
        "10.What is the difference between `map()`, `reduce()`, and `filter()` functions in Python?\n",
        " -  map(function, iterable)\n",
        "Purpose: Applies a given function to every item in an iterable (like a list or tuple) and returns a map object (which can be converted to a list, tuple, etc.).\n",
        "\n",
        "Usage:"
      ],
      "metadata": {
        "id": "gddQ4bZwlF7s"
      }
    },
    {
      "cell_type": "code",
      "source": [
        "numbers = [1, 2, 3, 4]\n",
        "squared = list(map(lambda x: x**2, numbers))\n",
        "print(squared)"
      ],
      "metadata": {
        "colab": {
          "base_uri": "https://localhost:8080/"
        },
        "id": "Buh6NO5FX_lk",
        "outputId": "74995a88-57ce-4a8e-9b73-754bdeeeec98"
      },
      "execution_count": 1,
      "outputs": [
        {
          "output_type": "stream",
          "name": "stdout",
          "text": [
            "[1, 4, 9, 16]\n"
          ]
        }
      ]
    },
    {
      "cell_type": "markdown",
      "source": [
        "When to Use: When you need to transform elements of an iterable without modifying its structure.\n",
        "\n",
        " - filter(function, iterable)\n",
        "Purpose: Filters elements of an iterable based on a function that returns True or False. Only elements for which the function returns True are included.\n",
        "\n",
        "Usage:"
      ],
      "metadata": {
        "id": "7Llz--7DYFr4"
      }
    },
    {
      "cell_type": "code",
      "source": [
        "numbers = [1, 2, 3, 4, 5, 6]\n",
        "evens = list(filter(lambda x: x % 2 == 0, numbers))\n",
        "print(evens)"
      ],
      "metadata": {
        "colab": {
          "base_uri": "https://localhost:8080/"
        },
        "id": "XL8vegmkYWPV",
        "outputId": "d01b11ab-67b7-4b25-f228-7db1721127e4"
      },
      "execution_count": 2,
      "outputs": [
        {
          "output_type": "stream",
          "name": "stdout",
          "text": [
            "[2, 4, 6]\n"
          ]
        }
      ]
    },
    {
      "cell_type": "markdown",
      "source": [
        "When to Use: When you need to select elements that satisfy a condition.\n",
        "\n",
        " - reduce(function, iterable, initial_value)\n",
        "Purpose: Reduces an iterable to a single cumulative value by applying a function repeatedly to pairs of elements. It's available in the functools module.\n",
        "\n",
        "Usage:"
      ],
      "metadata": {
        "id": "LkYwpY5sYaSd"
      }
    },
    {
      "cell_type": "code",
      "source": [
        "from functools import reduce\n",
        "numbers = [1, 2, 3, 4]\n",
        "total = reduce(lambda x, y: x + y, numbers)\n",
        "print(total)"
      ],
      "metadata": {
        "colab": {
          "base_uri": "https://localhost:8080/"
        },
        "id": "g1BtaAndYh5o",
        "outputId": "4f062302-752e-4099-919a-f9a5232cb730"
      },
      "execution_count": 3,
      "outputs": [
        {
          "output_type": "stream",
          "name": "stdout",
          "text": [
            "10\n"
          ]
        }
      ]
    },
    {
      "cell_type": "markdown",
      "source": [
        "When to Use: When you need to aggregate elements into a single result (e.g., summing, finding the maximum, computing a product)."
      ],
      "metadata": {
        "id": "cHRKsqCwYmwR"
      }
    },
    {
      "cell_type": "markdown",
      "source": [
        "11. Using pen & Paper write the internal mechanism for sum operation using  reduce function on this given\n",
        "list:[47,11,42,13];\n",
        " - Attached in doc"
      ],
      "metadata": {
        "id": "S9KNsDh2YoTx"
      }
    },
    {
      "cell_type": "code",
      "source": [
        "#1.Write a Python function that takes a list of numbers as input and returns the sum of all even numbers in the list.\n",
        "\n",
        "from functools import reduce\n",
        "\n",
        "def sum_of_evens(numbers):\n",
        "    return reduce(lambda x, y: x + y, filter(lambda n: n % 2 == 0, numbers), 0)\n",
        "numbers = [1, 2, 3, 4, 5, 6]\n",
        "print(sum_of_evens(numbers))\n"
      ],
      "metadata": {
        "colab": {
          "base_uri": "https://localhost:8080/"
        },
        "id": "nA_XTN0GYzYX",
        "outputId": "0360242d-c051-481a-c7a0-b88a0af3ed98"
      },
      "execution_count": 4,
      "outputs": [
        {
          "output_type": "stream",
          "name": "stdout",
          "text": [
            "12\n"
          ]
        }
      ]
    },
    {
      "cell_type": "code",
      "source": [
        "#2.Create a Python function that accepts a string and returns the reverse of that string.\n",
        "def reverse_string(s):\n",
        "    return s[::-1]\n",
        "print(reverse_string(\"hello\"))"
      ],
      "metadata": {
        "colab": {
          "base_uri": "https://localhost:8080/"
        },
        "id": "AiCL0VvwZO2b",
        "outputId": "62df85de-14d4-456f-ce91-eb1b3588f0c3"
      },
      "execution_count": 5,
      "outputs": [
        {
          "output_type": "stream",
          "name": "stdout",
          "text": [
            "olleh\n"
          ]
        }
      ]
    },
    {
      "cell_type": "code",
      "source": [
        "#3.Implement a Python function that takes a list of integers and returns a new list containing the squares of each number.\n",
        "def square_numbers(numbers):\n",
        "    return [n ** 2 for n in numbers]\n",
        "\n",
        "print(square_numbers([6, 7, 8, 9, 10]))"
      ],
      "metadata": {
        "colab": {
          "base_uri": "https://localhost:8080/"
        },
        "id": "i3u48Ms6ZZqW",
        "outputId": "c1f18471-86f6-48f4-c19a-ed0e18339d70"
      },
      "execution_count": 6,
      "outputs": [
        {
          "output_type": "stream",
          "name": "stdout",
          "text": [
            "[36, 49, 64, 81, 100]\n"
          ]
        }
      ]
    },
    {
      "cell_type": "code",
      "source": [
        "#4. Write a Python function that checks if a given number is prime or not from 1 to 200.\n",
        "def is_prime(n):\n",
        "    if n < 2:\n",
        "        return False\n",
        "    for i in range(2, int(n ** 0.5) + 1):\n",
        "        if n % i == 0:\n",
        "            return False\n",
        "    return True\n",
        "\n",
        "# Checking numbers from 1 to 200\n",
        "prime_numbers = [n for n in range(1, 201) if is_prime(n)]\n",
        "print(prime_numbers)"
      ],
      "metadata": {
        "colab": {
          "base_uri": "https://localhost:8080/"
        },
        "id": "hF8_XfFhZtc7",
        "outputId": "f1a52f9a-3125-410f-b26b-ff702e5b2603"
      },
      "execution_count": 7,
      "outputs": [
        {
          "output_type": "stream",
          "name": "stdout",
          "text": [
            "[2, 3, 5, 7, 11, 13, 17, 19, 23, 29, 31, 37, 41, 43, 47, 53, 59, 61, 67, 71, 73, 79, 83, 89, 97, 101, 103, 107, 109, 113, 127, 131, 137, 139, 149, 151, 157, 163, 167, 173, 179, 181, 191, 193, 197, 199]\n"
          ]
        }
      ]
    },
    {
      "cell_type": "code",
      "source": [
        "#5.Create an iterator class in Python that generates the Fibonacci sequence up to a specified number of terms.\n",
        "class FibonacciIterator:\n",
        "    def __init__(self, n_terms):\n",
        "        self.n_terms = n_terms\n",
        "        self.a, self.b = 0, 1\n",
        "        self.count = 0\n",
        "\n",
        "    def __iter__(self):\n",
        "        return self\n",
        "\n",
        "    def __next__(self):\n",
        "        if self.count >= self.n_terms:\n",
        "            raise StopIteration\n",
        "        self.count += 1\n",
        "        fib_value = self.a\n",
        "        self.a, self.b = self.b, self.a + self.b\n",
        "        return fib_value\n",
        "\n",
        "# Example usage:\n",
        "fib_iter = FibonacciIterator(10)\n",
        "print(list(fib_iter))"
      ],
      "metadata": {
        "colab": {
          "base_uri": "https://localhost:8080/"
        },
        "id": "AO0bPBrVaKp-",
        "outputId": "8d64de41-eebd-4a07-9119-de322d0009ca"
      },
      "execution_count": 8,
      "outputs": [
        {
          "output_type": "stream",
          "name": "stdout",
          "text": [
            "[0, 1, 1, 2, 3, 5, 8, 13, 21, 34]\n"
          ]
        }
      ]
    },
    {
      "cell_type": "code",
      "source": [
        "#6.Write a generator function in Python that yields the powers of 2 up to a given exponent.\n",
        "def powers_of_two(max_exponent):\n",
        "    for exp in range(max_exponent + 1):\n",
        "        yield 2 ** exp\n",
        "\n",
        "for power in powers_of_two(5):\n",
        "\n",
        "    print(power)"
      ],
      "metadata": {
        "colab": {
          "base_uri": "https://localhost:8080/"
        },
        "id": "evYFl6VwaX5A",
        "outputId": "3a031096-1638-4148-da15-85060b2fa2c9"
      },
      "execution_count": 12,
      "outputs": [
        {
          "output_type": "stream",
          "name": "stdout",
          "text": [
            "1\n",
            "2\n",
            "4\n",
            "8\n",
            "16\n",
            "32\n"
          ]
        }
      ]
    },
    {
      "cell_type": "code",
      "source": [
        "#7.Implement a generator function that reads a file line by line and yields each line as a string.\n",
        "\n",
        "def read_file_line_by_line(file_path, strip=True):\n",
        "    \"\"\"Generator function to read a file line by line.\"\"\"\n",
        "    try:\n",
        "        with open(file_path, 'r', encoding='utf-8') as file:\n",
        "            for line in file:\n",
        "                yield line.strip() if strip else line\n",
        "    except FileNotFoundError:\n",
        "        print(f\"Error: The file '{file_path}' was not found.\")\n",
        "    except IOError as e:\n",
        "        print(f\"Error: An I/O error occurred - {e}\")\n",
        "\n",
        "# Example usage:\n",
        "file_path = \"sample.txt\"  # Ensure this file exists\n",
        "for line in read_file_line_by_line(file_path):\n",
        "    print(line)"
      ],
      "metadata": {
        "colab": {
          "base_uri": "https://localhost:8080/"
        },
        "id": "Bzhi1EIaaukG",
        "outputId": "29866b34-789c-4dc1-a7cc-a8427e73e64d"
      },
      "execution_count": 15,
      "outputs": [
        {
          "output_type": "stream",
          "name": "stdout",
          "text": [
            "Error: The file 'sample.txt' was not found.\n"
          ]
        }
      ]
    },
    {
      "cell_type": "code",
      "source": [
        "#8.Use a lambda function in Python to sort a list of tuples based on the second element of each tuple.\n",
        "# List of tuples\n",
        "data = [(1, 3), (4, 1), (2, 5), (6, 2)]\n",
        "\n",
        "# Sorting based on the second element of each tuple\n",
        "sorted_data = sorted(data, key=lambda x: x[1])\n",
        "\n",
        "print(sorted_data)"
      ],
      "metadata": {
        "colab": {
          "base_uri": "https://localhost:8080/"
        },
        "id": "P3lpxydbbRk5",
        "outputId": "352e6374-86b3-4f69-fc32-63f9c50129a3"
      },
      "execution_count": 16,
      "outputs": [
        {
          "output_type": "stream",
          "name": "stdout",
          "text": [
            "[(4, 1), (6, 2), (1, 3), (2, 5)]\n"
          ]
        }
      ]
    },
    {
      "cell_type": "code",
      "source": [
        "#9. Write a Python program that uses `map()` to convert a list of temperatures from Celsius to Fahrenheit.\n",
        "# Function to convert Celsius to Fahrenheit\n",
        "celsius_to_fahrenheit = lambda c: (c * 9/5) + 32\n",
        "\n",
        "# List of temperatures in Celsius\n",
        "celsius_temps = [0, 10, 20, 30, 40, 100]\n",
        "\n",
        "# Convert using map()\n",
        "fahrenheit_temps = list(map(celsius_to_fahrenheit, celsius_temps))\n",
        "\n",
        "# Print results\n",
        "print(fahrenheit_temps)"
      ],
      "metadata": {
        "colab": {
          "base_uri": "https://localhost:8080/"
        },
        "id": "NXM645ZCbZqD",
        "outputId": "0c0403a7-ad3e-4da8-e4a4-09d682611864"
      },
      "execution_count": 17,
      "outputs": [
        {
          "output_type": "stream",
          "name": "stdout",
          "text": [
            "[32.0, 50.0, 68.0, 86.0, 104.0, 212.0]\n"
          ]
        }
      ]
    },
    {
      "cell_type": "code",
      "source": [
        "#10.Create a Python program that uses `filter()` to remove all the vowels from a given string.\n",
        "def remove_vowels(s):\n",
        "    return ''.join(filter(lambda ch: ch.lower() not in 'aeiou', s))\n",
        "\n",
        "# Example usage\n",
        "input_string = \"Hello, World!\"\n",
        "result = remove_vowels(input_string)\n",
        "print(result)"
      ],
      "metadata": {
        "colab": {
          "base_uri": "https://localhost:8080/"
        },
        "id": "V4EAwOR2bi-c",
        "outputId": "02e18fde-b644-43aa-b7fb-a777e4a5b8e2"
      },
      "execution_count": 18,
      "outputs": [
        {
          "output_type": "stream",
          "name": "stdout",
          "text": [
            "Hll, Wrld!\n"
          ]
        }
      ]
    },
    {
      "cell_type": "code",
      "source": [
        "#11.Write a Python program, which returns a list with 2-tuples. Each tuple consists of the order number and theproduct of the price per item and the quantity. The product should be increased by 10,- € if the value of the order is smaller than 100,00 €.Write a Python program using lambda and map.\n",
        "\n",
        "# List of orders: (order number, price per item, quantity)\n",
        "orders = [\n",
        "    (34587, 40.95, 4),   # 40.95 * 4 = 163.8 (no additional charge)\n",
        "    (98762, 56.80, 5),   # 56.80 * 5 = 284 (no additional charge)\n",
        "    (77226, 32.95, 3),   # 32.95 * 3 = 98.85 (less than 100, so +10 →108.85)\n",
        "    (88112, 24.99, 3)    # 24.99 * 3 = 74.97 (less than 100, so +10 → 84.97)\n",
        "]\n",
        "\n",
        "# Lambda function to calculate total price with conditions\n",
        "calculate_total = lambda order: (order[0], order[1] * order[2] + (10 if order[1] * order[2] < 100 else 0))\n",
        "\n",
        "# Apply map to transform the list\n",
        "result = list(map(calculate_total, orders))\n",
        "print(result)"
      ],
      "metadata": {
        "colab": {
          "base_uri": "https://localhost:8080/"
        },
        "id": "-0QA9p2BbsDs",
        "outputId": "eb55aec1-ed31-4192-ad68-0a1ab1f8ccbb"
      },
      "execution_count": 19,
      "outputs": [
        {
          "output_type": "stream",
          "name": "stdout",
          "text": [
            "[(34587, 163.8), (98762, 284.0), (77226, 108.85000000000001), (88112, 84.97)]\n"
          ]
        }
      ]
    }
  ]
}