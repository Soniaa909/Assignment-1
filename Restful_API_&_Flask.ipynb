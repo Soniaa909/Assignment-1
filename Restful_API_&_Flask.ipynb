{
  "cells": [
    {
      "cell_type": "markdown",
      "metadata": {
        "id": "IhAe68UKtK7i"
      },
      "source": [
        "1. What is a RESTful API?\n",
        " - A RESTful API (Representational State Transfer API) is a web service that follows the principles of REST architecture, allowing systems to communicate over HTTP using standard methods like:\n",
        "\n",
        " GET – Retrieve data\n",
        "\n",
        " POST – Create new data\n",
        "\n",
        " PUT – Update existing data\n",
        "\n",
        " DELETE – Remove data\n",
        "\n",
        "2. Explain the concept of API specification.\n",
        " - An API specification is a formal, structured document that defines how an API behaves and how developers can interact with it. It outlines what an API does, how to use it, and what to expect in return. Think of it as a blueprint or contract between the API provider and the user.\n",
        "\n",
        "3. What is Flask, and why is it popular for building APIs?\n",
        " - Flask is a lightweight, open-source Python web framework used for building web applications and RESTful APIs. It’s known for being simple, flexible, and minimalistic, which makes it especially popular among developers building APIs or small to medium-sized web applications.\n",
        "\n",
        " 1.Minimalism and Simplicity:\n",
        "\n",
        "Flask provides just the essentials to get started.\n",
        "\n",
        "We can build an API with only a few lines of code.\n",
        "\n",
        " 2.Flexibility:\n",
        "\n",
        "No enforced directory structure or dependencies.\n",
        "\n",
        "We can structure your project however you like and use only the tools you need.\n",
        "\n",
        "Built-in Development Server & Debugger:\n",
        "\n",
        "Helps during development and testing.\n",
        "\n",
        " 3.Easy to Learn:\n",
        "\n",
        "Great for beginners and rapid prototyping.\n",
        "\n",
        "Clean and readable Python code.\n",
        "\n",
        " 4.Extensible:\n",
        "\n",
        "Easily integrates with extensions (e.g., Flask-RESTful, Flask-JWT, SQLAlchemy).\n",
        "\n",
        "Add features like authentication, database support, or input validation.\n",
        "\n",
        " 5.Large Community and Ecosystem:\n",
        "\n",
        "Well-documented, with plenty of tutorials and community support.\n",
        "\n",
        "\n",
        "\n"
      ]
    },
    {
      "cell_type": "code",
      "execution_count": 1,
      "metadata": {
        "id": "ktILP5NWvb_w",
        "colab": {
          "base_uri": "https://localhost:8080/"
        },
        "outputId": "0a22c9fc-9a71-45e1-c185-f8c57ad7e10e"
      },
      "outputs": [
        {
          "output_type": "stream",
          "name": "stdout",
          "text": [
            " * Serving Flask app '__main__'\n",
            " * Debug mode: on\n"
          ]
        },
        {
          "output_type": "stream",
          "name": "stderr",
          "text": [
            "INFO:werkzeug:\u001b[31m\u001b[1mWARNING: This is a development server. Do not use it in a production deployment. Use a production WSGI server instead.\u001b[0m\n",
            " * Running on http://127.0.0.1:5000\n",
            "INFO:werkzeug:\u001b[33mPress CTRL+C to quit\u001b[0m\n",
            "INFO:werkzeug: * Restarting with stat\n"
          ]
        }
      ],
      "source": [
        "from flask import Flask, jsonify, request\n",
        "\n",
        "app = Flask(__name__)\n",
        "\n",
        "# Example route\n",
        "@app.route('/hello', methods=['GET'])\n",
        "def hello():\n",
        "    return jsonify({'message': 'Hello, world!'})\n",
        "\n",
        "if __name__ == '__main__':\n",
        "    app.run(debug=True)\n"
      ]
    },
    {
      "cell_type": "markdown",
      "metadata": {
        "id": "TfTftU_4v4lg"
      },
      "source": [
        "4. What is routing in Flask?\n",
        " - Routing in Flask is the process of mapping URLs to specific functions (called view functions) that handle requests and return responses. It’s a core part of how a Flask app knows what to do when a user visits a particular URL.\n",
        "\n",
        "5. How do you create a simple Flask application?\n",
        " - ✅ Step 1: Install Flask\n",
        "First, install Flask using pip:\n",
        " ✅ Step 2: Create a Python File\n",
        "Create a file named, for example, app.py.\n",
        "✅ Step 3: Add Basic Flask Code\n"
      ]
    },
    {
      "cell_type": "code",
      "execution_count": 2,
      "metadata": {
        "id": "Vi7G1YNawtcC",
        "colab": {
          "base_uri": "https://localhost:8080/"
        },
        "outputId": "97dfbe33-cdd1-450a-cb7f-b0b749d9a0ca"
      },
      "outputs": [
        {
          "output_type": "stream",
          "name": "stdout",
          "text": [
            " * Serving Flask app '__main__'\n",
            " * Debug mode: on\n"
          ]
        },
        {
          "output_type": "stream",
          "name": "stderr",
          "text": [
            "INFO:werkzeug:\u001b[31m\u001b[1mWARNING: This is a development server. Do not use it in a production deployment. Use a production WSGI server instead.\u001b[0m\n",
            " * Running on http://127.0.0.1:5000\n",
            "INFO:werkzeug:\u001b[33mPress CTRL+C to quit\u001b[0m\n",
            "INFO:werkzeug: * Restarting with stat\n"
          ]
        }
      ],
      "source": [
        "from flask import Flask\n",
        "\n",
        "app = Flask(__name__)\n",
        "\n",
        "@app.route('/')\n",
        "def home():\n",
        "    return \"Hello, Flask!\"\n",
        "\n",
        "if __name__ == '__main__':\n",
        "    app.run(debug=True)"
      ]
    },
    {
      "cell_type": "markdown",
      "metadata": {
        "id": "53hsUxjlxRXT"
      },
      "source": [
        "✅ Step 4: Run the Flask App\n",
        "In your terminal or command prompt, run:"
      ]
    },
    {
      "cell_type": "markdown",
      "metadata": {
        "id": "1zg2uNn_xVSs"
      },
      "source": [
        "6. What are HTTP methods used in RESTful APIs?\n",
        " - In RESTful APIs, HTTP methods define the type of action the client wants to perform on a resource.Here are the most commonly used ones:\n",
        "\n",
        "🔹 1. GET\n",
        "Purpose: Retrieve data from the server.\n",
        "\n",
        "Safe & Idempotent (doesn’t change data).\n",
        "\n",
        "Example: GET /users/123 – fetch user with ID 123.\n",
        "\n",
        "🔹 2. POST\n",
        "Purpose: Create a new resource.\n",
        "\n",
        "Not idempotent (multiple identical requests may create multiple resources).\n",
        "\n",
        "Example: POST /users – create a new user with data in the request body.\n",
        "\n",
        "🔹 3. PUT\n",
        "Purpose: Update an existing resource entirely.\n",
        "\n",
        "Idempotent (repeating it has the same effect).\n",
        "\n",
        "Example: PUT /users/123 – replace user 123 with new data.\n",
        "\n",
        "🔹 4. PATCH\n",
        "Purpose: Partially update a resource.\n",
        "\n",
        "Idempotent, though may depend on implementation.\n",
        "\n",
        "Example: PATCH /users/123 – update only specified fields of user 123.\n",
        "\n",
        "🔹 5. DELETE\n",
        "Purpose: Remove a resource.\n",
        "\n",
        "Idempotent.\n",
        "\n",
        "Example: DELETE /users/123 – delete user with ID 123.\n",
        "\n",
        "🔹 (Bonus) Less Common Methods:\n",
        "OPTIONS: Get communication options for a resource (often used in CORS).\n",
        "\n",
        "HEAD: Like GET, but returns only headers (no body).\n",
        "\n",
        "7. What is the purpose of the @app.route() decorator in Flask?\n",
        " - The @app.route() decorator in Flask is used to bind a specific URL path to a Python function, which is called a view function. It tells Flask: “When someone visits this URL, run this function.” It defines the endpoint of your web app or API.\n",
        "\n",
        "8. What is the difference between GET and POST HTTP methods?\n",
        " - GET methods are used to retrieve data from the server while POST HTTP methods are used to send data to the server to create or process something.\n",
        " - In GET methods data Sent in URL as query parameters (e.g., /search?q=books) while in POST HTTP methods data Sent In\tRequest body (not visible in the URL).\n",
        " - In GET methods data is visible in the URL while in POST HTTP methods data is not shown in the URL.\n",
        " - GET methods can be cached by browsers while POST HTTP methods cannot be cached by defaul.\n",
        "\n",
        "9. How do you handle errors in Flask APIs?\n",
        " - ✅ 1. Using abort() to Return HTTP Error Codes\n",
        "Flask’s abort() function lets you immediately stop a request and return an error."
      ]
    },
    {
      "cell_type": "code",
      "execution_count": 3,
      "metadata": {
        "id": "6P3nuo6jzybo"
      },
      "outputs": [],
      "source": [
        "from flask import Flask, abort\n",
        "\n",
        "app = Flask(__name__)\n",
        "\n",
        "@app.route('/user/<int:user_id>')\n",
        "def get_user(user_id):\n",
        "    if user_id != 1:\n",
        "        abort(404)  # Not Found\n",
        "    return {'id': 1, 'name': 'Alice'}"
      ]
    },
    {
      "cell_type": "markdown",
      "metadata": {
        "id": "aeh47gI74xeu"
      },
      "source": [
        "✅ 2. Custom Error Handlers\n",
        "We can define custom responses for specific error codes (like 404 or 500)."
      ]
    },
    {
      "cell_type": "code",
      "execution_count": 4,
      "metadata": {
        "id": "grC5DGzB40XN"
      },
      "outputs": [],
      "source": [
        "from flask import jsonify\n",
        "\n",
        "@app.errorhandler(404)\n",
        "def not_found(e):\n",
        "    return jsonify({'error': 'Resource not found'}), 404\n",
        "\n",
        "@app.errorhandler(400)\n",
        "def bad_request(e):\n",
        "    return jsonify({'error': 'Bad request'}), 400\n"
      ]
    },
    {
      "cell_type": "markdown",
      "metadata": {
        "id": "3HzlNgLK436y"
      },
      "source": [
        "✅ 3. Handling Exceptions Gracefully\n",
        "We can handle specific exceptions and return structured responses."
      ]
    },
    {
      "cell_type": "code",
      "execution_count": 5,
      "metadata": {
        "id": "OBrDxJat46sj"
      },
      "outputs": [],
      "source": [
        "@app.route('/divide')\n",
        "def divide():\n",
        "    try:\n",
        "        result = 10 / 0\n",
        "        return {'result': result}\n",
        "    except ZeroDivisionError:\n",
        "        return {'error': 'Division by zero is not allowed'}, 400\n"
      ]
    },
    {
      "cell_type": "markdown",
      "metadata": {
        "id": "4dWhXdVU4-AQ"
      },
      "source": [
        "✅ 4. Using Flask Extensions (Optional)\n",
        "For more advanced error handling and validation:\n",
        "\n",
        "Flask-RESTful provides automatic error handling.\n",
        "\n",
        "Flask-Marshmallow for input validation and error responses.\n",
        "\n",
        "10. How do you connect Flask to a SQL database?\n",
        " - To connect Flask to a SQL database, we can use SQLAlchemy, which is a popular Object-Relational Mapper (ORM) that allows you to interact with our database using Python objects instead of raw SQL queries.\n",
        "\n",
        " ✅ Step 1: Install Flask and Flask-SQLAlchemy\n",
        "\n",
        " ✅ Step 2: Create Your Flask App and Configure the Database\n",
        "In your Flask app, you'll need to set the SQLALCHEMY_DATABASE_URI configuration to specify your database connection. For example, we'll use SQLite in this case (though you can use other databases like PostgreSQL, MySQL, etc.)."
      ]
    },
    {
      "cell_type": "markdown",
      "metadata": {
        "id": "L-jY0ZoO7X2G"
      },
      "source": [
        "✅ Step 3: Define our Database Models\n",
        "Define our database tables as Python classes. Each class represents a table in the database, and the class variables represent columns."
      ]
    },
    {
      "cell_type": "markdown",
      "metadata": {
        "id": "EG2KySQU7hgq"
      },
      "source": [
        "✅ Step 4: Create the Database and Tables"
      ]
    },
    {
      "cell_type": "markdown",
      "metadata": {
        "id": "_F6KwKfD7lOP"
      },
      "source": [
        "✅ Step 5: Interact with the Database (CRUD Operations)"
      ]
    },
    {
      "cell_type": "markdown",
      "metadata": {
        "id": "FRgrWBOx7r6o"
      },
      "source": [
        "✅ Step 6: Run the Flask App"
      ]
    },
    {
      "cell_type": "code",
      "execution_count": 11,
      "metadata": {
        "id": "etJiBLUR8KOu",
        "colab": {
          "base_uri": "https://localhost:8080/"
        },
        "outputId": "d5dbe3fe-8d42-44ee-c9c0-f3624967909d"
      },
      "outputs": [
        {
          "output_type": "stream",
          "name": "stdout",
          "text": [
            " * Serving Flask app '__main__'\n",
            " * Debug mode: on\n"
          ]
        },
        {
          "output_type": "stream",
          "name": "stderr",
          "text": [
            "INFO:werkzeug:\u001b[31m\u001b[1mWARNING: This is a development server. Do not use it in a production deployment. Use a production WSGI server instead.\u001b[0m\n",
            " * Running on http://127.0.0.1:5000\n",
            "INFO:werkzeug:\u001b[33mPress CTRL+C to quit\u001b[0m\n",
            "INFO:werkzeug: * Restarting with stat\n"
          ]
        }
      ],
      "source": [
        "if __name__ == '__main__':\n",
        "    app.run(debug=True)\n"
      ]
    },
    {
      "cell_type": "markdown",
      "metadata": {
        "id": "YXAcuo-V8eCx"
      },
      "source": [
        "11. What is the role of Flask-SQLAlchemy?\n",
        " - Flask-SQLAlchemy is an extension for Flask that adds support for SQLAlchemy, the most popular SQL toolkit and Object-Relational Mapper (ORM) in Python.\n",
        "\n",
        " ✅ Role of Flask-SQLAlchemy\n",
        "Flask-SQLAlchemy acts as a bridge between Flask and SQLAlchemy, making it easier to work with databases in Flask applications by:\n",
        "\n",
        "🔹 1. Simplifying Configuration\n",
        "It integrates SQLAlchemy into the Flask app using Flask’s app.config. For example:"
      ]
    },
    {
      "cell_type": "code",
      "execution_count": 14,
      "metadata": {
        "id": "ahGu65wn8ozQ"
      },
      "outputs": [],
      "source": [
        "app.config['SQLALCHEMY_DATABASE_URI'] = 'sqlite:///example.db'\n"
      ]
    },
    {
      "cell_type": "markdown",
      "metadata": {
        "id": "dOSIdrdC8rSU"
      },
      "source": [
        "🔹 2. Managing the Database Connection\n",
        "It automatically manages the database session lifecycle (connections, commits, rollbacks) within Flask's app context.\n",
        "\n",
        "🔹 3. Providing an ORM Layer\n",
        "You can define Python classes (called models) that map to database tables, and interact with the database using Python code instead of SQL:"
      ]
    },
    {
      "cell_type": "markdown",
      "metadata": {
        "id": "39A6ZtRL8xB4"
      },
      "source": [
        "🔹 4. Creating and Managing Tables\n",
        "With db.create_all() and db.drop_all(), you can easily create or delete tables based on your models.\n",
        "\n",
        "🔹 5. Making Queries Easy\n",
        "Flask-SQLAlchemy adds convenience methods like Model.query.all() or Model.query.get(id) to perform common database queries.\n",
        "\n",
        "🔹 6. Supports Relationships\n",
        "We can easily define relationships like one-to-many and many-to-many between tables:"
      ]
    },
    {
      "cell_type": "markdown",
      "metadata": {
        "id": "YtoQT7vb83-S"
      },
      "source": [
        "🔹 7. Integrates with Flask CLI\n",
        "We can run commands like flask shell to interact with your app and database in a pre-configured shell environment."
      ]
    },
    {
      "cell_type": "markdown",
      "metadata": {
        "id": "Wtn7iqlR88XG"
      },
      "source": [
        "12. What are Flask blueprints, and how are they useful?\n",
        " - Flask Blueprints are a way to organize a Flask application into modular, reusable components. They allow you to group routes, templates, static files, and other logic into distinct sections, making large applications easier to manage and scale.\n",
        "\n",
        " ✅ Why Blueprints Are Useful\n",
        "\n",
        "🔹Modularity\tBreak your app into independent pieces (e.g., auth, blog)\n",
        "\n",
        "🔹 Code Organization\tKeeps routes and views clean and maintainable\n",
        "\n",
        "🔹 Reusability\tReuse blueprints across projects\n",
        "\n",
        "🔹 Scalability\tEasier to grow the app without a messy app.py"
      ]
    },
    {
      "cell_type": "markdown",
      "metadata": {
        "id": "RF-vyj1G9ae6"
      },
      "source": [
        "13. What is the purpose of Flask's request object?\n",
        " - The purpose of Flask’s request object is to provide access to all the incoming request data sent by a client (like a browser or an API consumer) when they make an HTTP request to your Flask app.\n",
        "\n",
        "It’s part of Flask’s built-in flask module and is essential for handling form inputs, query parameters, headers, and JSON data in POST, GET, PUT, DELETE requests, etc."
      ]
    },
    {
      "cell_type": "markdown",
      "source": [
        "14. How do you create a RESTful API endpoint using Flask?\n",
        " - To create a RESTful API endpoint using Flask, we define routes that respond to specific HTTP methods (GET, POST, PUT, DELETE, etc.), and use them to handle operations like reading, creating, updating, and deleting resources.\n",
        "\n",
        "✅ Step-by-Step: Create a Simple RESTful API with Flask\n",
        "\n",
        "🔹 Step 1: Install Flask\n",
        "\n",
        "🔹 Step 2: Basic Flask API Example\n",
        "Here’s how to create a basic RESTful API to manage a list of users:"
      ],
      "metadata": {
        "id": "s4bDR4avEYPp"
      }
    },
    {
      "cell_type": "code",
      "source": [
        "from flask import Flask, request, jsonify\n",
        "\n",
        "app = Flask(__name__)\n",
        "\n",
        "# Sample in-memory data (you’d typically use a database)\n",
        "users = [\n",
        "    {\"id\": 1, \"name\": \"Alice\"},\n",
        "    {\"id\": 2, \"name\": \"Bob\"}\n",
        "]\n",
        "\n",
        "# GET all users\n",
        "@app.route('/users', methods=['GET'])\n",
        "def get_users():\n",
        "    return jsonify(users)\n",
        "\n",
        "# GET a single user by ID\n",
        "@app.route('/users/<int:user_id>', methods=['GET'])\n",
        "def get_user(user_id):\n",
        "    user = next((u for u in users if u[\"id\"] == user_id), None)\n",
        "    if user:\n",
        "        return jsonify(user)\n",
        "    return jsonify({\"error\": \"User not found\"}), 404\n",
        "\n",
        "# POST - Create a new user\n",
        "@app.route('/users', methods=['POST'])\n",
        "def create_user():\n",
        "    data = request.get_json()\n",
        "    new_user = {\n",
        "        \"id\": users[-1][\"id\"] + 1 if users else 1,\n",
        "        \"name\": data[\"name\"]\n",
        "    }\n",
        "    users.append(new_user)\n",
        "    return jsonify(new_user), 201\n",
        "\n",
        "# PUT - Update an existing user\n",
        "@app.route('/users/<int:user_id>', methods=['PUT'])\n",
        "def update_user(user_id):\n",
        "    data = request.get_json()\n",
        "    user = next((u for u in users if u[\"id\"] == user_id), None)\n",
        "    if not user:\n",
        "        return jsonify({\"error\": \"User not found\"}), 404\n",
        "    user[\"name\"] = data[\"name\"]\n",
        "    return jsonify(user)\n",
        "\n",
        "# DELETE - Remove a user\n",
        "@app.route('/users/<int:user_id>', methods=['DELETE'])\n",
        "def delete_user(user_id):\n",
        "    global users\n",
        "    users = [u for u in users if u[\"id\"] != user_id]\n",
        "    return jsonify({\"message\": \"User deleted\"}), 200\n",
        "\n",
        "# Run the app\n",
        "if __name__ == '__main__':\n",
        "    app.run(debug=True)\n"
      ],
      "metadata": {
        "id": "zdZe_2_nEpLg",
        "colab": {
          "base_uri": "https://localhost:8080/"
        },
        "outputId": "1cf93615-c039-41e9-e042-251229f57d29"
      },
      "execution_count": 17,
      "outputs": [
        {
          "output_type": "stream",
          "name": "stdout",
          "text": [
            " * Serving Flask app '__main__'\n",
            " * Debug mode: on\n"
          ]
        },
        {
          "output_type": "stream",
          "name": "stderr",
          "text": [
            "INFO:werkzeug:\u001b[31m\u001b[1mWARNING: This is a development server. Do not use it in a production deployment. Use a production WSGI server instead.\u001b[0m\n",
            " * Running on http://127.0.0.1:5000\n",
            "INFO:werkzeug:\u001b[33mPress CTRL+C to quit\u001b[0m\n",
            "INFO:werkzeug: * Restarting with stat\n"
          ]
        }
      ]
    },
    {
      "cell_type": "markdown",
      "source": [
        "15. What is the purpose of Flask's jsonify() function?\n",
        " - The purpose of Flask’s jsonify() function is to convert Python dictionaries or lists into JSON-formatted HTTP responses—which is the standard data format used in RESTful APIs.\n",
        "\n",
        "16. Explain Flask’s url_for() function.\n",
        " - Flask’s url_for() function is used to dynamically build URLs for your application’s routes using the name of the view function, rather than hardcoding the URL paths."
      ],
      "metadata": {
        "id": "0F0qiF1_ErmM"
      }
    },
    {
      "cell_type": "code",
      "source": [
        "from flask import Flask, url_for\n",
        "\n",
        "app = Flask(__name__)\n",
        "\n",
        "@app.route('/hello')\n",
        "def hello():\n",
        "    return \"Hello, World!\"\n",
        "\n",
        "@app.route('/')\n",
        "def index():\n",
        "    return f\"Go to {url_for('hello')}\"\n"
      ],
      "metadata": {
        "id": "YMmgAWr_FXI2"
      },
      "execution_count": 18,
      "outputs": []
    },
    {
      "cell_type": "markdown",
      "source": [
        "17. How does Flask handle static files (CSS, JavaScript, etc.)?\n",
        " - Flask handles static files (like CSS, JavaScript, images, etc.) by serving them from a special static/ directory in your project. Flask automatically maps the /static/ URL path to that folder.\n",
        "\n",
        " ✅ Default Behavior\n",
        "Flask looks for a folder named static/ in your project directory by default.\n",
        "\n",
        "Files in that folder are accessible via URLs like:\n",
        "/static/css/style.css\n",
        "/static/js/app.js\n",
        "/static/images/logo.png\n",
        "\n",
        "18. What is an API specification, and how does it help in building a Flask API?\n",
        " - An API specification is a formal description of how an API works—including its available endpoints, request methods, parameters, data formats, and response structures. It acts like a blueprint for how clients and servers should communicate.\n",
        "\n",
        "✅ How It Helps When Building a Flask API:\n",
        "\n",
        "  - It ensures the API behaves as expected\n",
        "  - It defines how clients should use the API\n",
        "  - It documents tools like Swagger UI can auto-generate docs\n",
        "  - It use libraries like flask-marshmallow to validate against the spec\n",
        "  - It helps write automated tests based on spec\n",
        "  - It Collaborates\tFrontend/backend teams can work in parallel\n",
        "\n",
        "19. What are HTTP status codes, and why are they important in a Flask API?\n",
        " - HTTP status codes are three-digit numbers returned by a web server (including a Flask API) to indicate the result of a client's request. They are part of the HTTP response and help both developers and clients (like web browsers or apps) understand what happened.\n",
        "\n",
        "Why HTTP Status Codes Are Important in Flask APIs:\n",
        "\n",
        "🔹 Communicate outcome -\tClearly tell the client if a request succeeded, failed, or needs changes\n",
        "🔹 Enable error handling\t- Allow clients to handle errors gracefully (e.g., retry, show message)\n",
        "🔹 Follow standards\t- Ensures your API is RESTful and interoperable across systems\n",
        "🔹 Debugging & monitoring\t- Makes it easier to track what’s going wrong in logs or tests.\n",
        "\n",
        "20. How do you handle POST requests in Flask?\n",
        " - Handling a POST Request\n",
        " 1. Import Required Modules\n",
        "\n",
        " 2. Create a Flask App and Define a POST Route\n",
        "\n",
        "\n"
      ],
      "metadata": {
        "id": "4ySAsu5HFXle"
      }
    },
    {
      "cell_type": "code",
      "source": [
        "app = Flask(__name__)\n",
        "\n",
        "@app.route('/submit', methods=['POST'])\n",
        "def submit_data():\n",
        "    data = request.get_json()  # If sending JSON data\n",
        "    name = data.get('name')\n",
        "    return jsonify({\"message\": f\"Hello, {name}!\"}), 200\n"
      ],
      "metadata": {
        "id": "-5CRfo2BL5AB"
      },
      "execution_count": 19,
      "outputs": []
    },
    {
      "cell_type": "markdown",
      "source": [
        "21. How would you secure a Flask API?\n",
        " - ✅ Key Strategies for Securing a Flask API\n",
        " 1. Use HTTPS (SSL/TLS)\n",
        "\n",
        "Always use HTTPS to encrypt communication between clients and your Flask API.\n",
        "\n",
        "You can obtain an SSL certificate for free via Let's Encrypt.\n",
        "\n",
        "Flask can be configured with SSL using ssl_context.\n",
        "\n",
        " 2. Authentication and Authorization\n",
        "\n",
        "Authentication: Verifies who the user is (e.g., via login credentials).\n",
        "\n",
        "Authorization: Determines if the authenticated user can perform specific actions (e.g., admin vs. regular user).\n",
        "\n",
        "Common Techniques:\n",
        "\n",
        "API Key Authentication: Clients send a unique key in the request headers.\n",
        "\n",
        "Bearer Token Authentication (e.g., JWT - JSON Web Tokens).\n",
        "\n",
        "OAuth2: For third-party login via services like Google, Facebook.\n",
        "\n",
        "JWT Example (using PyJWT):"
      ],
      "metadata": {
        "id": "fPBYIdumL-fV"
      }
    },
    {
      "cell_type": "code",
      "source": [
        "import jwt\n",
        "from datetime import datetime, timedelta\n",
        "from flask import request, jsonify\n",
        "\n",
        "# Secret key for JWT signing\n",
        "SECRET_KEY = 'your_secret_key'\n",
        "\n",
        "def create_token(user_id):\n",
        "    expiration = datetime.utcnow() + timedelta(hours=1)\n",
        "    payload = {'user_id': user_id, 'exp': expiration}\n",
        "    token = jwt.encode(payload, SECRET_KEY, algorithm='HS256')\n",
        "    return token\n",
        "\n",
        "@app.route('/login', methods=['POST'])\n",
        "def login():\n",
        "    # Assume username/password authentication here\n",
        "    token = create_token(user_id=123)  # Replace with real user ID\n",
        "    return jsonify({'token': token})\n",
        "\n",
        "@app.route('/protected', methods=['GET'])\n",
        "def protected():\n",
        "    token = request.headers.get('Authorization').split(\" \")[1]\n",
        "    try:\n",
        "        payload = jwt.decode(token, SECRET_KEY, algorithms=['HS256'])\n",
        "        return jsonify({'message': 'Access granted', 'user_id': payload['user_id']})\n",
        "    except jwt.ExpiredSignatureError:\n",
        "        return jsonify({'message': 'Token expired'}), 401\n",
        "    except jwt.InvalidTokenError:\n",
        "        return jsonify({'message': 'Invalid token'}), 403\n"
      ],
      "metadata": {
        "id": "pG3i3wr-MS55"
      },
      "execution_count": 20,
      "outputs": []
    },
    {
      "cell_type": "markdown",
      "source": [
        " 3. Input Validation and Data Sanitization\n",
        "\n",
        "Always validate and sanitize user inputs to prevent SQL injection, XSS (Cross-Site Scripting), and other attacks.\n",
        "\n",
        "Use Marshmallow or Pydantic to validate request data.\n",
        "\n",
        "Flask provides request.form, request.args, request.get_json(), etc. for input access."
      ],
      "metadata": {
        "id": "OraZCYQRMW-E"
      }
    },
    {
      "cell_type": "markdown",
      "source": [
        " 4. Rate Limiting\n",
        "\n",
        "Protect your API from DoS (Denial of Service) attacks by limiting the number of requests a client can make in a given time frame.\n",
        "\n",
        "Use Flask extensions like Flask-Limiter to implement rate limiting."
      ],
      "metadata": {
        "id": "oryZSWEsMob6"
      }
    },
    {
      "cell_type": "markdown",
      "source": [
        " 5. CORS (Cross-Origin Resource Sharing)\n",
        "\n",
        "Protect your API from unauthorized cross-origin requests using CORS. This can be configured using the Flask-CORS extension.\n",
        "\n",
        "Allow only specific domains to access your API."
      ],
      "metadata": {
        "id": "pYX-bSa1MtLU"
      }
    },
    {
      "cell_type": "markdown",
      "source": [
        " 6. Error Handling\n",
        "\n",
        "Avoid exposing sensitive information in error messages (e.g., stack traces).\n",
        "\n",
        "Flask's built-in error handling helps catch exceptions and return proper error codes with appropriate messages."
      ],
      "metadata": {
        "id": "TKdGgl20MxRu"
      }
    },
    {
      "cell_type": "code",
      "source": [
        "@app.errorhandler(404)\n",
        "def not_found(error):\n",
        "    return jsonify({\"message\": \"Resource not found\"}), 404\n"
      ],
      "metadata": {
        "id": "Lf1KfUu9Mz_4"
      },
      "execution_count": 24,
      "outputs": []
    },
    {
      "cell_type": "markdown",
      "source": [
        " 7. Logging and Monitoring\n",
        "\n",
        "Implement logging to track API usage and detect suspicious activity.\n",
        "\n",
        "Use logging libraries like Python's logging module to capture useful events.\n",
        "\n",
        "Integrate with monitoring tools (e.g., Prometheus, Datadog, Sentry) for real-time tracking.\n",
        "\n",
        " 8. Session Management\n",
        "\n",
        "For user-based sessions, Flask offers the session object. Make sure to secure sessions with a strong secret key.\n",
        "\n",
        "Session expiration: Set timeouts to automatically expire sessions after a certain period of inactivity"
      ],
      "metadata": {
        "id": "DmZRCePUM3Mx"
      }
    },
    {
      "cell_type": "markdown",
      "source": [
        "22. What is the significance of the Flask-RESTful extension?\n",
        " - The Flask-RESTful extension is a popular extension for Flask that simplifies the process of building RESTful APIs. It provides helpful tools and abstractions for handling common tasks in API development, such as defining resources, handling HTTP methods (GET, POST, PUT, DELETE), and organizing API endpoints efficiently.\n",
        "\n",
        " Benefits of Flask-RESTful:\n",
        "\n",
        " 1.Resource-based Design:\n",
        "\n",
        " - Flask-RESTful encourages a resource-oriented design, where each endpoint is treated as a resource (like /users, /posts), and HTTP methods represent actions on these resources (like GET, POST, PUT, DELETE).\n",
        "\n",
        " - It makes the code more modular and easier to maintain, especially in larger applications."
      ],
      "metadata": {
        "id": "9aS3aXhIM8R-"
      }
    },
    {
      "cell_type": "markdown",
      "source": [
        " 2.Automatic Request Parsing:\n",
        "\n",
        " - Flask-RESTful automatically handles request parsing (like parsing JSON or form data). It simplifies the extraction of parameters, headers, and data from requests.\n",
        "\n",
        " - The reqparse module in Flask-RESTful allows you to validate and parse incoming data easily."
      ],
      "metadata": {
        "id": "oipNM9n8NiT1"
      }
    },
    {
      "cell_type": "markdown",
      "source": [
        " 3.Support for HTTP Methods:\n",
        "\n",
        " - Flask-RESTful allows you to directly associate HTTP methods (GET, POST, PUT, DELETE) with Python class methods, improving clarity and reducing boilerplate code."
      ],
      "metadata": {
        "id": "ZtpCsJInNpgi"
      }
    },
    {
      "cell_type": "markdown",
      "source": [
        " 4.Serialization and Response Formatting:\n",
        "\n",
        " - Flask-RESTful offers tools to easily serialize data (e.g., converting Python dictionaries or objects into JSON format).\n",
        "\n",
        " - It integrates seamlessly with jsonify() to return proper API responses in the JSON format."
      ],
      "metadata": {
        "id": "lBCLB1TTNvxU"
      }
    },
    {
      "cell_type": "markdown",
      "source": [
        " 5.Error Handling:\n",
        "\n",
        " - Flask-RESTful simplifies error handling by providing customizable error responses. You can easily create structured error messages and return appropriate HTTP status codes."
      ],
      "metadata": {
        "id": "pq-gp6BvN2T8"
      }
    },
    {
      "cell_type": "markdown",
      "source": [
        "23. What is the role of Flask’s session object?\n",
        " - In Flask, the session object is used to store user-specific data that can persist across multiple requests during a user's session. This data is stored on the server side but can be accessed and modified by the user through the client's browser using a secure cookie.\n",
        "\n",
        "The session is useful for things like user authentication, storing user preferences, and tracking user activity between requests."
      ],
      "metadata": {
        "id": "2198egwQN_HQ"
      }
    },
    {
      "cell_type": "code",
      "source": [
        "from flask import Flask, session, redirect, url_for, request\n",
        "\n",
        "app = Flask(__name__)\n",
        "app.secret_key = 'your_secret_key'\n",
        "\n",
        "@app.route('/login', methods=['POST'])\n",
        "def login():\n",
        "    username = request.form['username']\n",
        "    password = request.form['password']\n",
        "\n",
        "    # Authenticate the user (this is a simplified example)\n",
        "    if username == 'admin' and password == 'password123':\n",
        "        session['user_id'] = 1  # Store user ID in session\n",
        "        return redirect(url_for('profile'))\n",
        "    return 'Invalid credentials', 401\n",
        "\n",
        "@app.route('/profile')\n",
        "def profile():\n",
        "    if 'user_id' not in session:\n",
        "        return redirect(url_for('login'))  # Redirect to login if not authenticated\n",
        "    return f\"Welcome, User {session['user_id']}!\"\n",
        "\n",
        "if __name__ == '__main__':\n",
        "    app.run(debug=True)\n"
      ],
      "metadata": {
        "id": "_WtOyzddOa76",
        "colab": {
          "base_uri": "https://localhost:8080/"
        },
        "outputId": "8f68e9a2-91e9-4390-c94d-bad58e4486c6"
      },
      "execution_count": 30,
      "outputs": [
        {
          "output_type": "stream",
          "name": "stdout",
          "text": [
            " * Serving Flask app '__main__'\n",
            " * Debug mode: on\n"
          ]
        },
        {
          "output_type": "stream",
          "name": "stderr",
          "text": [
            "INFO:werkzeug:\u001b[31m\u001b[1mWARNING: This is a development server. Do not use it in a production deployment. Use a production WSGI server instead.\u001b[0m\n",
            " * Running on http://127.0.0.1:5000\n",
            "INFO:werkzeug:\u001b[33mPress CTRL+C to quit\u001b[0m\n",
            "INFO:werkzeug: * Restarting with stat\n"
          ]
        }
      ]
    },
    {
      "cell_type": "code",
      "source": [
        "#1. How do you create a basic Flask application?\n",
        "from flask import Flask\n",
        "\n",
        "app = Flask(__name__)\n",
        "\n",
        "@app.route('/')\n",
        "def home():\n",
        "    return \"Hello, Flask!\"\n",
        "\n",
        "if __name__ == '__main__':\n",
        "    app.run(debug=True)\n"
      ],
      "metadata": {
        "colab": {
          "base_uri": "https://localhost:8080/"
        },
        "id": "SoOtmg5mJdaS",
        "outputId": "7e61c5b4-928e-440d-e2e9-1b872553a911"
      },
      "execution_count": 31,
      "outputs": [
        {
          "output_type": "stream",
          "name": "stdout",
          "text": [
            " * Serving Flask app '__main__'\n",
            " * Debug mode: on\n"
          ]
        },
        {
          "output_type": "stream",
          "name": "stderr",
          "text": [
            "INFO:werkzeug:\u001b[31m\u001b[1mWARNING: This is a development server. Do not use it in a production deployment. Use a production WSGI server instead.\u001b[0m\n",
            " * Running on http://127.0.0.1:5000\n",
            "INFO:werkzeug:\u001b[33mPress CTRL+C to quit\u001b[0m\n",
            "INFO:werkzeug: * Restarting with stat\n"
          ]
        }
      ]
    },
    {
      "cell_type": "code",
      "source": [
        "#2.  How do you serve static files like images or CSS in Flask?\n",
        "from flask import Flask, render_template\n",
        "\n",
        "app = Flask(__name__)\n",
        "\n",
        "@app.route('/')\n",
        "def home():\n",
        "    return render_template('index.html')\n",
        "\n",
        "if __name__ == '__main__':\n",
        "    app.run(debug=True)\n"
      ],
      "metadata": {
        "colab": {
          "base_uri": "https://localhost:8080/"
        },
        "id": "gvP3AZI1KIeT",
        "outputId": "627c5508-f840-4026-96b7-8741870c52f2"
      },
      "execution_count": 32,
      "outputs": [
        {
          "output_type": "stream",
          "name": "stdout",
          "text": [
            " * Serving Flask app '__main__'\n",
            " * Debug mode: on\n"
          ]
        },
        {
          "output_type": "stream",
          "name": "stderr",
          "text": [
            "INFO:werkzeug:\u001b[31m\u001b[1mWARNING: This is a development server. Do not use it in a production deployment. Use a production WSGI server instead.\u001b[0m\n",
            " * Running on http://127.0.0.1:5000\n",
            "INFO:werkzeug:\u001b[33mPress CTRL+C to quit\u001b[0m\n",
            "INFO:werkzeug: * Restarting with stat\n"
          ]
        }
      ]
    },
    {
      "cell_type": "code",
      "source": [
        "#3.  How do you define different routes with different HTTP methods in Flask?\n",
        "from flask import Flask, request\n",
        "\n",
        "app = Flask(__name__)\n",
        "\n",
        "@app.route('/', methods=['GET'])\n",
        "def index():\n",
        "    return \"This is a GET request.\"\n",
        "\n",
        "@app.route('/submit', methods=['POST'])\n",
        "def submit():\n",
        "    data = request.form.get('name')\n",
        "    return f\"Hello, {data}! (from POST request)\"\n",
        "\n",
        "if __name__ == '__main__':\n",
        "    app.run(debug=True)\n",
        "@app.route('/form', methods=['GET', 'POST'])\n",
        "def form():\n",
        "    if request.method == 'POST':\n",
        "        name = request.form.get('name')\n",
        "        return f\"Submitted: {name}\"\n",
        "    return '''\n",
        "        <form method=\"POST\">\n",
        "            Name: <input name=\"name\">\n",
        "            <input type=\"submit\">\n",
        "        </form>\n",
        "    '''\n"
      ],
      "metadata": {
        "colab": {
          "base_uri": "https://localhost:8080/"
        },
        "id": "Ppf5E573LFxZ",
        "outputId": "1863bb3e-481e-475f-ed58-d23dbdc9a425"
      },
      "execution_count": 34,
      "outputs": [
        {
          "output_type": "stream",
          "name": "stdout",
          "text": [
            " * Serving Flask app '__main__'\n",
            " * Debug mode: on\n"
          ]
        },
        {
          "output_type": "stream",
          "name": "stderr",
          "text": [
            "INFO:werkzeug:\u001b[31m\u001b[1mWARNING: This is a development server. Do not use it in a production deployment. Use a production WSGI server instead.\u001b[0m\n",
            " * Running on http://127.0.0.1:5000\n",
            "INFO:werkzeug:\u001b[33mPress CTRL+C to quit\u001b[0m\n",
            "INFO:werkzeug: * Restarting with stat\n"
          ]
        }
      ]
    },
    {
      "cell_type": "code",
      "source": [
        "#4.How do you render HTML templates in Flask?\n",
        "from flask import Flask, render_template\n",
        "\n",
        "app = Flask(__name__)\n",
        "\n",
        "@app.route('/')\n",
        "def home():\n",
        "    return render_template('index.html', name=\"Flask\")\n",
        "\n",
        "if __name__ == '__main__':\n",
        "    app.run(debug=True)\n"
      ],
      "metadata": {
        "colab": {
          "base_uri": "https://localhost:8080/"
        },
        "id": "m31BzDcrL9fb",
        "outputId": "0c1bbde1-b76f-48a4-f421-934a03c62305"
      },
      "execution_count": 35,
      "outputs": [
        {
          "output_type": "stream",
          "name": "stdout",
          "text": [
            " * Serving Flask app '__main__'\n",
            " * Debug mode: on\n"
          ]
        },
        {
          "output_type": "stream",
          "name": "stderr",
          "text": [
            "INFO:werkzeug:\u001b[31m\u001b[1mWARNING: This is a development server. Do not use it in a production deployment. Use a production WSGI server instead.\u001b[0m\n",
            " * Running on http://127.0.0.1:5000\n",
            "INFO:werkzeug:\u001b[33mPress CTRL+C to quit\u001b[0m\n",
            "INFO:werkzeug: * Restarting with stat\n"
          ]
        }
      ]
    },
    {
      "cell_type": "code",
      "source": [
        "#5. How can you generate URLs for routes in Flask using url_for?\n",
        "from flask import Flask, url_for, redirect\n",
        "\n",
        "app = Flask(__name__)\n",
        "\n",
        "@app.route('/')\n",
        "def home():\n",
        "    return 'Welcome to the homepage!'\n",
        "\n",
        "@app.route('/about')\n",
        "def about():\n",
        "    return 'About page'\n",
        "\n",
        "@app.route('/go-to-about')\n",
        "def go_to_about():\n",
        "    # Redirect to the 'about' route using url_for\n",
        "    return redirect(url_for('about'))\n",
        "\n",
        "if __name__ == '__main__':\n",
        "    app.run(debug=True)\n"
      ],
      "metadata": {
        "colab": {
          "base_uri": "https://localhost:8080/"
        },
        "id": "UyvlOMBqMfBb",
        "outputId": "f02b8125-5238-4260-9322-14f3a7b6adb9"
      },
      "execution_count": 36,
      "outputs": [
        {
          "output_type": "stream",
          "name": "stdout",
          "text": [
            " * Serving Flask app '__main__'\n",
            " * Debug mode: on\n"
          ]
        },
        {
          "output_type": "stream",
          "name": "stderr",
          "text": [
            "INFO:werkzeug:\u001b[31m\u001b[1mWARNING: This is a development server. Do not use it in a production deployment. Use a production WSGI server instead.\u001b[0m\n",
            " * Running on http://127.0.0.1:5000\n",
            "INFO:werkzeug:\u001b[33mPress CTRL+C to quit\u001b[0m\n",
            "INFO:werkzeug: * Restarting with stat\n"
          ]
        }
      ]
    },
    {
      "cell_type": "code",
      "source": [
        "#6.How do you handle forms in Flask?\n",
        "from flask import Flask, request, render_template\n",
        "\n",
        "app = Flask(__name__)\n",
        "\n",
        "@app.route('/')\n",
        "def index():\n",
        "    return render_template('form.html')\n",
        "\n",
        "@app.route('/submit', methods=['POST'])\n",
        "def submit():\n",
        "    name = request.form.get('username')  # Get form data\n",
        "    return f\"Hello, {name}!\"\n",
        "\n",
        "if __name__ == '__main__':\n",
        "    app.run(debug=True)\n"
      ],
      "metadata": {
        "colab": {
          "base_uri": "https://localhost:8080/"
        },
        "id": "rrmrgYP7MwtI",
        "outputId": "844a363b-2655-43f7-dfc2-7cd6279b3d3f"
      },
      "execution_count": 37,
      "outputs": [
        {
          "output_type": "stream",
          "name": "stdout",
          "text": [
            " * Serving Flask app '__main__'\n",
            " * Debug mode: on\n"
          ]
        },
        {
          "output_type": "stream",
          "name": "stderr",
          "text": [
            "INFO:werkzeug:\u001b[31m\u001b[1mWARNING: This is a development server. Do not use it in a production deployment. Use a production WSGI server instead.\u001b[0m\n",
            " * Running on http://127.0.0.1:5000\n",
            "INFO:werkzeug:\u001b[33mPress CTRL+C to quit\u001b[0m\n",
            "INFO:werkzeug: * Restarting with stat\n"
          ]
        }
      ]
    },
    {
      "cell_type": "code",
      "source": [
        "#7. How can you validate form data in Flask?\n",
        "from flask import Flask, request, render_template_string\n",
        "\n",
        "app = Flask(__name__)\n",
        "\n",
        "@app.route('/form', methods=['GET', 'POST'])\n",
        "def form():\n",
        "    error = None\n",
        "    if request.method == 'POST':\n",
        "        name = request.form.get('name', '').strip()\n",
        "        if not name:\n",
        "            error = \"Name is required!\"\n",
        "        else:\n",
        "            return f\"Hello, {name}!\"\n",
        "\n",
        "    return render_template_string(\"\"\"\n",
        "        <form method=\"POST\">\n",
        "            Name: <input name=\"name\">\n",
        "            <input type=\"submit\">\n",
        "            {% if error %}<p style=\"color:red;\">{{ error }}</p>{% endif %}\n",
        "        </form>\n",
        "    \"\"\", error=error)\n",
        "\n",
        "if __name__ == '__main__':\n",
        "    app.run(debug=True)\n"
      ],
      "metadata": {
        "colab": {
          "base_uri": "https://localhost:8080/"
        },
        "id": "SX0V8SRLM7EJ",
        "outputId": "f9b30114-2997-4ac3-b0c4-529e1b52c4f2"
      },
      "execution_count": 39,
      "outputs": [
        {
          "output_type": "stream",
          "name": "stdout",
          "text": [
            " * Serving Flask app '__main__'\n",
            " * Debug mode: on\n"
          ]
        },
        {
          "output_type": "stream",
          "name": "stderr",
          "text": [
            "INFO:werkzeug:\u001b[31m\u001b[1mWARNING: This is a development server. Do not use it in a production deployment. Use a production WSGI server instead.\u001b[0m\n",
            " * Running on http://127.0.0.1:5000\n",
            "INFO:werkzeug:\u001b[33mPress CTRL+C to quit\u001b[0m\n",
            "INFO:werkzeug: * Restarting with stat\n"
          ]
        }
      ]
    },
    {
      "cell_type": "code",
      "source": [
        "#8. How do you manage sessions in Flask?\n",
        "from flask import Flask, session, redirect, url_for, request\n",
        "\n",
        "app = Flask(__name__)\n",
        "app.secret_key = 'your_secret_key_here'  # Keep this secret and strong!\n",
        "@app.route('/login', methods=['GET', 'POST'])\n",
        "def login():\n",
        "    if request.method == 'POST':\n",
        "        session['username'] = request.form['username']  # Store in session\n",
        "        return redirect(url_for('profile'))\n",
        "    return '''\n",
        "        <form method=\"POST\">\n",
        "            Username: <input type=\"text\" name=\"username\">\n",
        "            <input type=\"submit\">\n",
        "        </form>\n",
        "    '''\n",
        "\n",
        "@app.route('/profile')\n",
        "def profile():\n",
        "    username = session.get('username')\n",
        "    if not username:\n",
        "        return redirect(url_for('login'))\n",
        "    return f\"Welcome, {username}!\"\n",
        "@app.route('/logout')\n",
        "def logout():\n",
        "    session.pop('username', None)  # Remove specific item\n",
        "    return redirect(url_for('login'))\n"
      ],
      "metadata": {
        "id": "IkfVXLJKNh1e"
      },
      "execution_count": 40,
      "outputs": []
    },
    {
      "cell_type": "code",
      "source": [
        "#9. How do you redirect to a different route in Flask?\n",
        "from flask import Flask, redirect, url_for\n",
        "\n",
        "app = Flask(__name__)\n",
        "\n",
        "@app.route('/')\n",
        "def home():\n",
        "    return \"Welcome to the homepage!\"\n",
        "\n",
        "@app.route('/old-page')\n",
        "def old_page():\n",
        "    # Redirect to the 'new_page' route\n",
        "    return redirect(url_for('new_page'))\n",
        "\n",
        "@app.route('/new-page')\n",
        "def new_page():\n",
        "    return \"This is the new page.\"\n"
      ],
      "metadata": {
        "id": "G_Q7XuyaNuc-"
      },
      "execution_count": 41,
      "outputs": []
    },
    {
      "cell_type": "code",
      "source": [
        "#10.  How do you handle errors in Flask (e.g., 404)?\n",
        "from flask import Flask, render_template\n",
        "\n",
        "app = Flask(__name__)\n",
        "\n",
        "@app.errorhandler(404)\n",
        "def page_not_found(e):\n",
        "    return render_template('404.html'), 404\n",
        "@app.errorhandler(500)\n",
        "def internal_server_error(e):\n",
        "    return render_template('500.html'), 500\n",
        "@app.errorhandler(403)\n",
        "def forbidden(e):\n",
        "    return \"Access Denied\", 403\n"
      ],
      "metadata": {
        "id": "tcV1qxHMN6gV"
      },
      "execution_count": 43,
      "outputs": []
    },
    {
      "cell_type": "code",
      "source": [
        "#11. How do you structure a Flask app using Blueprints?\n",
        "from flask import Blueprint, render_template\n",
        "\n",
        "auth = Blueprint('auth', __name__)\n",
        "\n",
        "@auth.route('/login')\n",
        "def login():\n",
        "    return render_template('login.html')\n",
        "\n",
        "from flask import Blueprint, render_template\n",
        "\n",
        "main = Blueprint('main', __name__)\n",
        "\n",
        "@main.route('/')\n",
        "def home():\n",
        "    return render_template('home.html')\n",
        "\n",
        "\n"
      ],
      "metadata": {
        "id": "NYHSgdHcOioy"
      },
      "execution_count": 50,
      "outputs": []
    },
    {
      "cell_type": "code",
      "source": [
        "#12.  How do you define a custom Jinja filter in Flask?\n",
        "from flask import Flask\n",
        "\n",
        "app = Flask(__name__)\n",
        "\n",
        "# Custom filter function\n",
        "def reverse_string(s):\n",
        "    return s[::-1]\n",
        "\n",
        "# Register the filter with Jinja\n",
        "app.jinja_env.filters['reverse'] = reverse_string\n",
        "\n",
        "if __name__ == '__main__':\n",
        "    app.run(debug=True)\n"
      ],
      "metadata": {
        "colab": {
          "base_uri": "https://localhost:8080/"
        },
        "id": "-dwL5AvMPLsA",
        "outputId": "de413fb4-8190-4dba-fd4b-1d0406514875"
      },
      "execution_count": 51,
      "outputs": [
        {
          "output_type": "stream",
          "name": "stdout",
          "text": [
            " * Serving Flask app '__main__'\n",
            " * Debug mode: on\n"
          ]
        },
        {
          "output_type": "stream",
          "name": "stderr",
          "text": [
            "INFO:werkzeug:\u001b[31m\u001b[1mWARNING: This is a development server. Do not use it in a production deployment. Use a production WSGI server instead.\u001b[0m\n",
            " * Running on http://127.0.0.1:5000\n",
            "INFO:werkzeug:\u001b[33mPress CTRL+C to quit\u001b[0m\n",
            "INFO:werkzeug: * Restarting with stat\n"
          ]
        }
      ]
    },
    {
      "cell_type": "code",
      "source": [
        "#13. How can you redirect with query parameters in Flask?\n",
        "from flask import Flask, redirect, url_for\n",
        "\n",
        "app = Flask(__name__)\n",
        "\n",
        "@app.route('/')\n",
        "def home():\n",
        "    return redirect(url_for('search', query='flask', page=2))\n",
        "\n",
        "@app.route('/search')\n",
        "def search():\n",
        "    query = request.args.get('query')  # Retrieve query parameter\n",
        "    page = request.args.get('page')    # Retrieve page parameter\n",
        "    return f\"Searching for: {query}, Page: {page}\"\n",
        "\n",
        "if __name__ == '__main__':\n",
        "    app.run(debug=True)\n"
      ],
      "metadata": {
        "colab": {
          "base_uri": "https://localhost:8080/"
        },
        "id": "i8oP7P0OPbYw",
        "outputId": "5abcae2a-2b9a-4f5d-dd9c-29304593a1b7"
      },
      "execution_count": 52,
      "outputs": [
        {
          "output_type": "stream",
          "name": "stdout",
          "text": [
            " * Serving Flask app '__main__'\n",
            " * Debug mode: on\n"
          ]
        },
        {
          "output_type": "stream",
          "name": "stderr",
          "text": [
            "INFO:werkzeug:\u001b[31m\u001b[1mWARNING: This is a development server. Do not use it in a production deployment. Use a production WSGI server instead.\u001b[0m\n",
            " * Running on http://127.0.0.1:5000\n",
            "INFO:werkzeug:\u001b[33mPress CTRL+C to quit\u001b[0m\n",
            "INFO:werkzeug: * Restarting with stat\n"
          ]
        }
      ]
    },
    {
      "cell_type": "code",
      "source": [
        "#14.How do you return JSON responses in Flask?\n",
        "from flask import Flask, jsonify\n",
        "\n",
        "app = Flask(__name__)\n",
        "\n",
        "@app.route('/api')\n",
        "def api():\n",
        "    data = {\n",
        "        'message': 'Hello, Flask!',\n",
        "        'status': 'success'\n",
        "    }\n",
        "    return jsonify(data)\n",
        "\n",
        "if __name__ == '__main__':\n",
        "    app.run(debug=True)\n"
      ],
      "metadata": {
        "colab": {
          "base_uri": "https://localhost:8080/"
        },
        "id": "tp6rhhcoPnRq",
        "outputId": "38092ec6-2d84-4c60-cd10-205c5ec88bdd"
      },
      "execution_count": 53,
      "outputs": [
        {
          "output_type": "stream",
          "name": "stdout",
          "text": [
            " * Serving Flask app '__main__'\n",
            " * Debug mode: on\n"
          ]
        },
        {
          "output_type": "stream",
          "name": "stderr",
          "text": [
            "INFO:werkzeug:\u001b[31m\u001b[1mWARNING: This is a development server. Do not use it in a production deployment. Use a production WSGI server instead.\u001b[0m\n",
            " * Running on http://127.0.0.1:5000\n",
            "INFO:werkzeug:\u001b[33mPress CTRL+C to quit\u001b[0m\n",
            "INFO:werkzeug: * Restarting with stat\n"
          ]
        }
      ]
    },
    {
      "cell_type": "code",
      "source": [
        "#15.  How do you capture URL parameters in Flask?\n",
        "from flask import Flask\n",
        "\n",
        "app = Flask(__name__)\n",
        "\n",
        "@app.route('/user/<username>')\n",
        "def show_user_profile(username):\n",
        "    return f'User: {username}'\n",
        "\n",
        "if __name__ == '__main__':\n",
        "    app.run(debug=True)\n"
      ],
      "metadata": {
        "colab": {
          "base_uri": "https://localhost:8080/"
        },
        "id": "iP0QDTjRPztR",
        "outputId": "db3ac7a3-9006-47f1-d7bc-b0f27c8e760f"
      },
      "execution_count": 54,
      "outputs": [
        {
          "output_type": "stream",
          "name": "stdout",
          "text": [
            " * Serving Flask app '__main__'\n",
            " * Debug mode: on\n"
          ]
        },
        {
          "output_type": "stream",
          "name": "stderr",
          "text": [
            "INFO:werkzeug:\u001b[31m\u001b[1mWARNING: This is a development server. Do not use it in a production deployment. Use a production WSGI server instead.\u001b[0m\n",
            " * Running on http://127.0.0.1:5000\n",
            "INFO:werkzeug:\u001b[33mPress CTRL+C to quit\u001b[0m\n",
            "INFO:werkzeug: * Restarting with stat\n"
          ]
        }
      ]
    }
  ],
  "metadata": {
    "colab": {
      "provenance": []
    },
    "kernelspec": {
      "display_name": "Python 3",
      "name": "python3"
    },
    "language_info": {
      "name": "python"
    }
  },
  "nbformat": 4,
  "nbformat_minor": 0
}